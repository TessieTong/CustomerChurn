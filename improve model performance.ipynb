{
 "cells": [
  {
   "cell_type": "markdown",
   "metadata": {},
   "source": [
    "# Predict Customer Churn - Improve ML models performance\n",
    "\n",
    "This project is to build a predictive machine learning model using the customer churn data available at Kaggle website. <br>\n",
    "Part 3 will look at training various classification models and hyperparameter tuning selected candidate models.<br>\n",
    "\n",
    "The classification algorithms to be considered:\n",
    "1. K nearest neighbours (KNN)\n",
    "2. logistic regression\n",
    "3. Decision Trees \n",
    "4. SVM linear\n",
    "5. SVM RBF\n",
    "6. Neural network (multi-layer perceptron)\n",
    "7. Guassian process\n",
    "8. Naive-Bayes (GaussianNB)\n",
    "9. Quadratic Discriminant Analysis"
   ]
  },
  {
   "cell_type": "markdown",
   "metadata": {},
   "source": [
    "## Prepare data\n",
    "### Global functions"
   ]
  },
  {
   "cell_type": "code",
   "execution_count": 2,
   "metadata": {},
   "outputs": [],
   "source": [
    "import pandas as pd\n",
    "import numpy as np\n",
    "import matplotlib.pyplot as plt\n",
    "import seaborn as sns\n",
    "\n",
    "import joblib\n",
    "from time import time\n",
    "\n",
    "from sklearn.model_selection import train_test_split\n",
    "from sklearn.pipeline import Pipeline\n",
    "\n",
    "import customfunctions"
   ]
  },
  {
   "cell_type": "code",
   "execution_count": 3,
   "metadata": {},
   "outputs": [],
   "source": [
    "# Calculate roc_auc score\n",
    "def calculate_roc_auc_score(model,X, y): \n",
    "    pred_proba = model.predict_proba(X)\n",
    "    roc_auc = roc_auc_score(y, pred_proba[:,1])\n",
    "    return roc_auc"
   ]
  },
  {
   "cell_type": "markdown",
   "metadata": {},
   "source": [
    "### Read in data"
   ]
  },
  {
   "cell_type": "code",
   "execution_count": 4,
   "metadata": {},
   "outputs": [
    {
     "name": "stdout",
     "output_type": "stream",
     "text": [
      "Shape: (17654, 20)\n"
     ]
    },
    {
     "data": {
      "text/html": [
       "<div>\n",
       "<style scoped>\n",
       "    .dataframe tbody tr th:only-of-type {\n",
       "        vertical-align: middle;\n",
       "    }\n",
       "\n",
       "    .dataframe tbody tr th {\n",
       "        vertical-align: top;\n",
       "    }\n",
       "\n",
       "    .dataframe thead th {\n",
       "        text-align: right;\n",
       "    }\n",
       "</style>\n",
       "<table border=\"1\" class=\"dataframe\">\n",
       "  <thead>\n",
       "    <tr style=\"text-align: right;\">\n",
       "      <th></th>\n",
       "      <th>customer_id</th>\n",
       "      <th>vintage</th>\n",
       "      <th>age</th>\n",
       "      <th>gender</th>\n",
       "      <th>dependents</th>\n",
       "      <th>occupation</th>\n",
       "      <th>customer_nw_category</th>\n",
       "      <th>branch_code</th>\n",
       "      <th>days_since_last_transaction</th>\n",
       "      <th>current_balance</th>\n",
       "      <th>previous_month_end_balance</th>\n",
       "      <th>average_monthly_balance_prevQ</th>\n",
       "      <th>average_monthly_balance_prevQ2</th>\n",
       "      <th>current_month_credit</th>\n",
       "      <th>previous_month_credit</th>\n",
       "      <th>current_month_debit</th>\n",
       "      <th>previous_month_debit</th>\n",
       "      <th>current_month_balance</th>\n",
       "      <th>previous_month_balance</th>\n",
       "      <th>churn</th>\n",
       "    </tr>\n",
       "  </thead>\n",
       "  <tbody>\n",
       "    <tr>\n",
       "      <th>3134</th>\n",
       "      <td>4295.0</td>\n",
       "      <td>1439.0</td>\n",
       "      <td>40.0</td>\n",
       "      <td>Female</td>\n",
       "      <td>0.0</td>\n",
       "      <td>Accountant</td>\n",
       "      <td>Medium</td>\n",
       "      <td>728.0</td>\n",
       "      <td>40.0</td>\n",
       "      <td>2174.85</td>\n",
       "      <td>2246.28</td>\n",
       "      <td>2117.95</td>\n",
       "      <td>2916.78</td>\n",
       "      <td>0.21</td>\n",
       "      <td>9.19</td>\n",
       "      <td>71.64</td>\n",
       "      <td>0.21</td>\n",
       "      <td>2177.31</td>\n",
       "      <td>2085.94</td>\n",
       "      <td>Yes</td>\n",
       "    </tr>\n",
       "    <tr>\n",
       "      <th>13531</th>\n",
       "      <td>18539.0</td>\n",
       "      <td>1810.0</td>\n",
       "      <td>32.0</td>\n",
       "      <td>Female</td>\n",
       "      <td>0.0</td>\n",
       "      <td>Engineer</td>\n",
       "      <td>Medium</td>\n",
       "      <td>443.0</td>\n",
       "      <td>230.0</td>\n",
       "      <td>2956.71</td>\n",
       "      <td>2956.71</td>\n",
       "      <td>2956.71</td>\n",
       "      <td>2933.14</td>\n",
       "      <td>0.23</td>\n",
       "      <td>0.23</td>\n",
       "      <td>0.23</td>\n",
       "      <td>0.23</td>\n",
       "      <td>2956.71</td>\n",
       "      <td>2956.71</td>\n",
       "      <td>Yes</td>\n",
       "    </tr>\n",
       "    <tr>\n",
       "      <th>9746</th>\n",
       "      <td>13374.0</td>\n",
       "      <td>1462.0</td>\n",
       "      <td>51.0</td>\n",
       "      <td>Female</td>\n",
       "      <td>0.0</td>\n",
       "      <td>Engineer</td>\n",
       "      <td>Medium</td>\n",
       "      <td>2068.0</td>\n",
       "      <td>200.0</td>\n",
       "      <td>1537.86</td>\n",
       "      <td>1531.25</td>\n",
       "      <td>1809.04</td>\n",
       "      <td>8937.77</td>\n",
       "      <td>0.44</td>\n",
       "      <td>0.44</td>\n",
       "      <td>0.44</td>\n",
       "      <td>0.44</td>\n",
       "      <td>1535.53</td>\n",
       "      <td>1531.25</td>\n",
       "      <td>Yes</td>\n",
       "    </tr>\n",
       "    <tr>\n",
       "      <th>3195</th>\n",
       "      <td>4379.0</td>\n",
       "      <td>501.0</td>\n",
       "      <td>48.0</td>\n",
       "      <td>Male</td>\n",
       "      <td>2.0</td>\n",
       "      <td>Engineer</td>\n",
       "      <td>Medium</td>\n",
       "      <td>1487.0</td>\n",
       "      <td>44.0</td>\n",
       "      <td>371.93</td>\n",
       "      <td>9831.46</td>\n",
       "      <td>9763.02</td>\n",
       "      <td>15823.57</td>\n",
       "      <td>0.04</td>\n",
       "      <td>2857.19</td>\n",
       "      <td>159.57</td>\n",
       "      <td>3016.71</td>\n",
       "      <td>9359.94</td>\n",
       "      <td>9805.03</td>\n",
       "      <td>No</td>\n",
       "    </tr>\n",
       "    <tr>\n",
       "      <th>12113</th>\n",
       "      <td>16591.0</td>\n",
       "      <td>2740.0</td>\n",
       "      <td>35.0</td>\n",
       "      <td>Male</td>\n",
       "      <td>0.0</td>\n",
       "      <td>Accountant</td>\n",
       "      <td>Low</td>\n",
       "      <td>148.0</td>\n",
       "      <td>87.0</td>\n",
       "      <td>10744.03</td>\n",
       "      <td>11449.50</td>\n",
       "      <td>11199.84</td>\n",
       "      <td>10653.70</td>\n",
       "      <td>0.33</td>\n",
       "      <td>0.33</td>\n",
       "      <td>705.80</td>\n",
       "      <td>0.33</td>\n",
       "      <td>10792.69</td>\n",
       "      <td>11449.50</td>\n",
       "      <td>Yes</td>\n",
       "    </tr>\n",
       "  </tbody>\n",
       "</table>\n",
       "</div>"
      ],
      "text/plain": [
       "       customer_id  vintage   age  gender  dependents  occupation  \\\n",
       "3134        4295.0   1439.0  40.0  Female         0.0  Accountant   \n",
       "13531      18539.0   1810.0  32.0  Female         0.0    Engineer   \n",
       "9746       13374.0   1462.0  51.0  Female         0.0    Engineer   \n",
       "3195        4379.0    501.0  48.0    Male         2.0    Engineer   \n",
       "12113      16591.0   2740.0  35.0    Male         0.0  Accountant   \n",
       "\n",
       "      customer_nw_category  branch_code  days_since_last_transaction  \\\n",
       "3134                Medium        728.0                         40.0   \n",
       "13531               Medium        443.0                        230.0   \n",
       "9746                Medium       2068.0                        200.0   \n",
       "3195                Medium       1487.0                         44.0   \n",
       "12113                  Low        148.0                         87.0   \n",
       "\n",
       "       current_balance  previous_month_end_balance  \\\n",
       "3134           2174.85                     2246.28   \n",
       "13531          2956.71                     2956.71   \n",
       "9746           1537.86                     1531.25   \n",
       "3195            371.93                     9831.46   \n",
       "12113         10744.03                    11449.50   \n",
       "\n",
       "       average_monthly_balance_prevQ  average_monthly_balance_prevQ2  \\\n",
       "3134                         2117.95                         2916.78   \n",
       "13531                        2956.71                         2933.14   \n",
       "9746                         1809.04                         8937.77   \n",
       "3195                         9763.02                        15823.57   \n",
       "12113                       11199.84                        10653.70   \n",
       "\n",
       "       current_month_credit  previous_month_credit  current_month_debit  \\\n",
       "3134                   0.21                   9.19                71.64   \n",
       "13531                  0.23                   0.23                 0.23   \n",
       "9746                   0.44                   0.44                 0.44   \n",
       "3195                   0.04                2857.19               159.57   \n",
       "12113                  0.33                   0.33               705.80   \n",
       "\n",
       "       previous_month_debit  current_month_balance  previous_month_balance  \\\n",
       "3134                   0.21                2177.31                 2085.94   \n",
       "13531                  0.23                2956.71                 2956.71   \n",
       "9746                   0.44                1535.53                 1531.25   \n",
       "3195                3016.71                9359.94                 9805.03   \n",
       "12113                  0.33               10792.69                11449.50   \n",
       "\n",
       "      churn  \n",
       "3134    Yes  \n",
       "13531   Yes  \n",
       "9746    Yes  \n",
       "3195     No  \n",
       "12113   Yes  "
      ]
     },
     "execution_count": 4,
     "metadata": {},
     "output_type": "execute_result"
    }
   ],
   "source": [
    "## Read in data\n",
    "df0 = pd.read_csv('./data/visathon_train_data.csv')#,index=customer_id)\n",
    "print('Shape: {}'.format(df0.shape))\n",
    "df0.sample(5)"
   ]
  },
  {
   "cell_type": "markdown",
   "metadata": {},
   "source": [
    "### Split data"
   ]
  },
  {
   "cell_type": "code",
   "execution_count": 5,
   "metadata": {},
   "outputs": [],
   "source": [
    "target = 'churn'\n",
    "X = df0.drop(target,axis=1).copy()\n",
    "y = df0[target].copy()"
   ]
  },
  {
   "cell_type": "code",
   "execution_count": 6,
   "metadata": {},
   "outputs": [
    {
     "name": "stdout",
     "output_type": "stream",
     "text": [
      "X_train shape: (13240, 19)\n",
      "X_valid shape: (4414, 19)\n",
      "y_train shape: (13240,)\n",
      "y_valid shape: (4414,)\n"
     ]
    }
   ],
   "source": [
    "X_train,X_valid,y_train,y_valid = train_test_split(X,y,test_size=0.25, random_state=10086)\n",
    "print('X_train shape: {}\\nX_valid shape: {}\\ny_train shape: {}\\ny_valid shape: {}'.format( X_train.shape, X_valid.shape, y_train.shape, y_valid.shape))"
   ]
  },
  {
   "cell_type": "markdown",
   "metadata": {},
   "source": [
    "## Load data pipelines"
   ]
  },
  {
   "cell_type": "code",
   "execution_count": 7,
   "metadata": {},
   "outputs": [],
   "source": [
    "pipeline_data = joblib.load('pipeline_data.joblib')"
   ]
  },
  {
   "cell_type": "code",
   "execution_count": 8,
   "metadata": {},
   "outputs": [
    {
     "data": {
      "text/plain": [
       "((13240, 47), (4414, 47))"
      ]
     },
     "execution_count": 8,
     "metadata": {},
     "output_type": "execute_result"
    }
   ],
   "source": [
    "X_train_transformed = pipeline_data.transform(X_train)\n",
    "X_valid_transformed = pipeline_data.transform(X_valid)\n",
    "y_train_transformed = y_train.map({\"Yes\":1,\"No\":0})\n",
    "y_valid_transformed = y_valid.map({\"Yes\":1,\"No\":0})\n",
    "X_train_transformed.shape, X_valid_transformed.shape"
   ]
  },
  {
   "cell_type": "markdown",
   "metadata": {},
   "source": [
    "Once the data sets are transformed, the next step is to use the transformed data to train models."
   ]
  },
  {
   "cell_type": "markdown",
   "metadata": {},
   "source": [
    "## Train classification models\n",
    "This section we will look at screen various classification algorithms to select a few promising candidates for further tuning."
   ]
  },
  {
   "cell_type": "markdown",
   "metadata": {},
   "source": [
    "This model set includes 9 scikit-learn classification algorithms (excluding those from ensemble family). The classification algorithms from the ensumble family will be discussed in ***Model set 2*** section."
   ]
  },
  {
   "cell_type": "markdown",
   "metadata": {},
   "source": [
    "### 1. Select candidate models"
   ]
  },
  {
   "cell_type": "code",
   "execution_count": 23,
   "metadata": {},
   "outputs": [],
   "source": [
    "# Classifiers\n",
    "from sklearn.neighbors import KNeighborsClassifier\n",
    "from sklearn.tree import DecisionTreeClassifier\n",
    "from sklearn.linear_model import LogisticRegression\n",
    "from sklearn.neural_network import MLPClassifier\n",
    "from sklearn.svm import SVC\n",
    "from sklearn.gaussian_process import GaussianProcessClassifier\n",
    "from sklearn.gaussian_process.kernels import RBF\n",
    "from sklearn.naive_bayes import GaussianNB\n",
    "from sklearn.discriminant_analysis import QuadraticDiscriminantAnalysis\n",
    "\n",
    "from sklearn.ensemble import RandomForestClassifier, AdaBoostClassifier\n",
    "from sklearn.ensemble import GradientBoostingClassifier, ExtraTreesClassifier\n",
    "from xgboost import XGBClassifier\n",
    "\n",
    "# Model seclection\n",
    "from sklearn.model_selection import RandomizedSearchCV\n",
    "from scipy.stats import loguniform, randint, uniform\n",
    "\n",
    "# Model evaluation\n",
    "from sklearn.metrics import roc_auc_score, roc_curve\n",
    "\n",
    "from time import time"
   ]
  },
  {
   "cell_type": "code",
   "execution_count": 8,
   "metadata": {},
   "outputs": [],
   "source": [
    "names = [\n",
    "    \"K Nearest Neighbors\",\n",
    "    \"Logistic Regression\",\n",
    "    \"Linear SVM\",\n",
    "    \"RBF SVM\",\n",
    "    \"Decision Tree\",\n",
    "    \"Neural Net\",\n",
    "    \"Naive Bayes\",\n",
    "    \"Quadratic Discriminant Analysis\",\n",
    "    \"Gaussian Process\",\n",
    "]\n",
    "\n",
    "classifiers = [\n",
    "    KNeighborsClassifier(3),\n",
    "    LogisticRegression(max_iter=500, n_jobs=-1, random_state=15611),\n",
    "    SVC(kernel=\"linear\", C=0.025, probability=True, random_state=15611),\n",
    "    SVC(gamma=2, C=1, probability=True, random_state=15611),\n",
    "    DecisionTreeClassifier(max_depth=5, random_state=15611),\n",
    "    MLPClassifier(alpha=1, max_iter=1000, random_state=15611),\n",
    "    GaussianNB(),\n",
    "    QuadraticDiscriminantAnalysis(),\n",
    "    GaussianProcessClassifier(1.0 * RBF(1.0), random_state=15611),\n",
    "]"
   ]
  },
  {
   "cell_type": "code",
   "execution_count": 9,
   "metadata": {},
   "outputs": [
    {
     "name": "stdout",
     "output_type": "stream",
     "text": [
      "Fitting: K Nearest Neighbors\n",
      "K Nearest Neighbors has a roc_auc score: 0.6954400705782202\n",
      "Time elapsed: 0.05 minutes for model \"K Nearest Neighbors\"\n",
      "\n",
      "Fitting: Logistic Regression\n",
      "Logistic Regression has a roc_auc score: 0.8214096142524876\n",
      "Time elapsed: 0.06 minutes for model \"Logistic Regression\"\n",
      "\n",
      "Fitting: Linear SVM\n",
      "Linear SVM has a roc_auc score: 0.8108315337684235\n",
      "Time elapsed: 0.35 minutes for model \"Linear SVM\"\n",
      "\n",
      "Fitting: RBF SVM\n",
      "RBF SVM has a roc_auc score: 0.6933260185970016\n",
      "Time elapsed: 2.46 minutes for model \"RBF SVM\"\n",
      "\n",
      "Fitting: Decision Tree\n",
      "Decision Tree has a roc_auc score: 0.7884593561234959\n",
      "Time elapsed: 0.0 minutes for model \"Decision Tree\"\n",
      "\n",
      "Fitting: Neural Net\n",
      "Neural Net has a roc_auc score: 0.8317108129973347\n",
      "Time elapsed: 0.1 minutes for model \"Neural Net\"\n",
      "\n",
      "Fitting: Naive Bayes\n",
      "Naive Bayes has a roc_auc score: 0.7626442938234406\n",
      "Time elapsed: 0.0 minutes for model \"Naive Bayes\"\n",
      "\n",
      "Fitting: Quadratic Discriminant Analysis\n",
      "Quadratic Discriminant Analysis has a roc_auc score: 0.7045307436903744\n",
      "Time elapsed: 0.0 minutes for model \"Quadratic Discriminant Analysis\"\n",
      "\n",
      "Fitting: Gaussian Process\n"
     ]
    },
    {
     "name": "stderr",
     "output_type": "stream",
     "text": [
      "C:\\Users\\tessi\\anaconda3\\lib\\site-packages\\sklearn\\discriminant_analysis.py:715: UserWarning: Variables are collinear\n",
      "  warnings.warn(\"Variables are collinear\")\n"
     ]
    },
    {
     "name": "stdout",
     "output_type": "stream",
     "text": [
      "Gaussian Process has a roc_auc score: 0.8367389454466432\n",
      "Time elapsed: 156.25 minutes for model \"Gaussian Process\"\n",
      "\n"
     ]
    }
   ],
   "source": [
    "# iterate over classifiers\n",
    "\n",
    "score = {}\n",
    "model = {}\n",
    "for name, clf in zip(names, classifiers):\n",
    "    start = time()   \n",
    "    print(\"Fitting: {}\".format(name))\n",
    "    clf.fit(X_train_transformed, y_train)\n",
    "    # calculate roc_auc score\n",
    "    score[name] = calculate_roc_auc_score(clf,X_valid_transformed, y_valid)\n",
    "    model[name] = clf\n",
    "    print(\"{} has a roc_auc score: {}\".format(name, roc_auc))\n",
    "    print(f'Time elapsed: {round((time()-start)/60,2)} minutes for model \"{name}\"\\n')\n",
    "    joblib.dump(clf, 'screening - ' + name +'.joblib')\n"
   ]
  },
  {
   "cell_type": "code",
   "execution_count": 17,
   "metadata": {},
   "outputs": [
    {
     "data": {
      "text/plain": [
       "['sccreening - results non-ensemble.joblib']"
      ]
     },
     "execution_count": 17,
     "metadata": {},
     "output_type": "execute_result"
    }
   ],
   "source": [
    "screening_results_nonens = joblib.load('sccreening - results non-ensemble.joblib')\n",
    "# score = screening_results_nonens['score']\n",
    "# model = screening_results_nonens['model']\n",
    "# joblib.dump(screening_results_nonens, 'sccreening - results non-ensemble.joblib')"
   ]
  },
  {
   "cell_type": "code",
   "execution_count": 14,
   "metadata": {},
   "outputs": [],
   "source": [
    "# Ensemble classifiers\n",
    "names = [\n",
    "    \"Random Forest\",\n",
    "    \"Extra Trees\",\n",
    "    \"ADAboosting\",\n",
    "    \"Gradient Boosting\",\n",
    "    \"XGBoost\",\n",
    "]\n",
    "\n",
    "classifiers = [\n",
    "    RandomForestClassifier(max_depth=2, random_state=15611,n_jobs=-1),\n",
    "    ExtraTreesClassifier(random_state=15611,n_jobs=-1),\n",
    "    AdaBoostClassifier(random_state=15611),\n",
    "    GradientBoostingClassifier(random_state=15611),\n",
    "    XGBClassifier(random_state=15611)\n",
    "]"
   ]
  },
  {
   "cell_type": "code",
   "execution_count": 16,
   "metadata": {},
   "outputs": [
    {
     "name": "stdout",
     "output_type": "stream",
     "text": [
      "Fitting: Random Forest\n",
      "Random Forest has a roc_auc score: 0.800539653159031\n",
      "Time elapsed: 0.01 minutes for model \"Random Forest\"\n",
      "\n",
      "Fitting: Extra Trees\n",
      "Extra Trees has a roc_auc score: 0.8201183869109483\n",
      "Time elapsed: 0.01 minutes for model \"Extra Trees\"\n",
      "\n",
      "Fitting: ADAboosting\n",
      "ADAboosting has a roc_auc score: 0.8189050325585637\n",
      "Time elapsed: 0.03 minutes for model \"ADAboosting\"\n",
      "\n",
      "Fitting: Gradient Boosting\n",
      "Gradient Boosting has a roc_auc score: 0.8319529181238734\n",
      "Time elapsed: 0.15 minutes for model \"Gradient Boosting\"\n",
      "\n",
      "Fitting: XGBoost\n",
      "XGBoost has a roc_auc score: 0.8151662971027588\n",
      "Time elapsed: 0.04 minutes for model \"XGBoost\"\n",
      "\n"
     ]
    }
   ],
   "source": [
    "# iterate over classifiers\n",
    "\n",
    "for name, clf in zip(names, classifiers):\n",
    "    start = time()   \n",
    "    print(\"Fitting: {}\".format(name))\n",
    "    clf.fit(X_train_transformed, y_train_transformed)\n",
    "    roc_auc = calculate_roc_auc_score(clf, X_valid_transformed, y_valid_transformed)\n",
    "    score[name] = roc_auc\n",
    "    model[name] = clf\n",
    "    print(\"{} has a roc_auc score: {}\".format(name, roc_auc))\n",
    "    print(f'Time elapsed: {round((time()-start)/60,2)} minutes for model \"{name}\"\\n')\n",
    "    joblib.dump(clf, 'screening - ' + name +'.joblib')\n"
   ]
  },
  {
   "cell_type": "code",
   "execution_count": 18,
   "metadata": {},
   "outputs": [
    {
     "data": {
      "text/plain": [
       "['sccreening - results all models.joblib']"
      ]
     },
     "execution_count": 18,
     "metadata": {},
     "output_type": "execute_result"
    }
   ],
   "source": [
    "screening_results = {'score':score,'model': model}\n",
    "joblib.dump(screening_results, 'sccreening - results all models.joblib')"
   ]
  },
  {
   "cell_type": "code",
   "execution_count": 10,
   "metadata": {},
   "outputs": [],
   "source": [
    "# screening_results = joblib.load('sccreening - results all models.joblib')"
   ]
  },
  {
   "cell_type": "code",
   "execution_count": 20,
   "metadata": {},
   "outputs": [
    {
     "name": "stdout",
     "output_type": "stream",
     "text": [
      "roc_auc score = 0.8367 for model GaussianProcessClassifier(kernel=1**2 * RBF(length_scale=1), random_state=15611)\n"
     ]
    }
   ],
   "source": [
    "# Model for candidate of the best model\n",
    "print('roc_auc score = {} for model {}'.format(round(screening_results['score']['Gaussian Process'],4),screening_results['model']['Gaussian Process']))"
   ]
  },
  {
   "cell_type": "markdown",
   "metadata": {},
   "source": [
    "The screening of the models indicated that 5 models, i.e., 3 non-ensemble models ***LogigsticRegression, Neural Network (MLPClassifier), and GaussianProcessClassifier)***, and 2 ensemble models ***ExtraTrees (XTr) and Gradient Boosting (GBC), have ***over 0.82*** roc_auc scores (0.821, 0.832, and 0.837, 0.8201, and 0.8320, respectively). <br>\n",
    "Since the GaussianProcessClassifier is already hyperparameter optimized for the kernel and none of the other parameters are to be tuned, and more importantly, it is too computationally intensive to complete tuning using the resources available, we will use the result from this stage as the best estimator. <br>\n",
    "\n",
    "Therefore, the next step is to further tune the remaining 4 models to select the best models and parameters for this dataset."
   ]
  },
  {
   "cell_type": "markdown",
   "metadata": {},
   "source": [
    "### 2. Tune Hyperparameters of candiate models\n",
    "We will tune the hyparameters using ***RandomSearchCV*** from scikit learn's model_selection module. Parameter distribution will be using the ***loguniform and randint*** distribution from scipy's stats module. Thes distributions generate a continuous range of floates and integers, repectively, for the hyperparameters of interest. We will use two sets of parameter spaces to tune the selected candidate models. <br>\n",
    "\n",
    "The first set of hyperparameter space will tune 4 and 5 hyperparameters for LF and MLP, respectively and randomly sample 50 hyperparameter combinations. The second set of hyperparameter space will tune more hyperparameters (5 for LF and 10 for MLP and randomly sample 100 hyperparameter combinations. In addition, for LF, two versions of penalty and solver settings will also be tuned. This allows for us to examine if a finer tuning and more iteration will have more chance to get a better final model. <br>\n",
    "\n",
    "For ensemble models, we will use the same hyperparameter distribution space as in the baseline models for model tuning."
   ]
  },
  {
   "cell_type": "markdown",
   "metadata": {},
   "source": [
    "#### **Hyperparameter tuning - non-ensemble setting 1**\n",
    "#### *1) Random Search CV*"
   ]
  },
  {
   "cell_type": "code",
   "execution_count": 33,
   "metadata": {},
   "outputs": [
    {
     "name": "stdout",
     "output_type": "stream",
     "text": [
      "Fitting 5 folds for each of 50 candidates, totalling 250 fits\n"
     ]
    },
    {
     "name": "stderr",
     "output_type": "stream",
     "text": [
      "[Parallel(n_jobs=-1)]: Using backend LokyBackend with 8 concurrent workers.\n",
      "[Parallel(n_jobs=-1)]: Done  34 tasks      | elapsed:   31.1s\n",
      "[Parallel(n_jobs=-1)]: Done 184 tasks      | elapsed:  3.3min\n",
      "[Parallel(n_jobs=-1)]: Done 250 out of 250 | elapsed:  4.3min finished\n"
     ]
    },
    {
     "name": "stdout",
     "output_type": "stream",
     "text": [
      "Time elapsed: 4.5 minutes\n"
     ]
    }
   ],
   "source": [
    "## create a pipeline\n",
    "pipe_clf = Pipeline([('classifier',LogisticRegression())])\n",
    "\n",
    "## Create dictionary with candidate learning algorithms and their hyperparameters\n",
    "param_space =  [{\"classifier\": [LogisticRegression(random_state=15611, max_iter=200)],\n",
    "                 'classifier__penalty': ['l1','l2'],\n",
    "                 'classifier__solver': ['liblinear'],\n",
    "                 'classifier__C': loguniform(0.0001, 100),\n",
    "                },\n",
    "                {\"classifier\": [LogisticRegression(random_state=15611, max_iter=200)],\n",
    "                 'classifier__penalty': ['l2'],\n",
    "                 'classifier__solver': ['lbfgs','sag'],\n",
    "                 'classifier__C': loguniform(0.0001, 100),\n",
    "                },\n",
    "                {\"classifier\": [MLPClassifier(random_state=15611)],\n",
    "                 'classifier__activation':['tanh','relu'],\n",
    "                 'classifier__learning_rate': ['constant','invscaling'],\n",
    "                 'classifier__solver': ['adam','sgd'],\n",
    "                 'classifier__alpha':loguniform(0.0001,1),\n",
    "                },]\n",
    "\n",
    "# Parameter tuning\n",
    "start = time()\n",
    "clf_randsearchcv_v1 = RandomizedSearchCV(estimator = pipe_clf, \n",
    "                                      param_distributions=param_space, \n",
    "                                      scoring='roc_auc',\n",
    "                                      n_iter=50,\n",
    "                                      cv=5, \n",
    "                                      verbose=1,\n",
    "                                      n_jobs=-1,\n",
    "                                      random_state = 15661\n",
    "                                      )\n",
    "clf_randsearchcv_v1.fit(X_train_transformed, y_train)\n",
    "print(f'Time elapsed: {round((time()-start)/60,2)} minutes')"
   ]
  },
  {
   "cell_type": "code",
   "execution_count": 21,
   "metadata": {},
   "outputs": [],
   "source": [
    "joblib.dump(clf_randsearchcv_v1,'clf_randsearchcv_v1.joblib')\n",
    "# clf_randsearchcv_v1 = joblib.load('clf_randsearchcv_v1.joblib')"
   ]
  },
  {
   "cell_type": "markdown",
   "metadata": {},
   "source": [
    "#### *2) Best estimator*"
   ]
  },
  {
   "cell_type": "code",
   "execution_count": 45,
   "metadata": {},
   "outputs": [
    {
     "name": "stdout",
     "output_type": "stream",
     "text": [
      "Best SearchCV_v1 score: 0.8365526545730623\n"
     ]
    },
    {
     "data": {
      "text/plain": [
       "{'classifier': MLPClassifier(alpha=0.47857874420504615, learning_rate='invscaling',\n",
       "               random_state=15611),\n",
       " 'classifier__activation': 'relu',\n",
       " 'classifier__alpha': 0.47857874420504615,\n",
       " 'classifier__learning_rate': 'invscaling',\n",
       " 'classifier__solver': 'adam'}"
      ]
     },
     "execution_count": 45,
     "metadata": {},
     "output_type": "execute_result"
    }
   ],
   "source": [
    "print(f'Best SearchCV_v1 score: {clf_randsearchcv_v1.best_score_}')\n",
    "clf_randsearchcv_v1.best_params_"
   ]
  },
  {
   "cell_type": "code",
   "execution_count": 46,
   "metadata": {},
   "outputs": [
    {
     "name": "stdout",
     "output_type": "stream",
     "text": [
      "Number of layers in the neural network = 3\n"
     ]
    }
   ],
   "source": [
    "# number of layers in the neural network:\n",
    "print('Number of layers in the neural network = {}'.format(clf_randsearchcv_v1.best_estimator_['classifier'].n_layers_))"
   ]
  },
  {
   "cell_type": "code",
   "execution_count": 47,
   "metadata": {},
   "outputs": [
    {
     "name": "stdout",
     "output_type": "stream",
     "text": [
      "Mean cv scores - Highest: 0.8365526545730623 from param combination [20]\n",
      "Mean cv scores:\n"
     ]
    },
    {
     "data": {
      "text/plain": [
       "array([0.7143584 , 0.8212159 , 0.80464247, 0.79563221, 0.5       ,\n",
       "       0.83617181, 0.79426399, 0.82179706, 0.81658174, 0.79291375,\n",
       "       0.82426393, 0.83367244, 0.80863407, 0.82190925, 0.79588528,\n",
       "       0.83437785, 0.82088893, 0.82137082, 0.82084798, 0.80953672,\n",
       "       0.83655265, 0.80896515, 0.81812586, 0.82162234, 0.83385271,\n",
       "       0.77605702, 0.81443284, 0.77905083, 0.82121608, 0.80546593,\n",
       "       0.82189366, 0.82180561, 0.78671436, 0.83365347, 0.81534916,\n",
       "       0.60245676, 0.82145197, 0.82111212, 0.82168169, 0.81461085,\n",
       "       0.60245801, 0.77103347, 0.82115119, 0.82190766, 0.79608996,\n",
       "       0.81519294, 0.815888  , 0.71436019, 0.71436197, 0.82105215])"
      ]
     },
     "execution_count": 47,
     "metadata": {},
     "output_type": "execute_result"
    }
   ],
   "source": [
    "print(f\"Mean cv scores - Highest: {clf_randsearchcv_v1.cv_results_['mean_test_score'].max()} \\\n",
    "from param combination {np.where(clf_randsearchcv_v1.cv_results_['mean_test_score'] == clf_randsearchcv_v1.cv_results_['mean_test_score'].max())[0]}\")\n",
    "\n",
    "print('Mean cv scores:')\n",
    "clf_randsearchcv_v1.cv_results_['mean_test_score']"
   ]
  },
  {
   "cell_type": "markdown",
   "metadata": {},
   "source": [
    "#### *3) Best prediction accuracy*"
   ]
  },
  {
   "cell_type": "code",
   "execution_count": 49,
   "metadata": {},
   "outputs": [
    {
     "data": {
      "text/plain": [
       "0.8370823852962486"
      ]
     },
     "execution_count": 49,
     "metadata": {},
     "output_type": "execute_result"
    }
   ],
   "source": [
    "# Best prediction score\n",
    "clf_nn_v1_roc_auc = calculate_roc_auc_score(clf_randsearchcv_v1.best_estimator_,X_valid_transformed, y_valid)\n",
    "clf_nn_v1_roc_auc"
   ]
  },
  {
   "cell_type": "markdown",
   "metadata": {},
   "source": [
    "#### **Hyperparameter tuning - non-ensemble setting 2**\n",
    "#### *1) Randomized Search CV*"
   ]
  },
  {
   "cell_type": "code",
   "execution_count": 24,
   "metadata": {},
   "outputs": [
    {
     "name": "stdout",
     "output_type": "stream",
     "text": [
      "Fitting 5 folds for each of 100 candidates, totalling 500 fits\n"
     ]
    },
    {
     "name": "stderr",
     "output_type": "stream",
     "text": [
      "[Parallel(n_jobs=-1)]: Using backend LokyBackend with 8 concurrent workers.\n",
      "[Parallel(n_jobs=-1)]: Done  34 tasks      | elapsed:  1.4min\n",
      "[Parallel(n_jobs=-1)]: Done 184 tasks      | elapsed:  4.8min\n",
      "[Parallel(n_jobs=-1)]: Done 434 tasks      | elapsed:  9.1min\n",
      "[Parallel(n_jobs=-1)]: Done 500 out of 500 | elapsed: 11.6min finished\n"
     ]
    },
    {
     "name": "stdout",
     "output_type": "stream",
     "text": [
      "Time elapsed: 11.72 minutes\n"
     ]
    }
   ],
   "source": [
    "## create a pipeline\n",
    "pipe_clf = Pipeline([('classifier',LogisticRegression())])\n",
    "\n",
    "## Create dictionary with candidate learning algorithms and their hyperparameters\n",
    "param_space =  [{\"classifier\": [LogisticRegression(random_state=15611)],\n",
    "                 'classifier__penalty': ['l1','l2'],\n",
    "                 'classifier__solver': ['liblinear'],\n",
    "                 'classifier__C': loguniform(0.0001, 100),\n",
    "                 'classifier__max_iter': randint(200, 600),\n",
    "                },\n",
    "                {\"classifier\": [LogisticRegression(random_state=15611)],\n",
    "                 'classifier__penalty': ['l2'],\n",
    "                 'classifier__solver': ['lbfgs','sag'],\n",
    "                 'classifier__C': loguniform(0.0001, 100),\n",
    "                 'classifier__max_iter': randint(200, 600),\n",
    "                },\n",
    "                {\"classifier\": [MLPClassifier(random_state=15611)],\n",
    "                 'classifier__activation':['tanh','relu'],\n",
    "                 'classifier__hidden_layer_sizes': randint(5,100),\n",
    "                 'classifier__learning_rate': ['constant','invscaling'],\n",
    "                 'classifier__max_iter': randint(200,600),\n",
    "                 'classifier__solver': ['adam','sgd'],\n",
    "                 'classifier__alpha':loguniform(0.0001,1),\n",
    "                },]\n",
    "\n",
    "# Parameter tuning\n",
    "start = time()\n",
    "clf_randsearchcv_v2 = RandomizedSearchCV(estimator = pipe_clf, \n",
    "                                      param_distributions=param_space, \n",
    "                                      scoring='roc_auc',\n",
    "                                      n_iter=100,\n",
    "                                      cv=5, \n",
    "                                      verbose=1,\n",
    "                                      n_jobs=-1,\n",
    "                                      random_state = 15661\n",
    "                                      )\n",
    "clf_randsearchcv_v2.fit(X_train_transformed, y_train)\n",
    "print(f'Time elapsed: {round((time()-start)/60,2)} minutes')"
   ]
  },
  {
   "cell_type": "code",
   "execution_count": 41,
   "metadata": {},
   "outputs": [],
   "source": [
    "joblib.dump(clf_randsearchcv_v2,'clf_randsearchcv_v2.joblib')\n",
    "# load the save search result\n",
    "# clf_randsearchcv_v2 = joblib.load('clf_randsearchcv_v2.joblib')"
   ]
  },
  {
   "cell_type": "markdown",
   "metadata": {},
   "source": [
    "#### *2) Best estimator*"
   ]
  },
  {
   "cell_type": "code",
   "execution_count": 51,
   "metadata": {},
   "outputs": [
    {
     "name": "stdout",
     "output_type": "stream",
     "text": [
      "Best roc_auc Score: 0.839\n",
      "Best model and parameters:\n"
     ]
    },
    {
     "data": {
      "text/plain": [
       "{'classifier': MLPClassifier(activation='tanh', alpha=0.6818883687798777,\n",
       "               hidden_layer_sizes=23, max_iter=381, random_state=15611),\n",
       " 'classifier__activation': 'tanh',\n",
       " 'classifier__alpha': 0.6818883687798777,\n",
       " 'classifier__hidden_layer_sizes': 23,\n",
       " 'classifier__learning_rate': 'constant',\n",
       " 'classifier__max_iter': 381,\n",
       " 'classifier__solver': 'adam'}"
      ]
     },
     "execution_count": 51,
     "metadata": {},
     "output_type": "execute_result"
    }
   ],
   "source": [
    "print(f'Best roc_auc Score: {round(clf_randsearchcv_v2.best_score_,4)}')\n",
    "print('Best model and parameters:')\n",
    "clf_randsearchcv_v2.best_params_"
   ]
  },
  {
   "cell_type": "code",
   "execution_count": 52,
   "metadata": {},
   "outputs": [
    {
     "name": "stdout",
     "output_type": "stream",
     "text": [
      "Number of layers in the neural network = 3\n"
     ]
    }
   ],
   "source": [
    "# number of layers in the neural network:\n",
    "print('Number of layers in the neural network = {}'.format(clf_randsearchcv_v2.best_estimator_['classifier'].n_layers_))"
   ]
  },
  {
   "cell_type": "code",
   "execution_count": 54,
   "metadata": {},
   "outputs": [
    {
     "name": "stdout",
     "output_type": "stream",
     "text": [
      "Mean cv scores - Highest: 0.8390006793252989 from param combination [7]\n",
      "Mean cv scores - each parameter and model combination:\n"
     ]
    },
    {
     "data": {
      "text/plain": [
       "array([0.83216388, 0.82103508, 0.79641244, 0.75461824, 0.81938759,\n",
       "       0.82865189, 0.83335945, 0.83900068, 0.82193232, 0.82140794,\n",
       "       0.79039227, 0.74323042, 0.82195663, 0.81539166, 0.82144958,\n",
       "       0.82188846, 0.83655056, 0.78641216, 0.82173645, 0.78080493,\n",
       "       0.78902971, 0.81265627, 0.83306915, 0.81441836, 0.82185715,\n",
       "       0.78266958, 0.82195199, 0.78997597, 0.82183448, 0.80149711,\n",
       "       0.75668774, 0.83676797, 0.78798366, 0.82109846, 0.5       ,\n",
       "       0.81201199, 0.82145376, 0.79101191, 0.82035662, 0.68181791,\n",
       "       0.81594161, 0.82159623, 0.82130352, 0.82181011, 0.82167796,\n",
       "       0.50664998, 0.82189511, 0.82136413, 0.8170432 , 0.82056363,\n",
       "       0.82074023, 0.80182747, 0.77796511, 0.57142085, 0.81262428,\n",
       "       0.82182886, 0.82106252, 0.7920473 , 0.83476188, 0.75115288,\n",
       "       0.75668721, 0.80735567, 0.62850006, 0.61894621, 0.8216624 ,\n",
       "       0.82187902, 0.82183115, 0.82137593, 0.83305111, 0.8054598 ,\n",
       "       0.83145474, 0.82188433, 0.79059453, 0.81845724, 0.82022106,\n",
       "       0.81266654, 0.81140547, 0.82106592, 0.82136789, 0.81394868,\n",
       "       0.82110668, 0.80378412, 0.79361661, 0.8218095 , 0.82114565,\n",
       "       0.82154723, 0.82189368, 0.82174107, 0.83429827, 0.79441876,\n",
       "       0.78745734, 0.76186361, 0.82184241, 0.5       , 0.58847971,\n",
       "       0.79009827, 0.82189139, 0.82845342, 0.80061938, 0.82119768])"
      ]
     },
     "execution_count": 54,
     "metadata": {},
     "output_type": "execute_result"
    }
   ],
   "source": [
    "print(f\"Mean cv scores - Highest: {clf_randsearchcv_v2.cv_results_['mean_test_score'].max()} \\\n",
    "from param combination {np.where(clf_randsearchcv_v2.cv_results_['mean_test_score'] == clf_randsearchcv_v2.cv_results_['mean_test_score'].max())[0]}\")\n",
    "\n",
    "print('Mean cv scores - each parameter and model combination:')\n",
    "clf_randsearchcv_v2.cv_results_['mean_test_score']"
   ]
  },
  {
   "cell_type": "markdown",
   "metadata": {},
   "source": [
    "#### *3) Best prediction accuracy*"
   ]
  },
  {
   "cell_type": "code",
   "execution_count": 73,
   "metadata": {},
   "outputs": [
    {
     "name": "stdout",
     "output_type": "stream",
     "text": [
      "Prediction score with the best model: 0.8363\n"
     ]
    }
   ],
   "source": [
    "# Best prediction score\n",
    "clf_nn_v2_roc_auc =  calculate_roc_auc_score(clf_randsearchcv_v2.best_estimator_,X_valid_transformed, y_valid)\n",
    "print(f'Prediction score with the best model: {round(clf_nn_v2_roc_auc,4)}')"
   ]
  },
  {
   "cell_type": "markdown",
   "metadata": {},
   "source": [
    "##### **Hyperparameter tuning - ensemble models**\n",
    "##### *1) Randomized Search CV*"
   ]
  },
  {
   "cell_type": "code",
   "execution_count": 28,
   "metadata": {},
   "outputs": [
    {
     "name": "stdout",
     "output_type": "stream",
     "text": [
      "Fitting 5 folds for each of 50 candidates, totalling 250 fits\n"
     ]
    },
    {
     "name": "stderr",
     "output_type": "stream",
     "text": [
      "[Parallel(n_jobs=-1)]: Using backend LokyBackend with 8 concurrent workers.\n",
      "[Parallel(n_jobs=-1)]: Done  34 tasks      | elapsed:   20.0s\n",
      "[Parallel(n_jobs=-1)]: Done 184 tasks      | elapsed:  2.8min\n",
      "[Parallel(n_jobs=-1)]: Done 250 out of 250 | elapsed:  3.9min finished\n"
     ]
    },
    {
     "name": "stdout",
     "output_type": "stream",
     "text": [
      "Time elapsed: 3.98 minutes\n"
     ]
    }
   ],
   "source": [
    "## create a pipeline\n",
    "pipe_clf2 = Pipeline([('classifier',AdaBoostClassifier())])\n",
    "\n",
    "## Create dictionary with candidate learning algorithms and their hyperparameters\n",
    "param_space2 =  [{\"classifier\": [AdaBoostClassifier(random_state=15611)],\n",
    "                 'classifier__n_estimators': randint(5,100),\n",
    "                 'classifier__learning_rate': loguniform(0.001, 100),\n",
    "                 'classifier__algorithm': ['SAMME', 'SAMME.R']\n",
    "                },\n",
    "                {\"classifier\": [GradientBoostingClassifier(random_state=15611)],\n",
    "                 'classifier__loss': ['deviance', 'exponential'],\n",
    "                 'classifier__n_estimators': randint(5,100),\n",
    "                 'classifier__learning_rate': loguniform(0.0001, 100),\n",
    "                 'classifier__max_depth': randint(1,20),\n",
    "                 'classifier__max_features': randint(5, X_train.shape[1]+1),\n",
    "                 'classifier__min_samples_split': randint(5, 100),\n",
    "                },\n",
    "                {\"classifier\": [XGBClassifier(random_state=15611,objective='binary:logistic')],\n",
    "                 'classifier__eta':loguniform(0.0001, 100),\n",
    "                 'classifier__gamma': loguniform(0.0001, 100),\n",
    "                 'classifier__max_depth': randint(1,20),\n",
    "                 'classifier__min_child_weight': loguniform(0.01, 100),\n",
    "                 'classifier__max_delta_step':randint(1,10),\n",
    "                 'classifier__subsample':uniform(0,1)\n",
    "                },]\n",
    "\n",
    "# Parameter tuning\n",
    "start = time()\n",
    "clf_ensemble = RandomizedSearchCV(estimator = pipe_clf2, \n",
    "                                      param_distributions=param_space2, \n",
    "                                      scoring='roc_auc',\n",
    "                                      n_iter=50,\n",
    "                                      cv=5, \n",
    "                                      verbose=1,\n",
    "                                      n_jobs=-1,\n",
    "                                      random_state = 15611\n",
    "                                      )\n",
    "clf_ensemble.fit(X_train_transformed, y_train_transformed)\n",
    "print(f'Time elapsed: {round((time()-start)/60,2)} minutes')"
   ]
  },
  {
   "cell_type": "code",
   "execution_count": 43,
   "metadata": {},
   "outputs": [
    {
     "data": {
      "text/plain": [
       "['clf_ensemble_randsearchcv.joblib']"
      ]
     },
     "execution_count": 43,
     "metadata": {},
     "output_type": "execute_result"
    }
   ],
   "source": [
    "joblib.dump(clf_ensemble,'clf_ensemble_randsearchcv.joblib')\n",
    "# load the save search result\n",
    "# clf_ensemble = joblib.load('clf_ensemble_randsearchcv.joblib')"
   ]
  },
  {
   "cell_type": "markdown",
   "metadata": {},
   "source": [
    "##### *2) Best estimator*"
   ]
  },
  {
   "cell_type": "code",
   "execution_count": 44,
   "metadata": {},
   "outputs": [
    {
     "name": "stdout",
     "output_type": "stream",
     "text": [
      "Best roc_auc Score: 0.8388\n",
      "Best model and parameters:\n"
     ]
    },
    {
     "data": {
      "text/plain": [
       "{'classifier': XGBClassifier(base_score=None, booster=None, callbacks=None,\n",
       "               colsample_bylevel=None, colsample_bynode=None,\n",
       "               colsample_bytree=None, early_stopping_rounds=None,\n",
       "               enable_categorical=False, eta=0.11473698305487026,\n",
       "               eval_metric=None, gamma=0.0033678015840455837, gpu_id=None,\n",
       "               grow_policy=None, importance_type=None,\n",
       "               interaction_constraints=None, learning_rate=None, max_bin=None,\n",
       "               max_cat_to_onehot=None, max_delta_step=2, max_depth=9,\n",
       "               max_leaves=None, min_child_weight=76.22036610408519, missing=nan,\n",
       "               monotone_constraints=None, n_estimators=100, n_jobs=None,\n",
       "               num_parallel_tree=None, predictor=None, random_state=15611,\n",
       "               reg_alpha=None, ...),\n",
       " 'classifier__eta': 0.11473698305487026,\n",
       " 'classifier__gamma': 0.0033678015840455837,\n",
       " 'classifier__max_delta_step': 2,\n",
       " 'classifier__max_depth': 9,\n",
       " 'classifier__min_child_weight': 76.22036610408519,\n",
       " 'classifier__subsample': 0.82290056678752}"
      ]
     },
     "execution_count": 44,
     "metadata": {},
     "output_type": "execute_result"
    }
   ],
   "source": [
    "print(f'Best roc_auc Score: {round(clf_ensemble.best_score_,4)}')\n",
    "print('Best model and parameters:')\n",
    "clf_ensemble.best_params_"
   ]
  },
  {
   "cell_type": "code",
   "execution_count": 45,
   "metadata": {},
   "outputs": [
    {
     "name": "stdout",
     "output_type": "stream",
     "text": [
      "Mean cv scores - Highest: nan from param combination []\n",
      "Mean cv scores - each parameter and model combination:\n"
     ]
    },
    {
     "data": {
      "text/plain": [
       "array([0.82598994, 0.8277616 , 0.70535448, 0.73123156, 0.83673967,\n",
       "       0.83548499, 0.80698667, 0.83703376, 0.79842761, 0.82863358,\n",
       "       0.66968515, 0.76088134, 0.60892535, 0.6285698 , 0.83777094,\n",
       "       0.58024403, 0.81678971, 0.82995218, 0.82919403, 0.82364735,\n",
       "       0.75146923,        nan, 0.65148427, 0.82137618, 0.51500028,\n",
       "       0.73120583, 0.82004079, 0.39705494, 0.69416703, 0.63413626,\n",
       "       0.83701793, 0.75947024, 0.83193084, 0.72046716, 0.80930355,\n",
       "       0.74533516, 0.83496543, 0.81025907, 0.83280392, 0.82065317,\n",
       "       0.64559098, 0.8279354 , 0.65634404, 0.78193386, 0.76876341,\n",
       "       0.83880616,        nan, 0.68142986, 0.81321882, 0.83688048])"
      ]
     },
     "execution_count": 45,
     "metadata": {},
     "output_type": "execute_result"
    }
   ],
   "source": [
    "print(f\"Mean cv scores - Highest: {clf_ensemble.cv_results_['mean_test_score'].max()} \\\n",
    "from param combination {np.where(clf_ensemble.cv_results_['mean_test_score'] == clf_ensemble.cv_results_['mean_test_score'].max())[0]}\")\n",
    "\n",
    "print('Mean cv scores - each parameter and model combination:')\n",
    "clf_ensemble.cv_results_['mean_test_score']"
   ]
  },
  {
   "cell_type": "markdown",
   "metadata": {},
   "source": [
    "**Ranking of the models by CV scores**"
   ]
  },
  {
   "cell_type": "code",
   "execution_count": 46,
   "metadata": {},
   "outputs": [
    {
     "name": "stdout",
     "output_type": "stream",
     "text": [
      "       score                                              model  rank\n",
      "45  0.838806  XGBClassifier(base_score=None, booster=None, c...     1\n",
      "14  0.837771     GradientBoostingClassifier(random_state=15611)     2\n",
      "7   0.837034  XGBClassifier(base_score=None, booster=None, c...     3\n",
      "30  0.837018     GradientBoostingClassifier(random_state=15611)     4\n",
      "49  0.836880     GradientBoostingClassifier(random_state=15611)     5\n",
      "       score                                              model  rank\n",
      "15  0.580244     GradientBoostingClassifier(random_state=15611)    46\n",
      "24  0.515000     GradientBoostingClassifier(random_state=15611)    47\n",
      "27  0.397055  XGBClassifier(base_score=None, booster=None, c...    48\n",
      "21       NaN             AdaBoostClassifier(random_state=15611)    49\n",
      "46       NaN             AdaBoostClassifier(random_state=15611)    50\n"
     ]
    }
   ],
   "source": [
    "best2= pd.DataFrame({'score': list(clf_ensemble.cv_results_['mean_test_score'])})\n",
    "best2['model'] = [param['classifier'] for param in clf_ensemble.cv_results_['params']]\n",
    "best2 = best2.sort_values('score',ascending=False)\n",
    "best2['rank'] = np.arange(1,best2.shape[0]+1)\n",
    "print(best2.head())\n",
    "print(best2.tail())"
   ]
  },
  {
   "cell_type": "code",
   "execution_count": 47,
   "metadata": {},
   "outputs": [
    {
     "name": "stdout",
     "output_type": "stream",
     "text": [
      "These models were not able to produce scores:\n",
      "Model 21: {'classifier': AdaBoostClassifier(random_state=15611), 'classifier__algorithm': 'SAMME', 'classifier__learning_rate': 29.505981997046952, 'classifier__n_estimators': 37}\n",
      "Model 46: {'classifier': AdaBoostClassifier(random_state=15611), 'classifier__algorithm': 'SAMME', 'classifier__learning_rate': 5.568762198594363, 'classifier__n_estimators': 70}\n"
     ]
    }
   ],
   "source": [
    "print('These models were not able to produce scores:')\n",
    "print('Model 21:', clf_ensemble.cv_results_['params'][21])\n",
    "print('Model 46:', clf_ensemble.cv_results_['params'][46])"
   ]
  },
  {
   "cell_type": "code",
   "execution_count": 48,
   "metadata": {},
   "outputs": [
    {
     "name": "stdout",
     "output_type": "stream",
     "text": [
      "The best gbc model (the 2nd best):\n"
     ]
    },
    {
     "data": {
      "text/plain": [
       "{'classifier': GradientBoostingClassifier(random_state=15611),\n",
       " 'classifier__learning_rate': 0.00010027932482822924,\n",
       " 'classifier__loss': 'deviance',\n",
       " 'classifier__max_depth': 15,\n",
       " 'classifier__max_features': 5,\n",
       " 'classifier__min_samples_split': 23,\n",
       " 'classifier__n_estimators': 87}"
      ]
     },
     "execution_count": 48,
     "metadata": {},
     "output_type": "execute_result"
    }
   ],
   "source": [
    "print('The best gbc model (the 2nd best):')\n",
    "clf_ensemble.cv_results_['params'][14]"
   ]
  },
  {
   "cell_type": "code",
   "execution_count": 49,
   "metadata": {},
   "outputs": [],
   "source": [
    "# Best GBC model (the third best model)\n",
    "gbc = GradientBoostingClassifier(learning_rate=0.0001002793248282292,loss='deviance',\n",
    "                    max_features=5, max_depth=15,\n",
    "                    min_samples_split=23,\n",
    "                    n_estimators=87,\n",
    "                    random_state=15611)\n",
    "gbc.fit(X_train_transformed,y_train_transformed);"
   ]
  },
  {
   "cell_type": "markdown",
   "metadata": {},
   "source": [
    "##### *3) Prediction accuracy*"
   ]
  },
  {
   "cell_type": "code",
   "execution_count": 50,
   "metadata": {},
   "outputs": [
    {
     "name": "stdout",
     "output_type": "stream",
     "text": [
      "roc_auc score of the best XGBC model: 0.8369\n",
      "roc_auc score of the best GBC model: 0.8284\n"
     ]
    }
   ],
   "source": [
    "# Prediction score of the best two models, MLP and logistic regression\n",
    "print('roc_auc score of the best XGBC model: {}'.format(round(calculate_roc_auc_score(clf_ensemble.best_estimator_,X_valid_transformed, y_valid_transformed),4)))\n",
    "print('roc_auc score of the best GBC model: {}'.format(round(calculate_roc_auc_score(gbc,X_valid_transformed, y_valid_transformed),4)))"
   ]
  },
  {
   "cell_type": "markdown",
   "metadata": {},
   "source": [
    "## Evaluate best models"
   ]
  },
  {
   "cell_type": "markdown",
   "metadata": {},
   "source": [
    "### Learning curve\n",
    "This section will plot the learning curve of the best models identified in the previous section from Model sets 1 and 2. <br>\n",
    "For model set 1, plotting learning curve of Gaussian process model took forever return the plot - as it is shown in the model screening section that it took 156 minutes, compared to a few seconds for the other models (except for SVM RBF kernel 2.6 minutes). Therefore, this section will ommit learning curve of this model. "
   ]
  },
  {
   "cell_type": "code",
   "execution_count": 51,
   "metadata": {},
   "outputs": [],
   "source": [
    "# download from GitHub repository\n",
    "import requests\n",
    "# Save plot_learning_curve as file to colab working directory\n",
    "# Get the \"Raw\" version of the code from GitHub\n",
    "url = 'https://raw.githubusercontent.com/TessieTong/ds4ml/main/plot_learning_curve.py'\n",
    "r = requests.get(url)\n",
    "\n",
    "# Write to Colab working directory \n",
    "with open('plot_learning_curve.py', 'w') as f:\n",
    "    f.write(r.text)\n",
    "\n",
    "# import\n",
    "from plot_learning_curve import plot_learning_curve"
   ]
  },
  {
   "cell_type": "code",
   "execution_count": 42,
   "metadata": {},
   "outputs": [
    {
     "data": {
      "image/png": "[encoded data removed]",
      "text/plain": [
       "<Figure size 1440x864 with 12 Axes>"
      ]
     },
     "metadata": {
      "needs_background": "light"
     },
     "output_type": "display_data"
    }
   ],
   "source": [
    "# Plot learning curves of the 4 best ensemble classifiers\n",
    "from sklearn.model_selection import learning_curve\n",
    "from sklearn.model_selection import ShuffleSplit\n",
    "nrows=3\n",
    "ncols=4\n",
    "fig, axes = plt.subplots(nrows, ncols, figsize=(ncols*5, nrows*4))\n",
    "# Cross validation with 10 iterations\n",
    "# score curves, each time with 20% data randomly selected as a validation set.\n",
    "# Here only the training set is used.\n",
    "cv = ShuffleSplit(n_splits=10, test_size=0.2, random_state=15611)\n",
    "\n",
    "title = r\"Learning Curves (MLPClassifier v1)\"\n",
    "plot_learning_curve(clf_randsearchcv_v1.best_estimator_,\n",
    "    title, X_train_transformed, y_train, \n",
    "    axes=axes[:, 0], ylim=(0.7, 1.01), cv=cv, n_jobs=-1)\n",
    "\n",
    "title = r\"Learning Curves (MLPClassifier v2)\"\n",
    "plot_learning_curve(clf_randsearchcv_v2.best_estimator_,\n",
    "    title, X_train_transformed, y_train, \n",
    "    axes=axes[:, 1], ylim=(0.7, 1.01), cv=cv, n_jobs=-1)\n",
    "\n",
    "title = r\"Learning Curves (XGBoosting)\"\n",
    "plot_learning_curve(clf_ensemble.best_estimator_,\n",
    "    title, X_train_transformed, y_train_transformed, \n",
    "    axes=axes[:, 2], ylim=(0.7, 1.01), cv=cv, n_jobs=-1)\n",
    "\n",
    "title = r\"Learning Curves (Gradient Boosting)\"\n",
    "plot_learning_curve(gbc,\n",
    "    title, X_train_transformed, y_train_transformed, \n",
    "    axes=axes[:, 3], ylim=(0.7, 1.01), cv=cv, n_jobs=-1)\n",
    "\n",
    "\n",
    "plt.tight_layout(pad=3.0)\n",
    "plt.show();"
   ]
  },
  {
   "cell_type": "markdown",
   "metadata": {},
   "source": [
    "Both MLP models are somewhat underfitting, judging by learning curves. Both Training score decreases relatively rapidly while cross-validation score climbes slowly, with increasing the number of examples. The best model from the hyperparameter setting 1 seems to have a better scalability, but take more fit-times to get the highest score. <br>\n",
    "\n",
    "Due to the nature of RandomizedSearchCV algorithm, although there is no garantee that more hyperparameters in the distribution space or more sample combinations will produce the best models, certainly the chances of finding best models will be higher."
   ]
  },
  {
   "cell_type": "markdown",
   "metadata": {},
   "source": [
    "### Prediction accuracy"
   ]
  },
  {
   "cell_type": "code",
   "execution_count": 54,
   "metadata": {},
   "outputs": [
    {
     "name": "stdout",
     "output_type": "stream",
     "text": [
      "Prediction and CV scores of the 5 best models:\n",
      "\n",
      "Model \t\t\tprediction score\tCV score\n",
      "----------------------------------------------------------\n",
      "Neural Net (MLPv1)\t0.8371\t\t\t0.8366\n",
      "Neural Net (MLPv2)\t0.8363\t\t\t0.839\n",
      "Guassian Process\t0.8367\t\t\t0.8367\n",
      "XGBoosting      \t0.8369\t\t\t0.8388\n",
      "Gradient Boosting\t0.8284\t\t\t0.8378\n"
     ]
    }
   ],
   "source": [
    "# Best prediction score\n",
    "print('Prediction and CV scores of the 5 best models:\\n')\n",
    "print('Model \\t\\t\\tprediction score\\tCV score')\n",
    "print('----------------------------------------------------------')\n",
    "\n",
    "# Non-ensemble model\n",
    "clf_nn_v1_roc_auc = calculate_roc_auc_score(clf_randsearchcv_v1.best_estimator_, X_valid_transformed, y_valid)\n",
    "print('Neural Net (MLPv1)\\t{}\\t\\t\\t{}'.format(round(clf_nn_v1_roc_auc,4),round(clf_randsearchcv_v1.best_score_,4)))\n",
    "clf_nn_v2_roc_auc = calculate_roc_auc_score(clf_randsearchcv_v2.best_estimator_, X_valid_transformed,y_valid) \n",
    "print('Neural Net (MLPv2)\\t{}\\t\\t\\t{}'.format(round(clf_nn_v2_roc_auc,4),round(clf_randsearchcv_v2.best_score_,4)))\n",
    "## Gaussian process\n",
    "clf_gp_train_roc_auc = calculate_roc_auc_score(screening_results['model']['Gaussian Process'], X_valid_transformed, y_valid)\n",
    "clf_gp_roc_auc = screening_results['score']['Gaussian Process'] \n",
    "print('Guassian Process\\t{}\\t\\t\\t{}'.format(round(clf_gp_roc_auc,4),round(clf_gp_train_roc_auc,4)))\n",
    "\n",
    "# Ensemble\n",
    "ens_roc_auc = calculate_roc_auc_score(clf_ensemble.best_estimator_, X_valid_transformed, y_valid_transformed)\n",
    "print('XGBoosting      \\t{}\\t\\t\\t{}'.format(round(ens_roc_auc,4),round(clf_ensemble.best_score_,4)))\n",
    "gbc_roc_auc = calculate_roc_auc_score(gbc, X_valid_transformed,y_valid_transformed) \n",
    "print('Gradient Boosting\\t{}\\t\\t\\t{}'.format(round(gbc_roc_auc,4),round(clf_ensemble.cv_results_['mean_test_score'][14],4)))\n"
   ]
  },
  {
   "cell_type": "code",
   "execution_count": 297,
   "metadata": {},
   "outputs": [
    {
     "name": "stdout",
     "output_type": "stream",
     "text": [
      "MLP v1 - Best prediction score v1: 0.8371\n"
     ]
    },
    {
     "data": {
      "text/plain": [
       "{'classifier': MLPClassifier(alpha=0.47857874420504615, learning_rate='invscaling',\n",
       "               random_state=15611),\n",
       " 'classifier__activation': 'relu',\n",
       " 'classifier__alpha': 0.47857874420504615,\n",
       " 'classifier__learning_rate': 'invscaling',\n",
       " 'classifier__solver': 'adam'}"
      ]
     },
     "execution_count": 297,
     "metadata": {},
     "output_type": "execute_result"
    }
   ],
   "source": [
    "# Best model:\n",
    "print(f'MLP v1 - Best prediction score v1: {round(clf_nn_v1_roc_auc,4)}')\n",
    "clf_randsearchcv_v1.best_params_"
   ]
  },
  {
   "cell_type": "markdown",
   "metadata": {},
   "source": [
    "The ***best predictive model*** is the ***Multi_Layer Perceptron classifier (MLPClassifier)*** from scikit learn's neural_network module, with default ***\"relu\"*** activation function and ***\"adam\"*** solver, ***\"invscaling\"*** learning rate schedule, and L2 penalty regulization parameter ***alpha = 0.4786***. <br>\n",
    "\n",
    "The hyperparameter setting 2 (MLPv2) had a high cross-validation score, however, the score is somewhat lower on validation set. Guassian process had the second best score. Nevertheless, the scores from the three models are very close (max difference is less than 0.001). <br>\n",
    "\n",
    "However, XGBoosting is also a very good model with only 0.02% point less accurate than the neural network model. Since neural network model is sensitive to collinearity between features, and our dataset did not remove the features with strong correaltion or drop a coloumn from the one-hot-ended features, we will choose the **XGBoosting as our best model**.\n",
    "\n",
    "It should be noted that due to the randomness nuature of RandomSearchCV algorithm, the results will be different each time when we fit the model. Further more, Gaussian Process is highly computational expensive, any execution that involves repeated compotations, such as hyperparameter tuning, learning curve, or permutation importances, is extremely slow. Therefore, evaluating model performace or selecting important features of a Guassian Process Classifier will be extremely expensive. "
   ]
  },
  {
   "cell_type": "markdown",
   "metadata": {},
   "source": [
    "### Feature importance\n",
    "#### Feature list from pipeline"
   ]
  },
  {
   "cell_type": "code",
   "execution_count": 55,
   "metadata": {},
   "outputs": [],
   "source": [
    "depend = ['dependents']\n",
    "cat_vars = ['gender', 'occupation']#,'branch_code']\n",
    "\n",
    "nw_cat = ['customer_nw_category']\n",
    "bal_vars = ['current_balance', 'current_month_balance', \n",
    "            'previous_month_end_balance','previous_month_balance',\n",
    "            'average_monthly_balance_prevQ', 'average_monthly_balance_prevQ2']\n",
    "debit_vars = ['current_month_debit','previous_month_debit']\n",
    "credit_vars = ['current_month_credit', 'previous_month_credit']\n",
    "days_br_vars = ['days_since_last_transaction','branch_code']\n",
    "vin_age_vars = ['vintage', 'age']\n",
    "vin_day_vars = ['days_since_last_transaction','vintage']\n",
    "vin_dep_vars = ['dependents','vintage']\n",
    "\n",
    "target = 'churn'"
   ]
  },
  {
   "cell_type": "code",
   "execution_count": 56,
   "metadata": {},
   "outputs": [],
   "source": [
    "vars_list = [depend,cat_vars,nw_cat,vin_age_vars,days_br_vars,bal_vars,debit_vars,credit_vars, bal_vars,\n",
    "             vin_day_vars,depend+bal_vars,depend+credit_vars,depend+debit_vars,vin_age_vars]\n",
    "last_steps = ['ohe_depend','ohe_cat','','scal_base','scal_days_br','scal_bal','scal_debit','scal_credit', 'scal_bal_pct',\n",
    "              'scal_vinday','scal_bal_pers','scal_credit_pers','scal_debit_pers','scal_vinage']"
   ]
  },
  {
   "cell_type": "code",
   "execution_count": 57,
   "metadata": {},
   "outputs": [
    {
     "data": {
      "text/plain": [
       "47"
      ]
     },
     "execution_count": 57,
     "metadata": {},
     "output_type": "execute_result"
    }
   ],
   "source": [
    "# get the features after transformation\n",
    "features_fin = []\n",
    "for key, step, vars in zip(list(pipeline_data.named_transformers_.keys())[:-1], last_steps, vars_list):\n",
    "#     print(key, step, vars)\n",
    "    if key == 'depend':\n",
    "        features_fin.extend(list(pipeline_data.named_transformers_[key][step].get_feature_names() + '_dependents'))\n",
    "    elif key == 'cat_vars':\n",
    "        features_fin.extend(list(pipeline_data.named_transformers_[key][step].get_feature_names()))\n",
    "    elif key == 'ode_nw':\n",
    "        features_fin.extend(list(nw_cat))\n",
    "    elif key == 'eng_pct':\n",
    "        features_fin.extend('_pct,'.join(vars+['']).split(',')[1:-1])\n",
    "    elif key == 'eng_vinday':\n",
    "        features_fin.extend('_vinday,'.join(vars+['']).split(',')[1:-1])\n",
    "    elif key == 'eng_balpers':\n",
    "        features_fin.extend('_balpers,'.join(vars+['']).split(',')[1:-1])\n",
    "    elif key == 'eng_crdpers':\n",
    "        features_fin.extend('_creditpers,'.join(vars+['']).split(',')[1:-1])\n",
    "    elif key == 'eng_dbtpers':\n",
    "        features_fin.extend('_debitpers,'.join(vars+['']).split(',')[1:-1])\n",
    "    elif key == 'eng_srscore':\n",
    "#         print(step, vars)\n",
    "        features_fin.extend('_age_seniority,'.join(vars+['']).split(',')[0:-2])\n",
    "    else:\n",
    "        features_fin.extend(vars)\n",
    "len(features_fin)"
   ]
  },
  {
   "cell_type": "markdown",
   "metadata": {},
   "source": [
    "#### Permutation importance"
   ]
  },
  {
   "cell_type": "code",
   "execution_count": 59,
   "metadata": {},
   "outputs": [],
   "source": [
    "from sklearn.inspection import permutation_importance\n",
    "fpi_train_v1 = permutation_importance(clf_randsearchcv_v1.best_estimator_, X_train_transformed, y_train, scoring='roc_auc')\n",
    "fpi_valid_v1 = permutation_importance(clf_randsearchcv_v1.best_estimator_, X_valid_transformed, y_valid, scoring='roc_auc')\n",
    "\n",
    "fpi_train_v2 = permutation_importance(clf_randsearchcv_v2.best_estimator_, X_train_transformed, y_train, scoring='roc_auc')\n",
    "fpi_valid_v2 = permutation_importance(clf_randsearchcv_v2.best_estimator_, X_valid_transformed, y_valid, scoring='roc_auc')\n",
    "\n",
    "fpi_train_xgbc = permutation_importance(clf_ensemble.best_estimator_, X_train_transformed, y_train_transformed, scoring='roc_auc')\n",
    "fpi_valid_xgbc = permutation_importance(clf_ensemble.best_estimator_, X_valid_transformed, y_valid_transformed, scoring='roc_auc')"
   ]
  },
  {
   "cell_type": "code",
   "execution_count": 60,
   "metadata": {},
   "outputs": [
    {
     "data": {
      "text/plain": [
       "array([ 0.00000000e+00,  0.00000000e+00,  0.00000000e+00,  0.00000000e+00,\n",
       "        0.00000000e+00,  0.00000000e+00,  0.00000000e+00,  3.34121714e-05,\n",
       "        0.00000000e+00,  2.32753712e-04,  0.00000000e+00,  0.00000000e+00,\n",
       "        9.57438418e-04,  0.00000000e+00,  0.00000000e+00,  1.15232057e-03,\n",
       "        1.75972988e-03,  1.36989903e-03, -3.41775897e-05, -2.15115813e-04,\n",
       "        3.72077475e-02,  5.44039339e-03,  2.73221043e-05,  3.12576854e-03,\n",
       "        1.19288773e-02,  1.25911305e-03,  1.94412913e-03, -8.48615907e-06,\n",
       "        2.39838823e-03,  6.45413996e-04,  1.87585714e-02,  2.53945482e-02,\n",
       "        1.59650943e-02,  1.06466686e-02,  1.86039902e-02,  4.43876038e-04,\n",
       "        4.73437823e-03,  1.54514653e-04, -3.93691223e-04,  9.94777518e-04,\n",
       "        4.28294785e-03,  6.02018108e-05,  2.16846324e-04,  3.90230201e-04,\n",
       "       -1.17142274e-05,  1.47060145e-04,  7.15832477e-04])"
      ]
     },
     "execution_count": 60,
     "metadata": {},
     "output_type": "execute_result"
    }
   ],
   "source": [
    "# Importances of features of the best model\n",
    "fpi_valid_xgbc['importances_mean']"
   ]
  },
  {
   "cell_type": "code",
   "execution_count": 61,
   "metadata": {},
   "outputs": [],
   "source": [
    "def plot_feature_importance(fpi1, fpi2=[],dataset=['train'], model='regression'):\n",
    "    \"\"\" plot feaute importance\n",
    "        fpi1 and fpi2: feautre importance lists.\n",
    "        dataset: list of dataset names\n",
    "        model: string, model name\n",
    "    \"\"\"\n",
    "    plt.figure(figsize=(10,4))\n",
    "    ncols = 2\n",
    "    if len(fpi2) == 0:\n",
    "        ncols = 1\n",
    "    plt.subplot(1,ncols,1)\n",
    "    plt.bar(range(len(fpi1)), fpi1, 1,1)\n",
    "    plt.title(model + ': Feature Importance - ' + dataset[0] + ' set')\n",
    "    if len(fpi2) > 0:\n",
    "        plt.subplot(1,ncols,ncols)\n",
    "        plt.bar(range(len(fpi2)), fpi2, 1,ncols)\n",
    "        plt.title(model + ': Feature Importance - ' + dataset[1] + ' set')\n"
   ]
  },
  {
   "cell_type": "code",
   "execution_count": 63,
   "metadata": {},
   "outputs": [
    {
     "data": {
      "image/png": "[encoded data removed]",
      "text/plain": [
       "<Figure size 720x288 with 2 Axes>"
      ]
     },
     "metadata": {
      "needs_background": "light"
     },
     "output_type": "display_data"
    },
    {
     "data": {
      "image/png": "[encoded data removed]",
      "text/plain": [
       "<Figure size 720x288 with 2 Axes>"
      ]
     },
     "metadata": {
      "needs_background": "light"
     },
     "output_type": "display_data"
    },
    {
     "data": {
      "image/png": "[encoded data removed]",
      "text/plain": [
       "<Figure size 720x288 with 2 Axes>"
      ]
     },
     "metadata": {
      "needs_background": "light"
     },
     "output_type": "display_data"
    }
   ],
   "source": [
    "plot_feature_importance(fpi_train_v1['importances_mean'], fpi_valid_v1['importances_mean'], dataset=['train','validation'], model='MLP_v1')\n",
    "plot_feature_importance(fpi_train_v2['importances_mean'], fpi_valid_v2['importances_mean'], dataset=['train','validation'], model='MLP_v2')\n",
    "plot_feature_importance(fpi_train_xgbc['importances_mean'], fpi_valid_xgbc['importances_mean'], dataset=['train','validation'], model='XGBC')"
   ]
  },
  {
   "cell_type": "markdown",
   "metadata": {},
   "source": [
    "The most important features for MLPv1 and MLPv1 are similar for MLPv1 and MLPv1, however, they are very different for the XGBC model."
   ]
  },
  {
   "cell_type": "code",
   "execution_count": 65,
   "metadata": {},
   "outputs": [],
   "source": [
    "feat_importances = pd.DataFrame.from_dict({'features':features_fin,\n",
    "             'MLP_train_v1':fpi_train_v1['importances_mean'],\n",
    "             'MLP_valid_v1':fpi_valid_v1['importances_mean'],\n",
    "             'MLP_train_v2':fpi_train_v2['importances_mean'],\n",
    "             'MLP_valid_v2':fpi_valid_v2['importances_mean'],\n",
    "             'xgbc_train':fpi_train_xgbc['importances_mean'],\n",
    "             'xgbc_valid':fpi_valid_xgbc['importances_mean'],\n",
    "                                          }).sort_values(['xgbc_valid'],ascending=False)"
   ]
  },
  {
   "cell_type": "code",
   "execution_count": 66,
   "metadata": {},
   "outputs": [
    {
     "name": "stdout",
     "output_type": "stream",
     "text": [
      "(17, 7)\n"
     ]
    },
    {
     "data": {
      "text/html": [
       "<div>\n",
       "<style scoped>\n",
       "    .dataframe tbody tr th:only-of-type {\n",
       "        vertical-align: middle;\n",
       "    }\n",
       "\n",
       "    .dataframe tbody tr th {\n",
       "        vertical-align: top;\n",
       "    }\n",
       "\n",
       "    .dataframe thead th {\n",
       "        text-align: right;\n",
       "    }\n",
       "</style>\n",
       "<table border=\"1\" class=\"dataframe\">\n",
       "  <thead>\n",
       "    <tr style=\"text-align: right;\">\n",
       "      <th></th>\n",
       "      <th>features</th>\n",
       "      <th>MLP_train_v1</th>\n",
       "      <th>MLP_valid_v1</th>\n",
       "      <th>MLP_train_v2</th>\n",
       "      <th>MLP_valid_v2</th>\n",
       "      <th>xgbc_train</th>\n",
       "      <th>xgbc_valid</th>\n",
       "    </tr>\n",
       "  </thead>\n",
       "  <tbody>\n",
       "    <tr>\n",
       "      <th>20</th>\n",
       "      <td>current_balance</td>\n",
       "      <td>0.053192</td>\n",
       "      <td>0.043707</td>\n",
       "      <td>0.056114</td>\n",
       "      <td>0.049425</td>\n",
       "      <td>0.042947</td>\n",
       "      <td>0.037208</td>\n",
       "    </tr>\n",
       "    <tr>\n",
       "      <th>31</th>\n",
       "      <td>previous_month_end_balance_pct</td>\n",
       "      <td>0.007439</td>\n",
       "      <td>0.010020</td>\n",
       "      <td>0.006547</td>\n",
       "      <td>0.007286</td>\n",
       "      <td>0.019966</td>\n",
       "      <td>0.025395</td>\n",
       "    </tr>\n",
       "    <tr>\n",
       "      <th>30</th>\n",
       "      <td>current_month_balance_pct</td>\n",
       "      <td>0.007715</td>\n",
       "      <td>0.001932</td>\n",
       "      <td>0.001820</td>\n",
       "      <td>-0.001037</td>\n",
       "      <td>0.025129</td>\n",
       "      <td>0.018759</td>\n",
       "    </tr>\n",
       "    <tr>\n",
       "      <th>34</th>\n",
       "      <td>average_monthly_balance_prevQ2_pct</td>\n",
       "      <td>0.020253</td>\n",
       "      <td>0.013521</td>\n",
       "      <td>0.003332</td>\n",
       "      <td>0.003530</td>\n",
       "      <td>0.022786</td>\n",
       "      <td>0.018604</td>\n",
       "    </tr>\n",
       "    <tr>\n",
       "      <th>32</th>\n",
       "      <td>previous_month_balance_pct</td>\n",
       "      <td>0.006350</td>\n",
       "      <td>0.003351</td>\n",
       "      <td>0.002200</td>\n",
       "      <td>0.001860</td>\n",
       "      <td>0.021091</td>\n",
       "      <td>0.015965</td>\n",
       "    </tr>\n",
       "    <tr>\n",
       "      <th>24</th>\n",
       "      <td>average_monthly_balance_prevQ</td>\n",
       "      <td>0.060671</td>\n",
       "      <td>0.075595</td>\n",
       "      <td>0.071838</td>\n",
       "      <td>0.090212</td>\n",
       "      <td>0.015003</td>\n",
       "      <td>0.011929</td>\n",
       "    </tr>\n",
       "    <tr>\n",
       "      <th>33</th>\n",
       "      <td>average_monthly_balance_prevQ_pct</td>\n",
       "      <td>0.015232</td>\n",
       "      <td>0.008310</td>\n",
       "      <td>0.007932</td>\n",
       "      <td>0.004183</td>\n",
       "      <td>0.015050</td>\n",
       "      <td>0.010647</td>\n",
       "    </tr>\n",
       "    <tr>\n",
       "      <th>21</th>\n",
       "      <td>current_month_balance</td>\n",
       "      <td>0.011915</td>\n",
       "      <td>0.009082</td>\n",
       "      <td>0.012419</td>\n",
       "      <td>0.009947</td>\n",
       "      <td>0.007396</td>\n",
       "      <td>0.005440</td>\n",
       "    </tr>\n",
       "    <tr>\n",
       "      <th>36</th>\n",
       "      <td>current_balance_balpers</td>\n",
       "      <td>0.065527</td>\n",
       "      <td>0.058804</td>\n",
       "      <td>0.067979</td>\n",
       "      <td>0.062422</td>\n",
       "      <td>0.007295</td>\n",
       "      <td>0.004734</td>\n",
       "    </tr>\n",
       "    <tr>\n",
       "      <th>40</th>\n",
       "      <td>average_monthly_balance_prevQ_balpers</td>\n",
       "      <td>0.056958</td>\n",
       "      <td>0.067904</td>\n",
       "      <td>0.065342</td>\n",
       "      <td>0.080248</td>\n",
       "      <td>0.007350</td>\n",
       "      <td>0.004283</td>\n",
       "    </tr>\n",
       "    <tr>\n",
       "      <th>23</th>\n",
       "      <td>previous_month_balance</td>\n",
       "      <td>0.004980</td>\n",
       "      <td>0.001596</td>\n",
       "      <td>0.002481</td>\n",
       "      <td>0.000509</td>\n",
       "      <td>0.003308</td>\n",
       "      <td>0.003126</td>\n",
       "    </tr>\n",
       "    <tr>\n",
       "      <th>26</th>\n",
       "      <td>current_month_debit</td>\n",
       "      <td>0.004943</td>\n",
       "      <td>0.002457</td>\n",
       "      <td>0.002402</td>\n",
       "      <td>0.000902</td>\n",
       "      <td>0.002469</td>\n",
       "      <td>0.001944</td>\n",
       "    </tr>\n",
       "    <tr>\n",
       "      <th>16</th>\n",
       "      <td>vintage</td>\n",
       "      <td>0.003352</td>\n",
       "      <td>0.001215</td>\n",
       "      <td>0.002415</td>\n",
       "      <td>0.002757</td>\n",
       "      <td>0.004991</td>\n",
       "      <td>0.001760</td>\n",
       "    </tr>\n",
       "    <tr>\n",
       "      <th>25</th>\n",
       "      <td>average_monthly_balance_prevQ2</td>\n",
       "      <td>0.005147</td>\n",
       "      <td>0.003372</td>\n",
       "      <td>0.009588</td>\n",
       "      <td>0.007181</td>\n",
       "      <td>0.002661</td>\n",
       "      <td>0.001259</td>\n",
       "    </tr>\n",
       "    <tr>\n",
       "      <th>39</th>\n",
       "      <td>previous_month_balance_balpers</td>\n",
       "      <td>0.006072</td>\n",
       "      <td>0.006470</td>\n",
       "      <td>0.001907</td>\n",
       "      <td>0.002324</td>\n",
       "      <td>0.001756</td>\n",
       "      <td>0.000995</td>\n",
       "    </tr>\n",
       "    <tr>\n",
       "      <th>29</th>\n",
       "      <td>previous_month_credit</td>\n",
       "      <td>0.003497</td>\n",
       "      <td>0.001905</td>\n",
       "      <td>0.001419</td>\n",
       "      <td>0.000590</td>\n",
       "      <td>0.001549</td>\n",
       "      <td>0.000645</td>\n",
       "    </tr>\n",
       "    <tr>\n",
       "      <th>35</th>\n",
       "      <td>vintage_vinday</td>\n",
       "      <td>0.001377</td>\n",
       "      <td>0.001109</td>\n",
       "      <td>0.001008</td>\n",
       "      <td>0.001488</td>\n",
       "      <td>0.003018</td>\n",
       "      <td>0.000444</td>\n",
       "    </tr>\n",
       "    <tr>\n",
       "      <th>9</th>\n",
       "      <td>x1_Accountant</td>\n",
       "      <td>0.001184</td>\n",
       "      <td>0.001179</td>\n",
       "      <td>0.000461</td>\n",
       "      <td>0.000985</td>\n",
       "      <td>0.000130</td>\n",
       "      <td>0.000233</td>\n",
       "    </tr>\n",
       "    <tr>\n",
       "      <th>37</th>\n",
       "      <td>current_month_balance_balpers</td>\n",
       "      <td>0.003695</td>\n",
       "      <td>0.002461</td>\n",
       "      <td>0.007241</td>\n",
       "      <td>0.005651</td>\n",
       "      <td>0.001255</td>\n",
       "      <td>0.000155</td>\n",
       "    </tr>\n",
       "    <tr>\n",
       "      <th>41</th>\n",
       "      <td>average_monthly_balance_prevQ2_balpers</td>\n",
       "      <td>0.005323</td>\n",
       "      <td>0.003121</td>\n",
       "      <td>0.007894</td>\n",
       "      <td>0.006162</td>\n",
       "      <td>0.001620</td>\n",
       "      <td>0.000060</td>\n",
       "    </tr>\n",
       "  </tbody>\n",
       "</table>\n",
       "</div>"
      ],
      "text/plain": [
       "                                  features  MLP_train_v1  MLP_valid_v1  \\\n",
       "20                         current_balance      0.053192      0.043707   \n",
       "31          previous_month_end_balance_pct      0.007439      0.010020   \n",
       "30               current_month_balance_pct      0.007715      0.001932   \n",
       "34      average_monthly_balance_prevQ2_pct      0.020253      0.013521   \n",
       "32              previous_month_balance_pct      0.006350      0.003351   \n",
       "24           average_monthly_balance_prevQ      0.060671      0.075595   \n",
       "33       average_monthly_balance_prevQ_pct      0.015232      0.008310   \n",
       "21                   current_month_balance      0.011915      0.009082   \n",
       "36                 current_balance_balpers      0.065527      0.058804   \n",
       "40   average_monthly_balance_prevQ_balpers      0.056958      0.067904   \n",
       "23                  previous_month_balance      0.004980      0.001596   \n",
       "26                     current_month_debit      0.004943      0.002457   \n",
       "16                                 vintage      0.003352      0.001215   \n",
       "25          average_monthly_balance_prevQ2      0.005147      0.003372   \n",
       "39          previous_month_balance_balpers      0.006072      0.006470   \n",
       "29                   previous_month_credit      0.003497      0.001905   \n",
       "35                          vintage_vinday      0.001377      0.001109   \n",
       "9                            x1_Accountant      0.001184      0.001179   \n",
       "37           current_month_balance_balpers      0.003695      0.002461   \n",
       "41  average_monthly_balance_prevQ2_balpers      0.005323      0.003121   \n",
       "\n",
       "    MLP_train_v2  MLP_valid_v2  xgbc_train  xgbc_valid  \n",
       "20      0.056114      0.049425    0.042947    0.037208  \n",
       "31      0.006547      0.007286    0.019966    0.025395  \n",
       "30      0.001820     -0.001037    0.025129    0.018759  \n",
       "34      0.003332      0.003530    0.022786    0.018604  \n",
       "32      0.002200      0.001860    0.021091    0.015965  \n",
       "24      0.071838      0.090212    0.015003    0.011929  \n",
       "33      0.007932      0.004183    0.015050    0.010647  \n",
       "21      0.012419      0.009947    0.007396    0.005440  \n",
       "36      0.067979      0.062422    0.007295    0.004734  \n",
       "40      0.065342      0.080248    0.007350    0.004283  \n",
       "23      0.002481      0.000509    0.003308    0.003126  \n",
       "26      0.002402      0.000902    0.002469    0.001944  \n",
       "16      0.002415      0.002757    0.004991    0.001760  \n",
       "25      0.009588      0.007181    0.002661    0.001259  \n",
       "39      0.001907      0.002324    0.001756    0.000995  \n",
       "29      0.001419      0.000590    0.001549    0.000645  \n",
       "35      0.001008      0.001488    0.003018    0.000444  \n",
       "9       0.000461      0.000985    0.000130    0.000233  \n",
       "37      0.007241      0.005651    0.001255    0.000155  \n",
       "41      0.007894      0.006162    0.001620    0.000060  "
      ]
     },
     "execution_count": 66,
     "metadata": {},
     "output_type": "execute_result"
    }
   ],
   "source": [
    "print(feat_importances[feat_importances['xgbc_valid']>=0.001].shape)\n",
    "feat_importances[feat_importances['MLP_valid_v1']>=0.001]"
   ]
  },
  {
   "cell_type": "markdown",
   "metadata": {},
   "source": [
    "The most important features are balance features, and most of them are engineered features (the percent changes of consecutive periods). Current balance, or current balance per household person has the highest importance value in all 3 best models, signifying this feature is the most important one for predicting customer churn."
   ]
  },
  {
   "cell_type": "code",
   "execution_count": 67,
   "metadata": {},
   "outputs": [
    {
     "name": "stdout",
     "output_type": "stream",
     "text": [
      "(17, 7)\n"
     ]
    },
    {
     "data": {
      "text/html": [
       "<div>\n",
       "<style scoped>\n",
       "    .dataframe tbody tr th:only-of-type {\n",
       "        vertical-align: middle;\n",
       "    }\n",
       "\n",
       "    .dataframe tbody tr th {\n",
       "        vertical-align: top;\n",
       "    }\n",
       "\n",
       "    .dataframe thead th {\n",
       "        text-align: right;\n",
       "    }\n",
       "</style>\n",
       "<table border=\"1\" class=\"dataframe\">\n",
       "  <thead>\n",
       "    <tr style=\"text-align: right;\">\n",
       "      <th></th>\n",
       "      <th>features</th>\n",
       "      <th>MLP_train_v1</th>\n",
       "      <th>MLP_valid_v1</th>\n",
       "      <th>MLP_train_v2</th>\n",
       "      <th>MLP_valid_v2</th>\n",
       "      <th>xgbc_train</th>\n",
       "      <th>xgbc_valid</th>\n",
       "    </tr>\n",
       "  </thead>\n",
       "  <tbody>\n",
       "    <tr>\n",
       "      <th>6</th>\n",
       "      <td>x0_6.0_dependents</td>\n",
       "      <td>0.000014</td>\n",
       "      <td>0.000014</td>\n",
       "      <td>0.000007</td>\n",
       "      <td>-4.659068e-07</td>\n",
       "      <td>0.000000</td>\n",
       "      <td>0.000000</td>\n",
       "    </tr>\n",
       "    <tr>\n",
       "      <th>2</th>\n",
       "      <td>x0_2.0_dependents</td>\n",
       "      <td>0.000217</td>\n",
       "      <td>0.000127</td>\n",
       "      <td>0.000169</td>\n",
       "      <td>8.113434e-05</td>\n",
       "      <td>0.000000</td>\n",
       "      <td>0.000000</td>\n",
       "    </tr>\n",
       "    <tr>\n",
       "      <th>3</th>\n",
       "      <td>x0_3.0_dependents</td>\n",
       "      <td>0.000072</td>\n",
       "      <td>0.000054</td>\n",
       "      <td>0.000072</td>\n",
       "      <td>1.464278e-06</td>\n",
       "      <td>0.000000</td>\n",
       "      <td>0.000000</td>\n",
       "    </tr>\n",
       "    <tr>\n",
       "      <th>4</th>\n",
       "      <td>x0_4.0_dependents</td>\n",
       "      <td>0.000011</td>\n",
       "      <td>-0.000138</td>\n",
       "      <td>0.000008</td>\n",
       "      <td>-2.196418e-06</td>\n",
       "      <td>0.000000</td>\n",
       "      <td>0.000000</td>\n",
       "    </tr>\n",
       "    <tr>\n",
       "      <th>0</th>\n",
       "      <td>x0_0.0_dependents</td>\n",
       "      <td>0.001083</td>\n",
       "      <td>0.000802</td>\n",
       "      <td>-0.000267</td>\n",
       "      <td>8.559373e-05</td>\n",
       "      <td>0.000000</td>\n",
       "      <td>0.000000</td>\n",
       "    </tr>\n",
       "    <tr>\n",
       "      <th>5</th>\n",
       "      <td>x0_5.0_dependents</td>\n",
       "      <td>0.000027</td>\n",
       "      <td>-0.000008</td>\n",
       "      <td>0.000002</td>\n",
       "      <td>-8.386322e-06</td>\n",
       "      <td>0.000000</td>\n",
       "      <td>0.000000</td>\n",
       "    </tr>\n",
       "    <tr>\n",
       "      <th>8</th>\n",
       "      <td>x0_Male</td>\n",
       "      <td>0.000968</td>\n",
       "      <td>0.000879</td>\n",
       "      <td>0.000427</td>\n",
       "      <td>7.717413e-04</td>\n",
       "      <td>0.000000</td>\n",
       "      <td>0.000000</td>\n",
       "    </tr>\n",
       "    <tr>\n",
       "      <th>10</th>\n",
       "      <td>x1_Chef</td>\n",
       "      <td>0.000020</td>\n",
       "      <td>0.000026</td>\n",
       "      <td>0.000009</td>\n",
       "      <td>1.970120e-05</td>\n",
       "      <td>0.000000</td>\n",
       "      <td>0.000000</td>\n",
       "    </tr>\n",
       "    <tr>\n",
       "      <th>11</th>\n",
       "      <td>x1_Doctor</td>\n",
       "      <td>0.000146</td>\n",
       "      <td>0.000032</td>\n",
       "      <td>0.000034</td>\n",
       "      <td>2.995115e-06</td>\n",
       "      <td>0.000000</td>\n",
       "      <td>0.000000</td>\n",
       "    </tr>\n",
       "    <tr>\n",
       "      <th>13</th>\n",
       "      <td>x1_Lawyer</td>\n",
       "      <td>0.000157</td>\n",
       "      <td>0.000147</td>\n",
       "      <td>0.000262</td>\n",
       "      <td>1.524181e-04</td>\n",
       "      <td>0.000000</td>\n",
       "      <td>0.000000</td>\n",
       "    </tr>\n",
       "    <tr>\n",
       "      <th>14</th>\n",
       "      <td>x1_other</td>\n",
       "      <td>0.000073</td>\n",
       "      <td>-0.000082</td>\n",
       "      <td>0.000037</td>\n",
       "      <td>2.728883e-06</td>\n",
       "      <td>0.000000</td>\n",
       "      <td>0.000000</td>\n",
       "    </tr>\n",
       "    <tr>\n",
       "      <th>1</th>\n",
       "      <td>x0_1.0_dependents</td>\n",
       "      <td>0.000245</td>\n",
       "      <td>-0.000349</td>\n",
       "      <td>0.000057</td>\n",
       "      <td>-6.116690e-05</td>\n",
       "      <td>0.000000</td>\n",
       "      <td>0.000000</td>\n",
       "    </tr>\n",
       "    <tr>\n",
       "      <th>27</th>\n",
       "      <td>previous_month_debit</td>\n",
       "      <td>0.001918</td>\n",
       "      <td>-0.000347</td>\n",
       "      <td>0.000705</td>\n",
       "      <td>-9.644270e-05</td>\n",
       "      <td>0.002774</td>\n",
       "      <td>-0.000008</td>\n",
       "    </tr>\n",
       "    <tr>\n",
       "      <th>44</th>\n",
       "      <td>current_month_debit_debitpers</td>\n",
       "      <td>0.003299</td>\n",
       "      <td>0.000671</td>\n",
       "      <td>0.000922</td>\n",
       "      <td>-7.935724e-04</td>\n",
       "      <td>0.001541</td>\n",
       "      <td>-0.000012</td>\n",
       "    </tr>\n",
       "    <tr>\n",
       "      <th>18</th>\n",
       "      <td>days_since_last_transaction</td>\n",
       "      <td>0.003030</td>\n",
       "      <td>0.000845</td>\n",
       "      <td>0.000463</td>\n",
       "      <td>1.686583e-04</td>\n",
       "      <td>0.001489</td>\n",
       "      <td>-0.000034</td>\n",
       "    </tr>\n",
       "    <tr>\n",
       "      <th>19</th>\n",
       "      <td>branch_code</td>\n",
       "      <td>0.002422</td>\n",
       "      <td>0.000308</td>\n",
       "      <td>0.000478</td>\n",
       "      <td>-1.129491e-04</td>\n",
       "      <td>0.001951</td>\n",
       "      <td>-0.000215</td>\n",
       "    </tr>\n",
       "    <tr>\n",
       "      <th>38</th>\n",
       "      <td>previous_month_end_balance_balpers</td>\n",
       "      <td>0.001764</td>\n",
       "      <td>0.000837</td>\n",
       "      <td>0.000896</td>\n",
       "      <td>2.092587e-04</td>\n",
       "      <td>0.000898</td>\n",
       "      <td>-0.000394</td>\n",
       "    </tr>\n",
       "  </tbody>\n",
       "</table>\n",
       "</div>"
      ],
      "text/plain": [
       "                              features  MLP_train_v1  MLP_valid_v1  \\\n",
       "6                    x0_6.0_dependents      0.000014      0.000014   \n",
       "2                    x0_2.0_dependents      0.000217      0.000127   \n",
       "3                    x0_3.0_dependents      0.000072      0.000054   \n",
       "4                    x0_4.0_dependents      0.000011     -0.000138   \n",
       "0                    x0_0.0_dependents      0.001083      0.000802   \n",
       "5                    x0_5.0_dependents      0.000027     -0.000008   \n",
       "8                              x0_Male      0.000968      0.000879   \n",
       "10                             x1_Chef      0.000020      0.000026   \n",
       "11                           x1_Doctor      0.000146      0.000032   \n",
       "13                           x1_Lawyer      0.000157      0.000147   \n",
       "14                            x1_other      0.000073     -0.000082   \n",
       "1                    x0_1.0_dependents      0.000245     -0.000349   \n",
       "27                previous_month_debit      0.001918     -0.000347   \n",
       "44       current_month_debit_debitpers      0.003299      0.000671   \n",
       "18         days_since_last_transaction      0.003030      0.000845   \n",
       "19                         branch_code      0.002422      0.000308   \n",
       "38  previous_month_end_balance_balpers      0.001764      0.000837   \n",
       "\n",
       "    MLP_train_v2  MLP_valid_v2  xgbc_train  xgbc_valid  \n",
       "6       0.000007 -4.659068e-07    0.000000    0.000000  \n",
       "2       0.000169  8.113434e-05    0.000000    0.000000  \n",
       "3       0.000072  1.464278e-06    0.000000    0.000000  \n",
       "4       0.000008 -2.196418e-06    0.000000    0.000000  \n",
       "0      -0.000267  8.559373e-05    0.000000    0.000000  \n",
       "5       0.000002 -8.386322e-06    0.000000    0.000000  \n",
       "8       0.000427  7.717413e-04    0.000000    0.000000  \n",
       "10      0.000009  1.970120e-05    0.000000    0.000000  \n",
       "11      0.000034  2.995115e-06    0.000000    0.000000  \n",
       "13      0.000262  1.524181e-04    0.000000    0.000000  \n",
       "14      0.000037  2.728883e-06    0.000000    0.000000  \n",
       "1       0.000057 -6.116690e-05    0.000000    0.000000  \n",
       "27      0.000705 -9.644270e-05    0.002774   -0.000008  \n",
       "44      0.000922 -7.935724e-04    0.001541   -0.000012  \n",
       "18      0.000463  1.686583e-04    0.001489   -0.000034  \n",
       "19      0.000478 -1.129491e-04    0.001951   -0.000215  \n",
       "38      0.000896  2.092587e-04    0.000898   -0.000394  "
      ]
     },
     "execution_count": 67,
     "metadata": {},
     "output_type": "execute_result"
    }
   ],
   "source": [
    "print(feat_importances[feat_importances['xgbc_valid']<=0.00001].shape)\n",
    "feat_importances[feat_importances['xgbc_valid']<=0.00001]"
   ]
  },
  {
   "cell_type": "markdown",
   "metadata": {},
   "source": [
    "The above features have zero or negative importance to the model for th XGBoosting model. This means that these features do not contribute to the prediction of the churn and can be removed from the model. These features are mainly from one-hot-encoded columns of \"dependents\" and \"occupation\". The following numerical features Previous month debit, current month debit per household person, branch code, and days since last transaction also do not contribute to the model prediction and can be removed."
   ]
  },
  {
   "cell_type": "code",
   "execution_count": 68,
   "metadata": {},
   "outputs": [
    {
     "data": {
      "image/png": "[encoded data removed]",
      "text/plain": [
       "<Figure size 720x288 with 2 Axes>"
      ]
     },
     "metadata": {
      "needs_background": "light"
     },
     "output_type": "display_data"
    },
    {
     "data": {
      "image/png": "[encoded data removed]",
      "text/plain": [
       "<Figure size 720x288 with 2 Axes>"
      ]
     },
     "metadata": {
      "needs_background": "light"
     },
     "output_type": "display_data"
    },
    {
     "data": {
      "image/png": "[encoded data removed]",
      "text/plain": [
       "<Figure size 720x288 with 2 Axes>"
      ]
     },
     "metadata": {
      "needs_background": "light"
     },
     "output_type": "display_data"
    }
   ],
   "source": [
    "idx = feat_importances[feat_importances['MLP_valid_v1']>=0.001].index\n",
    "plot_feature_importance(fpi_train_v1['importances_mean'][idx], fpi_valid_v1['importances_mean'][idx], dataset=['train','validation'], model='MLP_v1')\n",
    "plot_feature_importance(fpi_train_v2['importances_mean'][idx], fpi_valid_v2['importances_mean'][idx], dataset=['train','validation'], model='MLP_v2')\n",
    "plot_feature_importance(fpi_train_xgbc['importances_mean'][idx], fpi_valid_xgbc['importances_mean'][idx], dataset=['train','validation'], model='XGBC')"
   ]
  },
  {
   "cell_type": "markdown",
   "metadata": {},
   "source": [
    "The above dataframe and bar plot shows the 17 most important features in predicting the churn. We could use these features to further train the model and evaluate the effects of feature selection on performace of the candidate models. <br>\n",
    "\n",
    "They also showes that the most importance feature are about the same for the 2 MLP models, however, they are very different for the XGBoosting model. The main reason might come from the fact that MLP models cannot deal with colinearity existing in the data and XGBC model can. <br>"
   ]
  },
  {
   "cell_type": "markdown",
   "metadata": {},
   "source": [
    "## Persist the best model"
   ]
  },
  {
   "cell_type": "code",
   "execution_count": 297,
   "metadata": {},
   "outputs": [
    {
     "name": "stdout",
     "output_type": "stream",
     "text": [
      "MLP v1 - Best prediction score v1: 0.8371\n"
     ]
    },
    {
     "data": {
      "text/plain": [
       "{'classifier': MLPClassifier(alpha=0.47857874420504615, learning_rate='invscaling',\n",
       "               random_state=15611),\n",
       " 'classifier__activation': 'relu',\n",
       " 'classifier__alpha': 0.47857874420504615,\n",
       " 'classifier__learning_rate': 'invscaling',\n",
       " 'classifier__solver': 'adam'}"
      ]
     },
     "execution_count": 297,
     "metadata": {},
     "output_type": "execute_result"
    }
   ],
   "source": [
    "# Best model:\n",
    "print(f'MLP v1 - Best prediction score v1: {round(clf_nn_v1_roc_auc,4)}')\n",
    "clf_randsearchcv_v1.best_params_"
   ]
  },
  {
   "cell_type": "code",
   "execution_count": 255,
   "metadata": {},
   "outputs": [
    {
     "data": {
      "text/plain": [
       "['Best churn classifier.joblib']"
      ]
     },
     "execution_count": 255,
     "metadata": {},
     "output_type": "execute_result"
    }
   ],
   "source": [
    "joblib.dump(clf_randsearchcv_v1.best_estimator_, 'Best churn classifier.joblib')"
   ]
  },
  {
   "cell_type": "markdown",
   "metadata": {},
   "source": [
    "## Predict on new dataset"
   ]
  },
  {
   "cell_type": "code",
   "execution_count": 268,
   "metadata": {},
   "outputs": [],
   "source": [
    "submit = pd.read_csv('./data/visathon_test_data.csv')\n",
    "X_submit = submit.drop(target,axis=1).copy()"
   ]
  },
  {
   "cell_type": "code",
   "execution_count": 269,
   "metadata": {},
   "outputs": [
    {
     "data": {
      "text/plain": [
       "(4413, 47)"
      ]
     },
     "execution_count": 269,
     "metadata": {},
     "output_type": "execute_result"
    }
   ],
   "source": [
    "X_submit_transformed = pipeline_data.transform(X_submit)\n",
    "X_submit_transformed.shape"
   ]
  },
  {
   "cell_type": "code",
   "execution_count": 288,
   "metadata": {},
   "outputs": [],
   "source": [
    "def predict_and_submit(model,X,filename='submission'):\n",
    "    pred_submit = model.predict(X)\n",
    "    submission = submit[['customer_id','churn']].copy()\n",
    "    submission['churn'] = pred_submit\n",
    "    submission['churn'] = submission['churn'].map({'Yes':1,'No':0})\n",
    "    submission.to_csv(filename+'.csv',index=False)\n",
    "    \n",
    "predict_and_submit(clf_randsearchcv_v1.best_estimator_,X_submit_transformed,filename='mlp_submission')"
   ]
  },
  {
   "cell_type": "markdown",
   "metadata": {},
   "source": [
    "The Kaggle competition leaderboard showed that the prediction score was 0.67416, which is much lower than the score on the validation set and was unexpected. "
   ]
  },
  {
   "attachments": {
    "acf25d1f-2951-43f8-b554-e1e060e3560e.png": {
     "image/png": "[encoded data removed]"
    }
   },
   "cell_type": "markdown",
   "metadata": {},
   "source": [
    "![image.png](attachment:acf25d1f-2951-43f8-b554-e1e060e3560e.png)"
   ]
  },
  {
   "cell_type": "markdown",
   "metadata": {},
   "source": [
    "The reasons might lie on several aspects:<br>\n",
    "\n",
    "    1) The test data set is very different from the train and validation sets. For example, the test set was not from the same period of time and churn pattern has evolved since. <br>\n",
    "    2) our best model is overfitting. But this is not what was revealed in the learning curve.<br>\n",
    "    3) model is underfitting. This is in agreement with the learning curve. We need to further tune our model, or engineer more features.<br>\n",
    "    4) In this exercise, we did not remove the features that are correlated. Further tests are need to experiement feature selection.<br>\n",
    "    \n",
    "Due to time and resource constraints, we will leave this as one of our future objectives."
   ]
  },
  {
   "cell_type": "markdown",
   "metadata": {},
   "source": [
    "## Summary\n",
    "The work on this project is divided into several parts, each presented in a separate notebook. We started by <br>\n",
    "**Part 1)** loading the data and performing exporatory data analysis, <br>\n",
    "**Part 2)** moved into building baseline models of dozens of classfication models and selecting best candidate models for hyperparameter tuning. In the second part of the work, we engineered features based one our understanding of the dataset and domain knowledge and built data pipelines to streamline data preprocessing and ensure the same process for train and validation data sets. <br>\n",
    "**Part 3)** We then trained over a dozen of classification models and tuned several promising ones. We then looked at another aspect of model performance, i.e., weather the model is underfitting, overfitting or just perfect. Finally we looked at the importance of each features by computing the permutation importance of each feature. \n",
    "\n",
    "Below list captures the main steps of this work:\n",
    "\n",
    "1) Perform Exploratory data analysis\n",
    "2) Build and evaluate baseline models without feature engineering\n",
    "3) Perform Feature engineering and create data pipelines\n",
    "4) Compare more than dozens of classifiers on a performance metric\n",
    "5) Perform hyperparameter tuning on a few best canadidate models\n",
    "6) Evaluate the best candidate models on the validation set\n",
    "7) Analyze feature importance\n",
    "8) Persist the best models for deployment or further tuning\n",
    "\n",
    "## **Conclusions**\n",
    "1) **The best model is multi-layer perceptron (MLPClassifier)** from scikit-learn's neural network module, with the **prediction accurace of 0.837**. \n",
    "2) The **most influencial features** are: <br>\n",
    "    -- average_monthly_balance_prevQ <br>\n",
    "    -- average_monthly_balance_prevQ per person in the household <br>\n",
    "    -- current_balance per person in the household <br>\n",
    "    -- current_balance <br>\n",
    "3) Most of the engineered features are among the top 20 most influencial features.\n",
    "4) The best model is able to predict customer churn with 83.7% accuracy.\n",
    "5) The best model is somewhat ***underfitting***.\n",
    "6) The **feature engineering improved the prediction accuracy from 72% to 83%**.\n",
    "7) Although our prediction score is lower than what we have expected, we are placed in the ***6th place on the final learderboard***. "
   ]
  },
  {
   "cell_type": "markdown",
   "metadata": {},
   "source": [
    "## **What we learned**\n",
    "We have learned a lot from this exercise of machine learning project: <br>\n",
    "\n",
    "1) Importance of planning a machine learning project by outlining the objectives and steps to accomplish them.\n",
    "2) The Best approach to building ML model - an iterative approach. It is better to take a small step and varify the results than spending long time to get a complex model then later finding the solution not working.\n",
    "3) The art of trade-off between the best and better vs expensive and affordable.\n",
    "4) Additional knowledge and experience from this end-to-end ML project.\n",
    "5) The importance of collaboratiob and as a team player.\n",
    "6) Importance of persisting intermediate results. "
   ]
  },
  {
   "cell_type": "markdown",
   "metadata": {},
   "source": [
    "## **Future work**\n",
    "We performed the feature importance analysis on the best model, and found out the most influencial features. To futher improve model prediction accuracy, our future work is therefore including, but not limiting to: <br>\n",
    "\n",
    "1) Select the top n features to train and tune the model.\n",
    "2) Interpret the model results to the extent possible.\n",
    "3) Further improve predictive power by using more complex algorithms, such as deep learning with TensorFlow's advanced neural networks, since the best MLPclassifier has only 83.7% accuracy, and is underfitting. \n",
    "4) Improve competition score by frequently submitting prediction result so that we are going in the right direction. In the real world, we can also test our model using unseen new data.\n",
    "\n",
    "This concludes our work."
   ]
  }
 ],
 "metadata": {
  "kernelspec": {
   "display_name": "Python 3",
   "language": "python",
   "name": "python3"
  },
  "language_info": {
   "codemirror_mode": {
    "name": "ipython",
    "version": 3
   },
   "file_extension": ".py",
   "mimetype": "text/x-python",
   "name": "python",
   "nbconvert_exporter": "python",
   "pygments_lexer": "ipython3",
   "version": "3.8.5"
  }
 },
 "nbformat": 4,
 "nbformat_minor": 4
}
