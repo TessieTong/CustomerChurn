{
 "cells": [
  {
   "cell_type": "markdown",
   "metadata": {},
   "source": [
    "# Predict Customer Churn - Improve ML models performance\n",
    "\n",
    "This project is to build a predictive machine learning model using the customer churn data available at Kaggle website. <br>\n",
    "Part 3 will look at training various classification models and hyperparameter tuning selected candidate models.<br>\n",
    "\n",
    "The classification algorithms to be considered:\n",
    "1. K nearest neighbours (KNN)\n",
    "2. logistic regression\n",
    "3. Decision Trees \n",
    "4. SVM linear\n",
    "5. SVM RBF\n",
    "6. Neural network (multi-layer perceptron)\n",
    "7. Guassian process\n",
    "8. Naive-Bayes (GaussianNB)\n",
    "9. Quadratic Discriminant Analysis"
   ]
  },
  {
   "cell_type": "markdown",
   "metadata": {},
   "source": [
    "## Prepare data\n",
    "### Global functions"
   ]
  },
  {
   "cell_type": "code",
   "execution_count": 2,
   "metadata": {},
   "outputs": [],
   "source": [
    "import pandas as pd\n",
    "import numpy as np\n",
    "import matplotlib.pyplot as plt\n",
    "import seaborn as sns\n",
    "\n",
    "import joblib\n",
    "from time import time\n",
    "\n",
    "from sklearn.model_selection import train_test_split\n",
    "from sklearn.pipeline import Pipeline\n",
    "\n",
    "import customfunctions"
   ]
  },
  {
   "cell_type": "code",
   "execution_count": 3,
   "metadata": {},
   "outputs": [],
   "source": [
    "# Calculate roc_auc score\n",
    "def calculate_roc_auc_score(model,X, y): \n",
    "    pred_proba = model.predict_proba(X)\n",
    "    roc_auc = roc_auc_score(y, pred_proba[:,1])\n",
    "    return roc_auc"
   ]
  },
  {
   "cell_type": "markdown",
   "metadata": {},
   "source": [
    "### Read in data"
   ]
  },
  {
   "cell_type": "code",
   "execution_count": 4,
   "metadata": {},
   "outputs": [
    {
     "name": "stdout",
     "output_type": "stream",
     "text": [
      "Shape: (17654, 20)\n"
     ]
    },
    {
     "data": {
      "text/html": [
       "<div>\n",
       "<style scoped>\n",
       "    .dataframe tbody tr th:only-of-type {\n",
       "        vertical-align: middle;\n",
       "    }\n",
       "\n",
       "    .dataframe tbody tr th {\n",
       "        vertical-align: top;\n",
       "    }\n",
       "\n",
       "    .dataframe thead th {\n",
       "        text-align: right;\n",
       "    }\n",
       "</style>\n",
       "<table border=\"1\" class=\"dataframe\">\n",
       "  <thead>\n",
       "    <tr style=\"text-align: right;\">\n",
       "      <th></th>\n",
       "      <th>customer_id</th>\n",
       "      <th>vintage</th>\n",
       "      <th>age</th>\n",
       "      <th>gender</th>\n",
       "      <th>dependents</th>\n",
       "      <th>occupation</th>\n",
       "      <th>customer_nw_category</th>\n",
       "      <th>branch_code</th>\n",
       "      <th>days_since_last_transaction</th>\n",
       "      <th>current_balance</th>\n",
       "      <th>previous_month_end_balance</th>\n",
       "      <th>average_monthly_balance_prevQ</th>\n",
       "      <th>average_monthly_balance_prevQ2</th>\n",
       "      <th>current_month_credit</th>\n",
       "      <th>previous_month_credit</th>\n",
       "      <th>current_month_debit</th>\n",
       "      <th>previous_month_debit</th>\n",
       "      <th>current_month_balance</th>\n",
       "      <th>previous_month_balance</th>\n",
       "      <th>churn</th>\n",
       "    </tr>\n",
       "  </thead>\n",
       "  <tbody>\n",
       "    <tr>\n",
       "      <th>3134</th>\n",
       "      <td>4295.0</td>\n",
       "      <td>1439.0</td>\n",
       "      <td>40.0</td>\n",
       "      <td>Female</td>\n",
       "      <td>0.0</td>\n",
       "      <td>Accountant</td>\n",
       "      <td>Medium</td>\n",
       "      <td>728.0</td>\n",
       "      <td>40.0</td>\n",
       "      <td>2174.85</td>\n",
       "      <td>2246.28</td>\n",
       "      <td>2117.95</td>\n",
       "      <td>2916.78</td>\n",
       "      <td>0.21</td>\n",
       "      <td>9.19</td>\n",
       "      <td>71.64</td>\n",
       "      <td>0.21</td>\n",
       "      <td>2177.31</td>\n",
       "      <td>2085.94</td>\n",
       "      <td>Yes</td>\n",
       "    </tr>\n",
       "    <tr>\n",
       "      <th>13531</th>\n",
       "      <td>18539.0</td>\n",
       "      <td>1810.0</td>\n",
       "      <td>32.0</td>\n",
       "      <td>Female</td>\n",
       "      <td>0.0</td>\n",
       "      <td>Engineer</td>\n",
       "      <td>Medium</td>\n",
       "      <td>443.0</td>\n",
       "      <td>230.0</td>\n",
       "      <td>2956.71</td>\n",
       "      <td>2956.71</td>\n",
       "      <td>2956.71</td>\n",
       "      <td>2933.14</td>\n",
       "      <td>0.23</td>\n",
       "      <td>0.23</td>\n",
       "      <td>0.23</td>\n",
       "      <td>0.23</td>\n",
       "      <td>2956.71</td>\n",
       "      <td>2956.71</td>\n",
       "      <td>Yes</td>\n",
       "    </tr>\n",
       "    <tr>\n",
       "      <th>9746</th>\n",
       "      <td>13374.0</td>\n",
       "      <td>1462.0</td>\n",
       "      <td>51.0</td>\n",
       "      <td>Female</td>\n",
       "      <td>0.0</td>\n",
       "      <td>Engineer</td>\n",
       "      <td>Medium</td>\n",
       "      <td>2068.0</td>\n",
       "      <td>200.0</td>\n",
       "      <td>1537.86</td>\n",
       "      <td>1531.25</td>\n",
       "      <td>1809.04</td>\n",
       "      <td>8937.77</td>\n",
       "      <td>0.44</td>\n",
       "      <td>0.44</td>\n",
       "      <td>0.44</td>\n",
       "      <td>0.44</td>\n",
       "      <td>1535.53</td>\n",
       "      <td>1531.25</td>\n",
       "      <td>Yes</td>\n",
       "    </tr>\n",
       "    <tr>\n",
       "      <th>3195</th>\n",
       "      <td>4379.0</td>\n",
       "      <td>501.0</td>\n",
       "      <td>48.0</td>\n",
       "      <td>Male</td>\n",
       "      <td>2.0</td>\n",
       "      <td>Engineer</td>\n",
       "      <td>Medium</td>\n",
       "      <td>1487.0</td>\n",
       "      <td>44.0</td>\n",
       "      <td>371.93</td>\n",
       "      <td>9831.46</td>\n",
       "      <td>9763.02</td>\n",
       "      <td>15823.57</td>\n",
       "      <td>0.04</td>\n",
       "      <td>2857.19</td>\n",
       "      <td>159.57</td>\n",
       "      <td>3016.71</td>\n",
       "      <td>9359.94</td>\n",
       "      <td>9805.03</td>\n",
       "      <td>No</td>\n",
       "    </tr>\n",
       "    <tr>\n",
       "      <th>12113</th>\n",
       "      <td>16591.0</td>\n",
       "      <td>2740.0</td>\n",
       "      <td>35.0</td>\n",
       "      <td>Male</td>\n",
       "      <td>0.0</td>\n",
       "      <td>Accountant</td>\n",
       "      <td>Low</td>\n",
       "      <td>148.0</td>\n",
       "      <td>87.0</td>\n",
       "      <td>10744.03</td>\n",
       "      <td>11449.50</td>\n",
       "      <td>11199.84</td>\n",
       "      <td>10653.70</td>\n",
       "      <td>0.33</td>\n",
       "      <td>0.33</td>\n",
       "      <td>705.80</td>\n",
       "      <td>0.33</td>\n",
       "      <td>10792.69</td>\n",
       "      <td>11449.50</td>\n",
       "      <td>Yes</td>\n",
       "    </tr>\n",
       "  </tbody>\n",
       "</table>\n",
       "</div>"
      ],
      "text/plain": [
       "       customer_id  vintage   age  gender  dependents  occupation  \\\n",
       "3134        4295.0   1439.0  40.0  Female         0.0  Accountant   \n",
       "13531      18539.0   1810.0  32.0  Female         0.0    Engineer   \n",
       "9746       13374.0   1462.0  51.0  Female         0.0    Engineer   \n",
       "3195        4379.0    501.0  48.0    Male         2.0    Engineer   \n",
       "12113      16591.0   2740.0  35.0    Male         0.0  Accountant   \n",
       "\n",
       "      customer_nw_category  branch_code  days_since_last_transaction  \\\n",
       "3134                Medium        728.0                         40.0   \n",
       "13531               Medium        443.0                        230.0   \n",
       "9746                Medium       2068.0                        200.0   \n",
       "3195                Medium       1487.0                         44.0   \n",
       "12113                  Low        148.0                         87.0   \n",
       "\n",
       "       current_balance  previous_month_end_balance  \\\n",
       "3134           2174.85                     2246.28   \n",
       "13531          2956.71                     2956.71   \n",
       "9746           1537.86                     1531.25   \n",
       "3195            371.93                     9831.46   \n",
       "12113         10744.03                    11449.50   \n",
       "\n",
       "       average_monthly_balance_prevQ  average_monthly_balance_prevQ2  \\\n",
       "3134                         2117.95                         2916.78   \n",
       "13531                        2956.71                         2933.14   \n",
       "9746                         1809.04                         8937.77   \n",
       "3195                         9763.02                        15823.57   \n",
       "12113                       11199.84                        10653.70   \n",
       "\n",
       "       current_month_credit  previous_month_credit  current_month_debit  \\\n",
       "3134                   0.21                   9.19                71.64   \n",
       "13531                  0.23                   0.23                 0.23   \n",
       "9746                   0.44                   0.44                 0.44   \n",
       "3195                   0.04                2857.19               159.57   \n",
       "12113                  0.33                   0.33               705.80   \n",
       "\n",
       "       previous_month_debit  current_month_balance  previous_month_balance  \\\n",
       "3134                   0.21                2177.31                 2085.94   \n",
       "13531                  0.23                2956.71                 2956.71   \n",
       "9746                   0.44                1535.53                 1531.25   \n",
       "3195                3016.71                9359.94                 9805.03   \n",
       "12113                  0.33               10792.69                11449.50   \n",
       "\n",
       "      churn  \n",
       "3134    Yes  \n",
       "13531   Yes  \n",
       "9746    Yes  \n",
       "3195     No  \n",
       "12113   Yes  "
      ]
     },
     "execution_count": 4,
     "metadata": {},
     "output_type": "execute_result"
    }
   ],
   "source": [
    "## Read in data\n",
    "df0 = pd.read_csv('./data/visathon_train_data.csv')#,index=customer_id)\n",
    "print('Shape: {}'.format(df0.shape))\n",
    "df0.sample(5)"
   ]
  },
  {
   "cell_type": "markdown",
   "metadata": {},
   "source": [
    "### Split data"
   ]
  },
  {
   "cell_type": "code",
   "execution_count": 5,
   "metadata": {},
   "outputs": [],
   "source": [
    "target = 'churn'\n",
    "X = df0.drop(target,axis=1).copy()\n",
    "y = df0[target].copy()"
   ]
  },
  {
   "cell_type": "code",
   "execution_count": 6,
   "metadata": {},
   "outputs": [
    {
     "name": "stdout",
     "output_type": "stream",
     "text": [
      "X_train shape: (13240, 19)\n",
      "X_valid shape: (4414, 19)\n",
      "y_train shape: (13240,)\n",
      "y_valid shape: (4414,)\n"
     ]
    }
   ],
   "source": [
    "X_train,X_valid,y_train,y_valid = train_test_split(X,y,test_size=0.25, random_state=10086)\n",
    "print('X_train shape: {}\\nX_valid shape: {}\\ny_train shape: {}\\ny_valid shape: {}'.format( X_train.shape, X_valid.shape, y_train.shape, y_valid.shape))"
   ]
  },
  {
   "cell_type": "markdown",
   "metadata": {},
   "source": [
    "## Load data pipelines"
   ]
  },
  {
   "cell_type": "code",
   "execution_count": 7,
   "metadata": {},
   "outputs": [],
   "source": [
    "pipeline_data = joblib.load('pipeline_data.joblib')"
   ]
  },
  {
   "cell_type": "code",
   "execution_count": 8,
   "metadata": {},
   "outputs": [
    {
     "data": {
      "text/plain": [
       "((13240, 47), (4414, 47))"
      ]
     },
     "execution_count": 8,
     "metadata": {},
     "output_type": "execute_result"
    }
   ],
   "source": [
    "X_train_transformed = pipeline_data.transform(X_train)\n",
    "X_valid_transformed = pipeline_data.transform(X_valid)\n",
    "y_train_transformed = y_train.map({\"Yes\":1,\"No\":0})\n",
    "y_valid_transformed = y_valid.map({\"Yes\":1,\"No\":0})\n",
    "X_train_transformed.shape, X_valid_transformed.shape"
   ]
  },
  {
   "cell_type": "markdown",
   "metadata": {},
   "source": [
    "Once the data sets are transformed, the next step is to use the transformed data to train models."
   ]
  },
  {
   "cell_type": "markdown",
   "metadata": {},
   "source": [
    "## Train classification models\n",
    "This section we will look at screen various classification algorithms to select a few promising candidates for further tuning."
   ]
  },
  {
   "cell_type": "markdown",
   "metadata": {},
   "source": [
    "This model set includes 9 scikit-learn classification algorithms (excluding those from ensemble family). The classification algorithms from the ensumble family will be discussed in ***Model set 2*** section."
   ]
  },
  {
   "cell_type": "markdown",
   "metadata": {},
   "source": [
    "### 1. Select candidate models"
   ]
  },
  {
   "cell_type": "code",
   "execution_count": 23,
   "metadata": {},
   "outputs": [],
   "source": [
    "# Classifiers\n",
    "from sklearn.neighbors import KNeighborsClassifier\n",
    "from sklearn.tree import DecisionTreeClassifier\n",
    "from sklearn.linear_model import LogisticRegression\n",
    "from sklearn.neural_network import MLPClassifier\n",
    "from sklearn.svm import SVC\n",
    "from sklearn.gaussian_process import GaussianProcessClassifier\n",
    "from sklearn.gaussian_process.kernels import RBF\n",
    "from sklearn.naive_bayes import GaussianNB\n",
    "from sklearn.discriminant_analysis import QuadraticDiscriminantAnalysis\n",
    "\n",
    "from sklearn.ensemble import RandomForestClassifier, AdaBoostClassifier\n",
    "from sklearn.ensemble import GradientBoostingClassifier, ExtraTreesClassifier\n",
    "from xgboost import XGBClassifier\n",
    "\n",
    "# Model seclection\n",
    "from sklearn.model_selection import RandomizedSearchCV\n",
    "from scipy.stats import loguniform, randint, uniform\n",
    "\n",
    "# Model evaluation\n",
    "from sklearn.metrics import roc_auc_score, roc_curve\n",
    "\n",
    "from time import time"
   ]
  },
  {
   "cell_type": "code",
   "execution_count": 8,
   "metadata": {},
   "outputs": [],
   "source": [
    "names = [\n",
    "    \"K Nearest Neighbors\",\n",
    "    \"Logistic Regression\",\n",
    "    \"Linear SVM\",\n",
    "    \"RBF SVM\",\n",
    "    \"Decision Tree\",\n",
    "    \"Neural Net\",\n",
    "    \"Naive Bayes\",\n",
    "    \"Quadratic Discriminant Analysis\",\n",
    "    \"Gaussian Process\",\n",
    "]\n",
    "\n",
    "classifiers = [\n",
    "    KNeighborsClassifier(3),\n",
    "    LogisticRegression(max_iter=500, n_jobs=-1, random_state=15611),\n",
    "    SVC(kernel=\"linear\", C=0.025, probability=True, random_state=15611),\n",
    "    SVC(gamma=2, C=1, probability=True, random_state=15611),\n",
    "    DecisionTreeClassifier(max_depth=5, random_state=15611),\n",
    "    MLPClassifier(alpha=1, max_iter=1000, random_state=15611),\n",
    "    GaussianNB(),\n",
    "    QuadraticDiscriminantAnalysis(),\n",
    "    GaussianProcessClassifier(1.0 * RBF(1.0), random_state=15611),\n",
    "]"
   ]
  },
  {
   "cell_type": "code",
   "execution_count": 9,
   "metadata": {},
   "outputs": [
    {
     "name": "stdout",
     "output_type": "stream",
     "text": [
      "Fitting: K Nearest Neighbors\n",
      "K Nearest Neighbors has a roc_auc score: 0.6954400705782202\n",
      "Time elapsed: 0.05 minutes for model \"K Nearest Neighbors\"\n",
      "\n",
      "Fitting: Logistic Regression\n",
      "Logistic Regression has a roc_auc score: 0.8214096142524876\n",
      "Time elapsed: 0.06 minutes for model \"Logistic Regression\"\n",
      "\n",
      "Fitting: Linear SVM\n",
      "Linear SVM has a roc_auc score: 0.8108315337684235\n",
      "Time elapsed: 0.35 minutes for model \"Linear SVM\"\n",
      "\n",
      "Fitting: RBF SVM\n",
      "RBF SVM has a roc_auc score: 0.6933260185970016\n",
      "Time elapsed: 2.46 minutes for model \"RBF SVM\"\n",
      "\n",
      "Fitting: Decision Tree\n",
      "Decision Tree has a roc_auc score: 0.7884593561234959\n",
      "Time elapsed: 0.0 minutes for model \"Decision Tree\"\n",
      "\n",
      "Fitting: Neural Net\n",
      "Neural Net has a roc_auc score: 0.8317108129973347\n",
      "Time elapsed: 0.1 minutes for model \"Neural Net\"\n",
      "\n",
      "Fitting: Naive Bayes\n",
      "Naive Bayes has a roc_auc score: 0.7626442938234406\n",
      "Time elapsed: 0.0 minutes for model \"Naive Bayes\"\n",
      "\n",
      "Fitting: Quadratic Discriminant Analysis\n",
      "Quadratic Discriminant Analysis has a roc_auc score: 0.7045307436903744\n",
      "Time elapsed: 0.0 minutes for model \"Quadratic Discriminant Analysis\"\n",
      "\n",
      "Fitting: Gaussian Process\n"
     ]
    },
    {
     "name": "stderr",
     "output_type": "stream",
     "text": [
      "C:\\Users\\tessi\\anaconda3\\lib\\site-packages\\sklearn\\discriminant_analysis.py:715: UserWarning: Variables are collinear\n",
      "  warnings.warn(\"Variables are collinear\")\n"
     ]
    },
    {
     "name": "stdout",
     "output_type": "stream",
     "text": [
      "Gaussian Process has a roc_auc score: 0.8367389454466432\n",
      "Time elapsed: 156.25 minutes for model \"Gaussian Process\"\n",
      "\n"
     ]
    }
   ],
   "source": [
    "# iterate over classifiers\n",
    "\n",
    "score = {}\n",
    "model = {}\n",
    "for name, clf in zip(names, classifiers):\n",
    "    start = time()   \n",
    "    print(\"Fitting: {}\".format(name))\n",
    "    clf.fit(X_train_transformed, y_train)\n",
    "    # calculate roc_auc score\n",
    "    score[name] = calculate_roc_auc_score(clf,X_valid_transformed, y_valid)\n",
    "    model[name] = clf\n",
    "    print(\"{} has a roc_auc score: {}\".format(name, roc_auc))\n",
    "    print(f'Time elapsed: {round((time()-start)/60,2)} minutes for model \"{name}\"\\n')\n",
    "    joblib.dump(clf, 'screening - ' + name +'.joblib')\n"
   ]
  },
  {
   "cell_type": "code",
   "execution_count": 17,
   "metadata": {},
   "outputs": [
    {
     "data": {
      "text/plain": [
       "['sccreening - results non-ensemble.joblib']"
      ]
     },
     "execution_count": 17,
     "metadata": {},
     "output_type": "execute_result"
    }
   ],
   "source": [
    "screening_results_nonens = joblib.load('sccreening - results non-ensemble.joblib')\n",
    "# score = screening_results_nonens['score']\n",
    "# model = screening_results_nonens['model']\n",
    "# joblib.dump(screening_results_nonens, 'sccreening - results non-ensemble.joblib')"
   ]
  },
  {
   "cell_type": "code",
   "execution_count": 14,
   "metadata": {},
   "outputs": [],
   "source": [
    "# Ensemble classifiers\n",
    "names = [\n",
    "    \"Random Forest\",\n",
    "    \"Extra Trees\",\n",
    "    \"ADAboosting\",\n",
    "    \"Gradient Boosting\",\n",
    "    \"XGBoost\",\n",
    "]\n",
    "\n",
    "classifiers = [\n",
    "    RandomForestClassifier(max_depth=2, random_state=15611,n_jobs=-1),\n",
    "    ExtraTreesClassifier(random_state=15611,n_jobs=-1),\n",
    "    AdaBoostClassifier(random_state=15611),\n",
    "    GradientBoostingClassifier(random_state=15611),\n",
    "    XGBClassifier(random_state=15611)\n",
    "]"
   ]
  },
  {
   "cell_type": "code",
   "execution_count": 16,
   "metadata": {},
   "outputs": [
    {
     "name": "stdout",
     "output_type": "stream",
     "text": [
      "Fitting: Random Forest\n",
      "Random Forest has a roc_auc score: 0.800539653159031\n",
      "Time elapsed: 0.01 minutes for model \"Random Forest\"\n",
      "\n",
      "Fitting: Extra Trees\n",
      "Extra Trees has a roc_auc score: 0.8201183869109483\n",
      "Time elapsed: 0.01 minutes for model \"Extra Trees\"\n",
      "\n",
      "Fitting: ADAboosting\n",
      "ADAboosting has a roc_auc score: 0.8189050325585637\n",
      "Time elapsed: 0.03 minutes for model \"ADAboosting\"\n",
      "\n",
      "Fitting: Gradient Boosting\n",
      "Gradient Boosting has a roc_auc score: 0.8319529181238734\n",
      "Time elapsed: 0.15 minutes for model \"Gradient Boosting\"\n",
      "\n",
      "Fitting: XGBoost\n",
      "XGBoost has a roc_auc score: 0.8151662971027588\n",
      "Time elapsed: 0.04 minutes for model \"XGBoost\"\n",
      "\n"
     ]
    }
   ],
   "source": [
    "# iterate over classifiers\n",
    "\n",
    "for name, clf in zip(names, classifiers):\n",
    "    start = time()   \n",
    "    print(\"Fitting: {}\".format(name))\n",
    "    clf.fit(X_train_transformed, y_train_transformed)\n",
    "    roc_auc = calculate_roc_auc_score(clf, X_valid_transformed, y_valid_transformed)\n",
    "    score[name] = roc_auc\n",
    "    model[name] = clf\n",
    "    print(\"{} has a roc_auc score: {}\".format(name, roc_auc))\n",
    "    print(f'Time elapsed: {round((time()-start)/60,2)} minutes for model \"{name}\"\\n')\n",
    "    joblib.dump(clf, 'screening - ' + name +'.joblib')\n"
   ]
  },
  {
   "cell_type": "code",
   "execution_count": 18,
   "metadata": {},
   "outputs": [
    {
     "data": {
      "text/plain": [
       "['sccreening - results all models.joblib']"
      ]
     },
     "execution_count": 18,
     "metadata": {},
     "output_type": "execute_result"
    }
   ],
   "source": [
    "screening_results = {'score':score,'model': model}\n",
    "joblib.dump(screening_results, 'sccreening - results all models.joblib')"
   ]
  },
  {
   "cell_type": "code",
   "execution_count": 10,
   "metadata": {},
   "outputs": [],
   "source": [
    "# screening_results = joblib.load('sccreening - results all models.joblib')"
   ]
  },
  {
   "cell_type": "code",
   "execution_count": 20,
   "metadata": {},
   "outputs": [
    {
     "name": "stdout",
     "output_type": "stream",
     "text": [
      "roc_auc score = 0.8367 for model GaussianProcessClassifier(kernel=1**2 * RBF(length_scale=1), random_state=15611)\n"
     ]
    }
   ],
   "source": [
    "# Model for candidate of the best model\n",
    "print('roc_auc score = {} for model {}'.format(round(screening_results['score']['Gaussian Process'],4),screening_results['model']['Gaussian Process']))"
   ]
  },
  {
   "cell_type": "markdown",
   "metadata": {},
   "source": [
    "The screening of the models indicated that 5 models, i.e., 3 non-ensemble models ***LogigsticRegression, Neural Network (MLPClassifier), and GaussianProcessClassifier)***, and 2 ensemble models ***ExtraTrees (XTr) and Gradient Boosting (GBC), have ***over 0.82*** roc_auc scores (0.821, 0.832, and 0.837, 0.8201, and 0.8320, respectively). <br>\n",
    "Since the GaussianProcessClassifier is already hyperparameter optimized for the kernel and none of the other parameters are to be tuned, and more importantly, it is too computationally intensive to complete tuning using the resources available, we will use the result from this stage as the best estimator. <br>\n",
    "\n",
    "Therefore, the next step is to further tune the remaining 4 models to select the best models and parameters for this dataset."
   ]
  },
  {
   "cell_type": "markdown",
   "metadata": {},
   "source": [
    "### 2. Tune Hyperparameters of candiate models\n",
    "We will tune the hyparameters using ***RandomSearchCV*** from scikit learn's model_selection module. Parameter distribution will be using the ***loguniform and randint*** distribution from scipy's stats module. Thes distributions generate a continuous range of floates and integers, repectively, for the hyperparameters of interest. We will use two sets of parameter spaces to tune the selected candidate models. <br>\n",
    "\n",
    "The first set of hyperparameter space will tune 4 and 5 hyperparameters for LF and MLP, respectively and randomly sample 50 hyperparameter combinations. The second set of hyperparameter space will tune more hyperparameters (5 for LF and 10 for MLP and randomly sample 100 hyperparameter combinations. In addition, for LF, two versions of penalty and solver settings will also be tuned. This allows for us to examine if a finer tuning and more iteration will have more chance to get a better final model. <br>\n",
    "\n",
    "For ensemble models, we will use the same hyperparameter distribution space as in the baseline models for model tuning."
   ]
  },
  {
   "cell_type": "markdown",
   "metadata": {},
   "source": [
    "#### **Hyperparameter tuning - non-ensemble setting 1**\n",
    "#### *1) Random Search CV*"
   ]
  },
  {
   "cell_type": "code",
   "execution_count": 33,
   "metadata": {},
   "outputs": [
    {
     "name": "stdout",
     "output_type": "stream",
     "text": [
      "Fitting 5 folds for each of 50 candidates, totalling 250 fits\n"
     ]
    },
    {
     "name": "stderr",
     "output_type": "stream",
     "text": [
      "[Parallel(n_jobs=-1)]: Using backend LokyBackend with 8 concurrent workers.\n",
      "[Parallel(n_jobs=-1)]: Done  34 tasks      | elapsed:   31.1s\n",
      "[Parallel(n_jobs=-1)]: Done 184 tasks      | elapsed:  3.3min\n",
      "[Parallel(n_jobs=-1)]: Done 250 out of 250 | elapsed:  4.3min finished\n"
     ]
    },
    {
     "name": "stdout",
     "output_type": "stream",
     "text": [
      "Time elapsed: 4.5 minutes\n"
     ]
    }
   ],
   "source": [
    "## create a pipeline\n",
    "pipe_clf = Pipeline([('classifier',LogisticRegression())])\n",
    "\n",
    "## Create dictionary with candidate learning algorithms and their hyperparameters\n",
    "param_space =  [{\"classifier\": [LogisticRegression(random_state=15611, max_iter=200)],\n",
    "                 'classifier__penalty': ['l1','l2'],\n",
    "                 'classifier__solver': ['liblinear'],\n",
    "                 'classifier__C': loguniform(0.0001, 100),\n",
    "                },\n",
    "                {\"classifier\": [LogisticRegression(random_state=15611, max_iter=200)],\n",
    "                 'classifier__penalty': ['l2'],\n",
    "                 'classifier__solver': ['lbfgs','sag'],\n",
    "                 'classifier__C': loguniform(0.0001, 100),\n",
    "                },\n",
    "                {\"classifier\": [MLPClassifier(random_state=15611)],\n",
    "                 'classifier__activation':['tanh','relu'],\n",
    "                 'classifier__learning_rate': ['constant','invscaling'],\n",
    "                 'classifier__solver': ['adam','sgd'],\n",
    "                 'classifier__alpha':loguniform(0.0001,1),\n",
    "                },]\n",
    "\n",
    "# Parameter tuning\n",
    "start = time()\n",
    "clf_randsearchcv_v1 = RandomizedSearchCV(estimator = pipe_clf, \n",
    "                                      param_distributions=param_space, \n",
    "                                      scoring='roc_auc',\n",
    "                                      n_iter=50,\n",
    "                                      cv=5, \n",
    "                                      verbose=1,\n",
    "                                      n_jobs=-1,\n",
    "                                      random_state = 15661\n",
    "                                      )\n",
    "clf_randsearchcv_v1.fit(X_train_transformed, y_train)\n",
    "print(f'Time elapsed: {round((time()-start)/60,2)} minutes')"
   ]
  },
  {
   "cell_type": "code",
   "execution_count": 21,
   "metadata": {},
   "outputs": [],
   "source": [
    "joblib.dump(clf_randsearchcv_v1,'clf_randsearchcv_v1.joblib')\n",
    "# clf_randsearchcv_v1 = joblib.load('clf_randsearchcv_v1.joblib')"
   ]
  },
  {
   "cell_type": "markdown",
   "metadata": {},
   "source": [
    "#### *2) Best estimator*"
   ]
  },
  {
   "cell_type": "code",
   "execution_count": 45,
   "metadata": {},
   "outputs": [
    {
     "name": "stdout",
     "output_type": "stream",
     "text": [
      "Best SearchCV_v1 score: 0.8365526545730623\n"
     ]
    },
    {
     "data": {
      "text/plain": [
       "{'classifier': MLPClassifier(alpha=0.47857874420504615, learning_rate='invscaling',\n",
       "               random_state=15611),\n",
       " 'classifier__activation': 'relu',\n",
       " 'classifier__alpha': 0.47857874420504615,\n",
       " 'classifier__learning_rate': 'invscaling',\n",
       " 'classifier__solver': 'adam'}"
      ]
     },
     "execution_count": 45,
     "metadata": {},
     "output_type": "execute_result"
    }
   ],
   "source": [
    "print(f'Best SearchCV_v1 score: {clf_randsearchcv_v1.best_score_}')\n",
    "clf_randsearchcv_v1.best_params_"
   ]
  },
  {
   "cell_type": "code",
   "execution_count": 46,
   "metadata": {},
   "outputs": [
    {
     "name": "stdout",
     "output_type": "stream",
     "text": [
      "Number of layers in the neural network = 3\n"
     ]
    }
   ],
   "source": [
    "# number of layers in the neural network:\n",
    "print('Number of layers in the neural network = {}'.format(clf_randsearchcv_v1.best_estimator_['classifier'].n_layers_))"
   ]
  },
  {
   "cell_type": "code",
   "execution_count": 47,
   "metadata": {},
   "outputs": [
    {
     "name": "stdout",
     "output_type": "stream",
     "text": [
      "Mean cv scores - Highest: 0.8365526545730623 from param combination [20]\n",
      "Mean cv scores:\n"
     ]
    },
    {
     "data": {
      "text/plain": [
       "array([0.7143584 , 0.8212159 , 0.80464247, 0.79563221, 0.5       ,\n",
       "       0.83617181, 0.79426399, 0.82179706, 0.81658174, 0.79291375,\n",
       "       0.82426393, 0.83367244, 0.80863407, 0.82190925, 0.79588528,\n",
       "       0.83437785, 0.82088893, 0.82137082, 0.82084798, 0.80953672,\n",
       "       0.83655265, 0.80896515, 0.81812586, 0.82162234, 0.83385271,\n",
       "       0.77605702, 0.81443284, 0.77905083, 0.82121608, 0.80546593,\n",
       "       0.82189366, 0.82180561, 0.78671436, 0.83365347, 0.81534916,\n",
       "       0.60245676, 0.82145197, 0.82111212, 0.82168169, 0.81461085,\n",
       "       0.60245801, 0.77103347, 0.82115119, 0.82190766, 0.79608996,\n",
       "       0.81519294, 0.815888  , 0.71436019, 0.71436197, 0.82105215])"
      ]
     },
     "execution_count": 47,
     "metadata": {},
     "output_type": "execute_result"
    }
   ],
   "source": [
    "print(f\"Mean cv scores - Highest: {clf_randsearchcv_v1.cv_results_['mean_test_score'].max()} \\\n",
    "from param combination {np.where(clf_randsearchcv_v1.cv_results_['mean_test_score'] == clf_randsearchcv_v1.cv_results_['mean_test_score'].max())[0]}\")\n",
    "\n",
    "print('Mean cv scores:')\n",
    "clf_randsearchcv_v1.cv_results_['mean_test_score']"
   ]
  },
  {
   "cell_type": "markdown",
   "metadata": {},
   "source": [
    "#### *3) Best prediction accuracy*"
   ]
  },
  {
   "cell_type": "code",
   "execution_count": 49,
   "metadata": {},
   "outputs": [
    {
     "data": {
      "text/plain": [
       "0.8370823852962486"
      ]
     },
     "execution_count": 49,
     "metadata": {},
     "output_type": "execute_result"
    }
   ],
   "source": [
    "# Best prediction score\n",
    "clf_nn_v1_roc_auc = calculate_roc_auc_score(clf_randsearchcv_v1.best_estimator_,X_valid_transformed, y_valid)\n",
    "clf_nn_v1_roc_auc"
   ]
  },
  {
   "cell_type": "code",
   "execution_count": 71,
   "metadata": {},
   "outputs": [
    {
     "name": "stdout",
     "output_type": "stream",
     "text": [
      "       score                                              model  rank\n",
      "20  0.836553  MLPClassifier(alpha=0.47857874420504615, learn...     1\n",
      "5   0.836172  MLPClassifier(alpha=0.47857874420504615, learn...     2\n",
      "15  0.834378  MLPClassifier(alpha=0.47857874420504615, learn...     3\n",
      "24  0.833853  MLPClassifier(alpha=0.47857874420504615, learn...     4\n",
      "11  0.833672  MLPClassifier(alpha=0.47857874420504615, learn...     5\n",
      "       score                                              model  rank\n",
      "47  0.714360  MLPClassifier(alpha=0.47857874420504615, learn...    46\n",
      "0   0.714358  MLPClassifier(alpha=0.47857874420504615, learn...    47\n",
      "40  0.602458  MLPClassifier(alpha=0.47857874420504615, learn...    48\n",
      "35  0.602457  MLPClassifier(alpha=0.47857874420504615, learn...    49\n",
      "4   0.500000  LogisticRegression(max_iter=200, random_state=...    50\n"
     ]
    }
   ],
   "source": [
    "best1= pd.DataFrame({'score': list(clf_randsearchcv_v1.cv_results_['mean_test_score'])})\n",
    "best1['model'] = [param['classifier'] for param in clf_randsearchcv_v1.cv_results_['params']]\n",
    "best1 = best1.sort_values('score',ascending=False)\n",
    "best1['rank'] = np.arange(1,best1.shape[0]+1)\n",
    "print(best1.head())\n",
    "print(best1.tail())"
   ]
  },
  {
   "cell_type": "code",
   "execution_count": 73,
   "metadata": {},
   "outputs": [
    {
     "data": {
      "text/html": [
       "<div>\n",
       "<style scoped>\n",
       "    .dataframe tbody tr th:only-of-type {\n",
       "        vertical-align: middle;\n",
       "    }\n",
       "\n",
       "    .dataframe tbody tr th {\n",
       "        vertical-align: top;\n",
       "    }\n",
       "\n",
       "    .dataframe thead th {\n",
       "        text-align: right;\n",
       "    }\n",
       "</style>\n",
       "<table border=\"1\" class=\"dataframe\">\n",
       "  <thead>\n",
       "    <tr style=\"text-align: right;\">\n",
       "      <th></th>\n",
       "      <th>score</th>\n",
       "      <th>model</th>\n",
       "      <th>rank</th>\n",
       "    </tr>\n",
       "  </thead>\n",
       "  <tbody>\n",
       "    <tr>\n",
       "      <th>20</th>\n",
       "      <td>0.836553</td>\n",
       "      <td>MLPClassifier(alpha=0.47857874420504615, learn...</td>\n",
       "      <td>1</td>\n",
       "    </tr>\n",
       "    <tr>\n",
       "      <th>5</th>\n",
       "      <td>0.836172</td>\n",
       "      <td>MLPClassifier(alpha=0.47857874420504615, learn...</td>\n",
       "      <td>2</td>\n",
       "    </tr>\n",
       "    <tr>\n",
       "      <th>15</th>\n",
       "      <td>0.834378</td>\n",
       "      <td>MLPClassifier(alpha=0.47857874420504615, learn...</td>\n",
       "      <td>3</td>\n",
       "    </tr>\n",
       "    <tr>\n",
       "      <th>24</th>\n",
       "      <td>0.833853</td>\n",
       "      <td>MLPClassifier(alpha=0.47857874420504615, learn...</td>\n",
       "      <td>4</td>\n",
       "    </tr>\n",
       "    <tr>\n",
       "      <th>11</th>\n",
       "      <td>0.833672</td>\n",
       "      <td>MLPClassifier(alpha=0.47857874420504615, learn...</td>\n",
       "      <td>5</td>\n",
       "    </tr>\n",
       "    <tr>\n",
       "      <th>33</th>\n",
       "      <td>0.833653</td>\n",
       "      <td>MLPClassifier(alpha=0.47857874420504615, learn...</td>\n",
       "      <td>6</td>\n",
       "    </tr>\n",
       "    <tr>\n",
       "      <th>10</th>\n",
       "      <td>0.824264</td>\n",
       "      <td>MLPClassifier(alpha=0.47857874420504615, learn...</td>\n",
       "      <td>7</td>\n",
       "    </tr>\n",
       "    <tr>\n",
       "      <th>13</th>\n",
       "      <td>0.821909</td>\n",
       "      <td>LogisticRegression(max_iter=200, random_state=...</td>\n",
       "      <td>8</td>\n",
       "    </tr>\n",
       "    <tr>\n",
       "      <th>43</th>\n",
       "      <td>0.821908</td>\n",
       "      <td>LogisticRegression(max_iter=200, random_state=...</td>\n",
       "      <td>9</td>\n",
       "    </tr>\n",
       "    <tr>\n",
       "      <th>30</th>\n",
       "      <td>0.821894</td>\n",
       "      <td>LogisticRegression(max_iter=200, random_state=...</td>\n",
       "      <td>10</td>\n",
       "    </tr>\n",
       "  </tbody>\n",
       "</table>\n",
       "</div>"
      ],
      "text/plain": [
       "       score                                              model  rank\n",
       "20  0.836553  MLPClassifier(alpha=0.47857874420504615, learn...     1\n",
       "5   0.836172  MLPClassifier(alpha=0.47857874420504615, learn...     2\n",
       "15  0.834378  MLPClassifier(alpha=0.47857874420504615, learn...     3\n",
       "24  0.833853  MLPClassifier(alpha=0.47857874420504615, learn...     4\n",
       "11  0.833672  MLPClassifier(alpha=0.47857874420504615, learn...     5\n",
       "33  0.833653  MLPClassifier(alpha=0.47857874420504615, learn...     6\n",
       "10  0.824264  MLPClassifier(alpha=0.47857874420504615, learn...     7\n",
       "13  0.821909  LogisticRegression(max_iter=200, random_state=...     8\n",
       "43  0.821908  LogisticRegression(max_iter=200, random_state=...     9\n",
       "30  0.821894  LogisticRegression(max_iter=200, random_state=...    10"
      ]
     },
     "execution_count": 73,
     "metadata": {},
     "output_type": "execute_result"
    }
   ],
   "source": [
    "best1.head(10)"
   ]
  },
  {
   "cell_type": "code",
   "execution_count": 74,
   "metadata": {},
   "outputs": [
    {
     "data": {
      "text/plain": [
       "{'classifier': LogisticRegression(max_iter=200, random_state=15611),\n",
       " 'classifier__C': 62.53334557586467,\n",
       " 'classifier__penalty': 'l2',\n",
       " 'classifier__solver': 'liblinear'}"
      ]
     },
     "execution_count": 74,
     "metadata": {},
     "output_type": "execute_result"
    }
   ],
   "source": [
    "clf_randsearchcv_v1.cv_results_['params'][13]"
   ]
  },
  {
   "cell_type": "code",
   "execution_count": 75,
   "metadata": {},
   "outputs": [
    {
     "data": {
      "text/plain": [
       "LogisticRegression(C=62.53334557586467, max_iter=200, random_state=15611,\n",
       "                   solver='liblinear')"
      ]
     },
     "execution_count": 75,
     "metadata": {},
     "output_type": "execute_result"
    }
   ],
   "source": [
    "logit = LogisticRegression(C=62.53334557586467, penalty='l2', max_iter=200, solver='liblinear', random_state=15611)\n",
    "logit.fit(X_train_transformed, y_train_transformed)"
   ]
  },
  {
   "cell_type": "code",
   "execution_count": 76,
   "metadata": {},
   "outputs": [
    {
     "data": {
      "text/plain": [
       "0.8195652890136189"
      ]
     },
     "execution_count": 76,
     "metadata": {},
     "output_type": "execute_result"
    }
   ],
   "source": [
    "calculate_roc_auc_score(logit, X_valid_transformed,y_valid_transformed) "
   ]
  },
  {
   "cell_type": "markdown",
   "metadata": {},
   "source": [
    "#### **Hyperparameter tuning - non-ensemble setting 2**\n",
    "#### *1) Randomized Search CV*"
   ]
  },
  {
   "cell_type": "code",
   "execution_count": 24,
   "metadata": {},
   "outputs": [
    {
     "name": "stdout",
     "output_type": "stream",
     "text": [
      "Fitting 5 folds for each of 100 candidates, totalling 500 fits\n"
     ]
    },
    {
     "name": "stderr",
     "output_type": "stream",
     "text": [
      "[Parallel(n_jobs=-1)]: Using backend LokyBackend with 8 concurrent workers.\n",
      "[Parallel(n_jobs=-1)]: Done  34 tasks      | elapsed:  1.4min\n",
      "[Parallel(n_jobs=-1)]: Done 184 tasks      | elapsed:  4.8min\n",
      "[Parallel(n_jobs=-1)]: Done 434 tasks      | elapsed:  9.1min\n",
      "[Parallel(n_jobs=-1)]: Done 500 out of 500 | elapsed: 11.6min finished\n"
     ]
    },
    {
     "name": "stdout",
     "output_type": "stream",
     "text": [
      "Time elapsed: 11.72 minutes\n"
     ]
    }
   ],
   "source": [
    "## create a pipeline\n",
    "pipe_clf = Pipeline([('classifier',LogisticRegression())])\n",
    "\n",
    "## Create dictionary with candidate learning algorithms and their hyperparameters\n",
    "param_space =  [{\"classifier\": [LogisticRegression(random_state=15611)],\n",
    "                 'classifier__penalty': ['l1','l2'],\n",
    "                 'classifier__solver': ['liblinear'],\n",
    "                 'classifier__C': loguniform(0.0001, 100),\n",
    "                 'classifier__max_iter': randint(200, 600),\n",
    "                },\n",
    "                {\"classifier\": [LogisticRegression(random_state=15611)],\n",
    "                 'classifier__penalty': ['l2'],\n",
    "                 'classifier__solver': ['lbfgs','sag'],\n",
    "                 'classifier__C': loguniform(0.0001, 100),\n",
    "                 'classifier__max_iter': randint(200, 600),\n",
    "                },\n",
    "                {\"classifier\": [MLPClassifier(random_state=15611)],\n",
    "                 'classifier__activation':['tanh','relu'],\n",
    "                 'classifier__hidden_layer_sizes': randint(5,100),\n",
    "                 'classifier__learning_rate': ['constant','invscaling'],\n",
    "                 'classifier__max_iter': randint(200,600),\n",
    "                 'classifier__solver': ['adam','sgd'],\n",
    "                 'classifier__alpha':loguniform(0.0001,1),\n",
    "                },]\n",
    "\n",
    "# Parameter tuning\n",
    "start = time()\n",
    "clf_randsearchcv_v2 = RandomizedSearchCV(estimator = pipe_clf, \n",
    "                                      param_distributions=param_space, \n",
    "                                      scoring='roc_auc',\n",
    "                                      n_iter=100,\n",
    "                                      cv=5, \n",
    "                                      verbose=1,\n",
    "                                      n_jobs=-1,\n",
    "                                      random_state = 15661\n",
    "                                      )\n",
    "clf_randsearchcv_v2.fit(X_train_transformed, y_train)\n",
    "print(f'Time elapsed: {round((time()-start)/60,2)} minutes')"
   ]
  },
  {
   "cell_type": "code",
   "execution_count": 41,
   "metadata": {},
   "outputs": [],
   "source": [
    "joblib.dump(clf_randsearchcv_v2,'clf_randsearchcv_v2.joblib')\n",
    "# load the save search result\n",
    "# clf_randsearchcv_v2 = joblib.load('clf_randsearchcv_v2.joblib')"
   ]
  },
  {
   "cell_type": "markdown",
   "metadata": {},
   "source": [
    "#### *2) Best estimator*"
   ]
  },
  {
   "cell_type": "code",
   "execution_count": 51,
   "metadata": {},
   "outputs": [
    {
     "name": "stdout",
     "output_type": "stream",
     "text": [
      "Best roc_auc Score: 0.839\n",
      "Best model and parameters:\n"
     ]
    },
    {
     "data": {
      "text/plain": [
       "{'classifier': MLPClassifier(activation='tanh', alpha=0.6818883687798777,\n",
       "               hidden_layer_sizes=23, max_iter=381, random_state=15611),\n",
       " 'classifier__activation': 'tanh',\n",
       " 'classifier__alpha': 0.6818883687798777,\n",
       " 'classifier__hidden_layer_sizes': 23,\n",
       " 'classifier__learning_rate': 'constant',\n",
       " 'classifier__max_iter': 381,\n",
       " 'classifier__solver': 'adam'}"
      ]
     },
     "execution_count": 51,
     "metadata": {},
     "output_type": "execute_result"
    }
   ],
   "source": [
    "print(f'Best roc_auc Score: {round(clf_randsearchcv_v2.best_score_,4)}')\n",
    "print('Best model and parameters:')\n",
    "clf_randsearchcv_v2.best_params_"
   ]
  },
  {
   "cell_type": "code",
   "execution_count": 52,
   "metadata": {},
   "outputs": [
    {
     "name": "stdout",
     "output_type": "stream",
     "text": [
      "Number of layers in the neural network = 3\n"
     ]
    }
   ],
   "source": [
    "# number of layers in the neural network:\n",
    "print('Number of layers in the neural network = {}'.format(clf_randsearchcv_v2.best_estimator_['classifier'].n_layers_))"
   ]
  },
  {
   "cell_type": "code",
   "execution_count": 54,
   "metadata": {},
   "outputs": [
    {
     "name": "stdout",
     "output_type": "stream",
     "text": [
      "Mean cv scores - Highest: 0.8390006793252989 from param combination [7]\n",
      "Mean cv scores - each parameter and model combination:\n"
     ]
    },
    {
     "data": {
      "text/plain": [
       "array([0.83216388, 0.82103508, 0.79641244, 0.75461824, 0.81938759,\n",
       "       0.82865189, 0.83335945, 0.83900068, 0.82193232, 0.82140794,\n",
       "       0.79039227, 0.74323042, 0.82195663, 0.81539166, 0.82144958,\n",
       "       0.82188846, 0.83655056, 0.78641216, 0.82173645, 0.78080493,\n",
       "       0.78902971, 0.81265627, 0.83306915, 0.81441836, 0.82185715,\n",
       "       0.78266958, 0.82195199, 0.78997597, 0.82183448, 0.80149711,\n",
       "       0.75668774, 0.83676797, 0.78798366, 0.82109846, 0.5       ,\n",
       "       0.81201199, 0.82145376, 0.79101191, 0.82035662, 0.68181791,\n",
       "       0.81594161, 0.82159623, 0.82130352, 0.82181011, 0.82167796,\n",
       "       0.50664998, 0.82189511, 0.82136413, 0.8170432 , 0.82056363,\n",
       "       0.82074023, 0.80182747, 0.77796511, 0.57142085, 0.81262428,\n",
       "       0.82182886, 0.82106252, 0.7920473 , 0.83476188, 0.75115288,\n",
       "       0.75668721, 0.80735567, 0.62850006, 0.61894621, 0.8216624 ,\n",
       "       0.82187902, 0.82183115, 0.82137593, 0.83305111, 0.8054598 ,\n",
       "       0.83145474, 0.82188433, 0.79059453, 0.81845724, 0.82022106,\n",
       "       0.81266654, 0.81140547, 0.82106592, 0.82136789, 0.81394868,\n",
       "       0.82110668, 0.80378412, 0.79361661, 0.8218095 , 0.82114565,\n",
       "       0.82154723, 0.82189368, 0.82174107, 0.83429827, 0.79441876,\n",
       "       0.78745734, 0.76186361, 0.82184241, 0.5       , 0.58847971,\n",
       "       0.79009827, 0.82189139, 0.82845342, 0.80061938, 0.82119768])"
      ]
     },
     "execution_count": 54,
     "metadata": {},
     "output_type": "execute_result"
    }
   ],
   "source": [
    "print(f\"Mean cv scores - Highest: {clf_randsearchcv_v2.cv_results_['mean_test_score'].max()} \\\n",
    "from param combination {np.where(clf_randsearchcv_v2.cv_results_['mean_test_score'] == clf_randsearchcv_v2.cv_results_['mean_test_score'].max())[0]}\")\n",
    "\n",
    "print('Mean cv scores - each parameter and model combination:')\n",
    "clf_randsearchcv_v2.cv_results_['mean_test_score']"
   ]
  },
  {
   "cell_type": "markdown",
   "metadata": {},
   "source": [
    "#### *3) Best prediction accuracy*"
   ]
  },
  {
   "cell_type": "code",
   "execution_count": 73,
   "metadata": {},
   "outputs": [
    {
     "name": "stdout",
     "output_type": "stream",
     "text": [
      "Prediction score with the best model: 0.8363\n"
     ]
    }
   ],
   "source": [
    "# Best prediction score\n",
    "clf_nn_v2_roc_auc =  calculate_roc_auc_score(clf_randsearchcv_v2.best_estimator_,X_valid_transformed, y_valid)\n",
    "print(f'Prediction score with the best model: {round(clf_nn_v2_roc_auc,4)}')"
   ]
  },
  {
   "cell_type": "markdown",
   "metadata": {},
   "source": [
    "##### **Hyperparameter tuning - ensemble models**\n",
    "##### *1) Randomized Search CV*"
   ]
  },
  {
   "cell_type": "code",
   "execution_count": 28,
   "metadata": {},
   "outputs": [
    {
     "name": "stdout",
     "output_type": "stream",
     "text": [
      "Fitting 5 folds for each of 50 candidates, totalling 250 fits\n"
     ]
    },
    {
     "name": "stderr",
     "output_type": "stream",
     "text": [
      "[Parallel(n_jobs=-1)]: Using backend LokyBackend with 8 concurrent workers.\n",
      "[Parallel(n_jobs=-1)]: Done  34 tasks      | elapsed:   20.0s\n",
      "[Parallel(n_jobs=-1)]: Done 184 tasks      | elapsed:  2.8min\n",
      "[Parallel(n_jobs=-1)]: Done 250 out of 250 | elapsed:  3.9min finished\n"
     ]
    },
    {
     "name": "stdout",
     "output_type": "stream",
     "text": [
      "Time elapsed: 3.98 minutes\n"
     ]
    }
   ],
   "source": [
    "## create a pipeline\n",
    "pipe_clf2 = Pipeline([('classifier',AdaBoostClassifier())])\n",
    "\n",
    "## Create dictionary with candidate learning algorithms and their hyperparameters\n",
    "param_space2 =  [{\"classifier\": [AdaBoostClassifier(random_state=15611)],\n",
    "                 'classifier__n_estimators': randint(5,100),\n",
    "                 'classifier__learning_rate': loguniform(0.001, 100),\n",
    "                 'classifier__algorithm': ['SAMME', 'SAMME.R']\n",
    "                },\n",
    "                {\"classifier\": [GradientBoostingClassifier(random_state=15611)],\n",
    "                 'classifier__loss': ['deviance', 'exponential'],\n",
    "                 'classifier__n_estimators': randint(5,100),\n",
    "                 'classifier__learning_rate': loguniform(0.0001, 100),\n",
    "                 'classifier__max_depth': randint(1,20),\n",
    "                 'classifier__max_features': randint(5, X_train.shape[1]+1),\n",
    "                 'classifier__min_samples_split': randint(5, 100),\n",
    "                },\n",
    "                {\"classifier\": [XGBClassifier(random_state=15611,objective='binary:logistic')],\n",
    "                 'classifier__eta':loguniform(0.0001, 100),\n",
    "                 'classifier__gamma': loguniform(0.0001, 100),\n",
    "                 'classifier__max_depth': randint(1,20),\n",
    "                 'classifier__min_child_weight': loguniform(0.01, 100),\n",
    "                 'classifier__max_delta_step':randint(1,10),\n",
    "                 'classifier__subsample':uniform(0,1)\n",
    "                },]\n",
    "\n",
    "# Parameter tuning\n",
    "start = time()\n",
    "clf_ensemble = RandomizedSearchCV(estimator = pipe_clf2, \n",
    "                                      param_distributions=param_space2, \n",
    "                                      scoring='roc_auc',\n",
    "                                      n_iter=50,\n",
    "                                      cv=5, \n",
    "                                      verbose=1,\n",
    "                                      n_jobs=-1,\n",
    "                                      random_state = 15611\n",
    "                                      )\n",
    "clf_ensemble.fit(X_train_transformed, y_train_transformed)\n",
    "print(f'Time elapsed: {round((time()-start)/60,2)} minutes')"
   ]
  },
  {
   "cell_type": "code",
   "execution_count": 43,
   "metadata": {},
   "outputs": [
    {
     "data": {
      "text/plain": [
       "['clf_ensemble_randsearchcv.joblib']"
      ]
     },
     "execution_count": 43,
     "metadata": {},
     "output_type": "execute_result"
    }
   ],
   "source": [
    "joblib.dump(clf_ensemble,'clf_ensemble_randsearchcv.joblib')\n",
    "# load the save search result\n",
    "# clf_ensemble = joblib.load('clf_ensemble_randsearchcv.joblib')"
   ]
  },
  {
   "cell_type": "markdown",
   "metadata": {},
   "source": [
    "##### *2) Best estimator*"
   ]
  },
  {
   "cell_type": "code",
   "execution_count": 44,
   "metadata": {},
   "outputs": [
    {
     "name": "stdout",
     "output_type": "stream",
     "text": [
      "Best roc_auc Score: 0.8388\n",
      "Best model and parameters:\n"
     ]
    },
    {
     "data": {
      "text/plain": [
       "{'classifier': XGBClassifier(base_score=None, booster=None, callbacks=None,\n",
       "               colsample_bylevel=None, colsample_bynode=None,\n",
       "               colsample_bytree=None, early_stopping_rounds=None,\n",
       "               enable_categorical=False, eta=0.11473698305487026,\n",
       "               eval_metric=None, gamma=0.0033678015840455837, gpu_id=None,\n",
       "               grow_policy=None, importance_type=None,\n",
       "               interaction_constraints=None, learning_rate=None, max_bin=None,\n",
       "               max_cat_to_onehot=None, max_delta_step=2, max_depth=9,\n",
       "               max_leaves=None, min_child_weight=76.22036610408519, missing=nan,\n",
       "               monotone_constraints=None, n_estimators=100, n_jobs=None,\n",
       "               num_parallel_tree=None, predictor=None, random_state=15611,\n",
       "               reg_alpha=None, ...),\n",
       " 'classifier__eta': 0.11473698305487026,\n",
       " 'classifier__gamma': 0.0033678015840455837,\n",
       " 'classifier__max_delta_step': 2,\n",
       " 'classifier__max_depth': 9,\n",
       " 'classifier__min_child_weight': 76.22036610408519,\n",
       " 'classifier__subsample': 0.82290056678752}"
      ]
     },
     "execution_count": 44,
     "metadata": {},
     "output_type": "execute_result"
    }
   ],
   "source": [
    "print(f'Best roc_auc Score: {round(clf_ensemble.best_score_,4)}')\n",
    "print('Best model and parameters:')\n",
    "clf_ensemble.best_params_"
   ]
  },
  {
   "cell_type": "code",
   "execution_count": 45,
   "metadata": {},
   "outputs": [
    {
     "name": "stdout",
     "output_type": "stream",
     "text": [
      "Mean cv scores - Highest: nan from param combination []\n",
      "Mean cv scores - each parameter and model combination:\n"
     ]
    },
    {
     "data": {
      "text/plain": [
       "array([0.82598994, 0.8277616 , 0.70535448, 0.73123156, 0.83673967,\n",
       "       0.83548499, 0.80698667, 0.83703376, 0.79842761, 0.82863358,\n",
       "       0.66968515, 0.76088134, 0.60892535, 0.6285698 , 0.83777094,\n",
       "       0.58024403, 0.81678971, 0.82995218, 0.82919403, 0.82364735,\n",
       "       0.75146923,        nan, 0.65148427, 0.82137618, 0.51500028,\n",
       "       0.73120583, 0.82004079, 0.39705494, 0.69416703, 0.63413626,\n",
       "       0.83701793, 0.75947024, 0.83193084, 0.72046716, 0.80930355,\n",
       "       0.74533516, 0.83496543, 0.81025907, 0.83280392, 0.82065317,\n",
       "       0.64559098, 0.8279354 , 0.65634404, 0.78193386, 0.76876341,\n",
       "       0.83880616,        nan, 0.68142986, 0.81321882, 0.83688048])"
      ]
     },
     "execution_count": 45,
     "metadata": {},
     "output_type": "execute_result"
    }
   ],
   "source": [
    "print(f\"Mean cv scores - Highest: {clf_ensemble.cv_results_['mean_test_score'].max()} \\\n",
    "from param combination {np.where(clf_ensemble.cv_results_['mean_test_score'] == clf_ensemble.cv_results_['mean_test_score'].max())[0]}\")\n",
    "\n",
    "print('Mean cv scores - each parameter and model combination:')\n",
    "clf_ensemble.cv_results_['mean_test_score']"
   ]
  },
  {
   "cell_type": "markdown",
   "metadata": {},
   "source": [
    "**Ranking of the models by CV scores**"
   ]
  },
  {
   "cell_type": "code",
   "execution_count": 46,
   "metadata": {},
   "outputs": [
    {
     "name": "stdout",
     "output_type": "stream",
     "text": [
      "       score                                              model  rank\n",
      "45  0.838806  XGBClassifier(base_score=None, booster=None, c...     1\n",
      "14  0.837771     GradientBoostingClassifier(random_state=15611)     2\n",
      "7   0.837034  XGBClassifier(base_score=None, booster=None, c...     3\n",
      "30  0.837018     GradientBoostingClassifier(random_state=15611)     4\n",
      "49  0.836880     GradientBoostingClassifier(random_state=15611)     5\n",
      "       score                                              model  rank\n",
      "15  0.580244     GradientBoostingClassifier(random_state=15611)    46\n",
      "24  0.515000     GradientBoostingClassifier(random_state=15611)    47\n",
      "27  0.397055  XGBClassifier(base_score=None, booster=None, c...    48\n",
      "21       NaN             AdaBoostClassifier(random_state=15611)    49\n",
      "46       NaN             AdaBoostClassifier(random_state=15611)    50\n"
     ]
    }
   ],
   "source": [
    "best2= pd.DataFrame({'score': list(clf_ensemble.cv_results_['mean_test_score'])})\n",
    "best2['model'] = [param['classifier'] for param in clf_ensemble.cv_results_['params']]\n",
    "best2 = best2.sort_values('score',ascending=False)\n",
    "best2['rank'] = np.arange(1,best2.shape[0]+1)\n",
    "print(best2.head())\n",
    "print(best2.tail())"
   ]
  },
  {
   "cell_type": "code",
   "execution_count": 47,
   "metadata": {},
   "outputs": [
    {
     "name": "stdout",
     "output_type": "stream",
     "text": [
      "These models were not able to produce scores:\n",
      "Model 21: {'classifier': AdaBoostClassifier(random_state=15611), 'classifier__algorithm': 'SAMME', 'classifier__learning_rate': 29.505981997046952, 'classifier__n_estimators': 37}\n",
      "Model 46: {'classifier': AdaBoostClassifier(random_state=15611), 'classifier__algorithm': 'SAMME', 'classifier__learning_rate': 5.568762198594363, 'classifier__n_estimators': 70}\n"
     ]
    }
   ],
   "source": [
    "print('These models were not able to produce scores:')\n",
    "print('Model 21:', clf_ensemble.cv_results_['params'][21])\n",
    "print('Model 46:', clf_ensemble.cv_results_['params'][46])"
   ]
  },
  {
   "cell_type": "code",
   "execution_count": 48,
   "metadata": {},
   "outputs": [
    {
     "name": "stdout",
     "output_type": "stream",
     "text": [
      "The best gbc model (the 2nd best):\n"
     ]
    },
    {
     "data": {
      "text/plain": [
       "{'classifier': GradientBoostingClassifier(random_state=15611),\n",
       " 'classifier__learning_rate': 0.00010027932482822924,\n",
       " 'classifier__loss': 'deviance',\n",
       " 'classifier__max_depth': 15,\n",
       " 'classifier__max_features': 5,\n",
       " 'classifier__min_samples_split': 23,\n",
       " 'classifier__n_estimators': 87}"
      ]
     },
     "execution_count": 48,
     "metadata": {},
     "output_type": "execute_result"
    }
   ],
   "source": [
    "print('The best gbc model (the 2nd best):')\n",
    "clf_ensemble.cv_results_['params'][14]"
   ]
  },
  {
   "cell_type": "code",
   "execution_count": 49,
   "metadata": {},
   "outputs": [],
   "source": [
    "# Best GBC model (the third best model)\n",
    "gbc = GradientBoostingClassifier(learning_rate=0.0001002793248282292,loss='deviance',\n",
    "                    max_features=5, max_depth=15,\n",
    "                    min_samples_split=23,\n",
    "                    n_estimators=87,\n",
    "                    random_state=15611)\n",
    "gbc.fit(X_train_transformed,y_train_transformed);"
   ]
  },
  {
   "cell_type": "markdown",
   "metadata": {},
   "source": [
    "##### *3) Prediction accuracy*"
   ]
  },
  {
   "cell_type": "code",
   "execution_count": 50,
   "metadata": {},
   "outputs": [
    {
     "name": "stdout",
     "output_type": "stream",
     "text": [
      "roc_auc score of the best XGBC model: 0.8369\n",
      "roc_auc score of the best GBC model: 0.8284\n"
     ]
    }
   ],
   "source": [
    "# Prediction score of the best two models, MLP and logistic regression\n",
    "print('roc_auc score of the best XGBC model: {}'.format(round(calculate_roc_auc_score(clf_ensemble.best_estimator_,X_valid_transformed, y_valid_transformed),4)))\n",
    "print('roc_auc score of the best GBC model: {}'.format(round(calculate_roc_auc_score(gbc,X_valid_transformed, y_valid_transformed),4)))"
   ]
  },
  {
   "cell_type": "markdown",
   "metadata": {},
   "source": [
    "## Evaluate best models"
   ]
  },
  {
   "cell_type": "markdown",
   "metadata": {},
   "source": [
    "### Learning curve\n",
    "This section will plot the learning curve of the best models identified in the previous section from Model sets 1 and 2. <br>\n",
    "For model set 1, plotting learning curve of Gaussian process model took forever return the plot - as it is shown in the model screening section that it took 156 minutes, compared to a few seconds for the other models (except for SVM RBF kernel 2.6 minutes). Therefore, this section will ommit learning curve of this model. "
   ]
  },
  {
   "cell_type": "code",
   "execution_count": 51,
   "metadata": {},
   "outputs": [],
   "source": [
    "# download from GitHub repository\n",
    "import requests\n",
    "# Save plot_learning_curve as file to colab working directory\n",
    "# Get the \"Raw\" version of the code from GitHub\n",
    "url = 'https://raw.githubusercontent.com/TessieTong/ds4ml/main/plot_learning_curve.py'\n",
    "r = requests.get(url)\n",
    "\n",
    "# Write to Colab working directory \n",
    "with open('plot_learning_curve.py', 'w') as f:\n",
    "    f.write(r.text)\n",
    "\n",
    "# import\n",
    "from plot_learning_curve import plot_learning_curve"
   ]
  },
  {
   "cell_type": "code",
   "execution_count": 42,
   "metadata": {},
   "outputs": [
    {
     "data": {
      "image/png": "[encoded data removed]",
      "text/plain": [
       "<Figure size 1440x864 with 12 Axes>"
      ]
     },
     "metadata": {
      "needs_background": "light"
     },
     "output_type": "display_data"
    }
   ],
   "source": [
    "# Plot learning curves of the 4 best ensemble classifiers\n",
    "from sklearn.model_selection import learning_curve\n",
    "from sklearn.model_selection import ShuffleSplit\n",
    "nrows=3\n",
    "ncols=4\n",
    "fig, axes = plt.subplots(nrows, ncols, figsize=(ncols*5, nrows*4))\n",
    "# Cross validation with 10 iterations\n",
    "# score curves, each time with 20% data randomly selected as a validation set.\n",
    "# Here only the training set is used.\n",
    "cv = ShuffleSplit(n_splits=10, test_size=0.2, random_state=15611)\n",
    "\n",
    "title = r\"Learning Curves (MLPClassifier v1)\"\n",
    "plot_learning_curve(clf_randsearchcv_v1.best_estimator_,\n",
    "    title, X_train_transformed, y_train, \n",
    "    axes=axes[:, 0], ylim=(0.7, 1.01), cv=cv, n_jobs=-1)\n",
    "\n",
    "title = r\"Learning Curves (MLPClassifier v2)\"\n",
    "plot_learning_curve(clf_randsearchcv_v2.best_estimator_,\n",
    "    title, X_train_transformed, y_train, \n",
    "    axes=axes[:, 1], ylim=(0.7, 1.01), cv=cv, n_jobs=-1)\n",
    "\n",
    "title = r\"Learning Curves (XGBoosting)\"\n",
    "plot_learning_curve(clf_ensemble.best_estimator_,\n",
    "    title, X_train_transformed, y_train_transformed, \n",
    "    axes=axes[:, 2], ylim=(0.7, 1.01), cv=cv, n_jobs=-1)\n",
    "\n",
    "title = r\"Learning Curves (Gradient Boosting)\"\n",
    "plot_learning_curve(gbc,\n",
    "    title, X_train_transformed, y_train_transformed, \n",
    "    axes=axes[:, 3], ylim=(0.7, 1.01), cv=cv, n_jobs=-1)\n",
    "\n",
    "\n",
    "plt.tight_layout(pad=3.0)\n",
    "plt.show();"
   ]
  },
  {
   "cell_type": "markdown",
   "metadata": {},
   "source": [
    "Both MLP models are somewhat underfitting, judging by learning curves. Both Training score decreases relatively rapidly while cross-validation score climbes slowly, with increasing the number of examples. <br>\n",
    "\n",
    "Both ensemble models are not over- nor under-fitting. They performed similarly in terms of scalability (time it takes to fit the same number of examples). However, for gradient boosting, increasing examples did not increase scores at all, while for XGBoost, score increase at the beginning then quickly plateaued out.\n",
    "\n",
    "Due to the nature of RandomizedSearchCV algorithm, although there is no garantee that more hyperparameters in the distribution space or more sample combinations will produce the best models, certainly the chances of finding best models will be higher."
   ]
  },
  {
   "cell_type": "markdown",
   "metadata": {},
   "source": [
    "### Prediction accuracy"
   ]
  },
  {
   "cell_type": "code",
   "execution_count": 54,
   "metadata": {},
   "outputs": [
    {
     "name": "stdout",
     "output_type": "stream",
     "text": [
      "Prediction and CV scores of the 5 best models:\n",
      "\n",
      "Model \t\t\tprediction score\tCV score\n",
      "----------------------------------------------------------\n",
      "Neural Net (MLPv1)\t0.8371\t\t\t0.8366\n",
      "Neural Net (MLPv2)\t0.8363\t\t\t0.839\n",
      "Guassian Process\t0.8367\t\t\t0.8367\n",
      "XGBoosting      \t0.8369\t\t\t0.8388\n",
      "Gradient Boosting\t0.8284\t\t\t0.8378\n"
     ]
    }
   ],
   "source": [
    "# Best prediction score\n",
    "print('Prediction and CV scores of the 5 best models:\\n')\n",
    "print('Model \\t\\t\\tprediction score\\tCV score')\n",
    "print('----------------------------------------------------------')\n",
    "\n",
    "# Non-ensemble model\n",
    "clf_nn_v1_roc_auc = calculate_roc_auc_score(clf_randsearchcv_v1.best_estimator_, X_valid_transformed, y_valid)\n",
    "print('Neural Net (MLPv1)\\t{}\\t\\t\\t{}'.format(round(clf_nn_v1_roc_auc,4),round(clf_randsearchcv_v1.best_score_,4)))\n",
    "clf_nn_v2_roc_auc = calculate_roc_auc_score(clf_randsearchcv_v2.best_estimator_, X_valid_transformed,y_valid) \n",
    "print('Neural Net (MLPv2)\\t{}\\t\\t\\t{}'.format(round(clf_nn_v2_roc_auc,4),round(clf_randsearchcv_v2.best_score_,4)))\n",
    "## Gaussian process\n",
    "clf_gp_train_roc_auc = calculate_roc_auc_score(screening_results['model']['Gaussian Process'], X_valid_transformed, y_valid)\n",
    "clf_gp_roc_auc = screening_results['score']['Gaussian Process'] \n",
    "print('Guassian Process\\t{}\\t\\t\\t{}'.format(round(clf_gp_roc_auc,4),round(clf_gp_train_roc_auc,4)))\n",
    "\n",
    "# Ensemble\n",
    "ens_roc_auc = calculate_roc_auc_score(clf_ensemble.best_estimator_, X_valid_transformed, y_valid_transformed)\n",
    "print('XGBoosting      \\t{}\\t\\t\\t{}'.format(round(ens_roc_auc,4),round(clf_ensemble.best_score_,4)))\n",
    "gbc_roc_auc = calculate_roc_auc_score(gbc, X_valid_transformed,y_valid_transformed) \n",
    "print('Gradient Boosting\\t{}\\t\\t\\t{}'.format(round(gbc_roc_auc,4),round(clf_ensemble.cv_results_['mean_test_score'][14],4)))\n"
   ]
  },
  {
   "cell_type": "code",
   "execution_count": 297,
   "metadata": {},
   "outputs": [
    {
     "name": "stdout",
     "output_type": "stream",
     "text": [
      "MLP v1 - Best prediction score v1: 0.8371\n"
     ]
    },
    {
     "data": {
      "text/plain": [
       "{'classifier': MLPClassifier(alpha=0.47857874420504615, learning_rate='invscaling',\n",
       "               random_state=15611),\n",
       " 'classifier__activation': 'relu',\n",
       " 'classifier__alpha': 0.47857874420504615,\n",
       " 'classifier__learning_rate': 'invscaling',\n",
       " 'classifier__solver': 'adam'}"
      ]
     },
     "execution_count": 297,
     "metadata": {},
     "output_type": "execute_result"
    }
   ],
   "source": [
    "# Best model:\n",
    "print(f'MLP v1 - Best prediction score v1: {round(clf_nn_v1_roc_auc,4)}')\n",
    "clf_randsearchcv_v1.best_params_"
   ]
  },
  {
   "cell_type": "markdown",
   "metadata": {},
   "source": [
    "The ***best predictive model*** is the ***Multi_Layer Perceptron classifier (MLPClassifier)*** from scikit learn's neural_network module, with default ***\"relu\"*** activation function and ***\"adam\"*** solver, ***\"invscaling\"*** learning rate schedule, and L2 penalty regulization parameter ***alpha = 0.4786***. <br>\n",
    "\n",
    "The hyperparameter setting 2 (MLPv2) had a high cross-validation score, however, the score is somewhat lower on validation set. Guassian process had the second best score. Nevertheless, the scores from the three models are very close (max difference is less than 0.001). <br>\n",
    "\n",
    "However, XGBoosting is also a very good model with only 0.02% point less accurate than the neural network model. Since neural network model is sensitive to collinearity between features, and our dataset did not remove the features with strong correaltion or drop a coloumn from the one-hot-ended features, we will choose the **XGBoosting as our best model**.\n",
    "\n",
    "It should be noted that due to the randomness nuature of RandomSearchCV algorithm, the results will be different each time when we fit the model. Further more, Gaussian Process is highly computational expensive, any execution that involves repeated compotations, such as hyperparameter tuning, learning curve, or permutation importances, is extremely slow. Therefore, evaluating model performace or selecting important features of a Guassian Process Classifier will be extremely expensive. "
   ]
  },
  {
   "cell_type": "markdown",
   "metadata": {},
   "source": [
    "### Feature importance\n",
    "#### List feature from pipeline"
   ]
  },
  {
   "cell_type": "code",
   "execution_count": 55,
   "metadata": {},
   "outputs": [],
   "source": [
    "depend = ['dependents']\n",
    "cat_vars = ['gender', 'occupation']#,'branch_code']\n",
    "\n",
    "nw_cat = ['customer_nw_category']\n",
    "bal_vars = ['current_balance', 'current_month_balance', \n",
    "            'previous_month_end_balance','previous_month_balance',\n",
    "            'average_monthly_balance_prevQ', 'average_monthly_balance_prevQ2']\n",
    "debit_vars = ['current_month_debit','previous_month_debit']\n",
    "credit_vars = ['current_month_credit', 'previous_month_credit']\n",
    "days_br_vars = ['days_since_last_transaction','branch_code']\n",
    "vin_age_vars = ['vintage', 'age']\n",
    "vin_day_vars = ['days_since_last_transaction','vintage']\n",
    "vin_dep_vars = ['dependents','vintage']\n",
    "\n",
    "target = 'churn'"
   ]
  },
  {
   "cell_type": "code",
   "execution_count": 56,
   "metadata": {},
   "outputs": [],
   "source": [
    "vars_list = [depend,cat_vars,nw_cat,vin_age_vars,days_br_vars,bal_vars,debit_vars,credit_vars, bal_vars,\n",
    "             vin_day_vars,depend+bal_vars,depend+credit_vars,depend+debit_vars,vin_age_vars]\n",
    "last_steps = ['ohe_depend','ohe_cat','','scal_base','scal_days_br','scal_bal','scal_debit','scal_credit', 'scal_bal_pct',\n",
    "              'scal_vinday','scal_bal_pers','scal_credit_pers','scal_debit_pers','scal_vinage']"
   ]
  },
  {
   "cell_type": "code",
   "execution_count": 57,
   "metadata": {},
   "outputs": [
    {
     "data": {
      "text/plain": [
       "47"
      ]
     },
     "execution_count": 57,
     "metadata": {},
     "output_type": "execute_result"
    }
   ],
   "source": [
    "# get the features after transformation\n",
    "features_fin = []\n",
    "for key, step, vars in zip(list(pipeline_data.named_transformers_.keys())[:-1], last_steps, vars_list):\n",
    "#     print(key, step, vars)\n",
    "    if key == 'depend':\n",
    "        features_fin.extend(list(pipeline_data.named_transformers_[key][step].get_feature_names() + '_dependents'))\n",
    "    elif key == 'cat_vars':\n",
    "        features_fin.extend(list(pipeline_data.named_transformers_[key][step].get_feature_names()))\n",
    "    elif key == 'ode_nw':\n",
    "        features_fin.extend(list(nw_cat))\n",
    "    elif key == 'eng_pct':\n",
    "        features_fin.extend('_pct,'.join(vars+['']).split(',')[1:-1])\n",
    "    elif key == 'eng_vinday':\n",
    "        features_fin.extend('_vinday,'.join(vars+['']).split(',')[1:-1])\n",
    "    elif key == 'eng_balpers':\n",
    "        features_fin.extend('_balpers,'.join(vars+['']).split(',')[1:-1])\n",
    "    elif key == 'eng_crdpers':\n",
    "        features_fin.extend('_creditpers,'.join(vars+['']).split(',')[1:-1])\n",
    "    elif key == 'eng_dbtpers':\n",
    "        features_fin.extend('_debitpers,'.join(vars+['']).split(',')[1:-1])\n",
    "    elif key == 'eng_srscore':\n",
    "#         print(step, vars)\n",
    "        features_fin.extend('_age_seniority,'.join(vars+['']).split(',')[0:-2])\n",
    "    else:\n",
    "        features_fin.extend(vars)\n",
    "len(features_fin)"
   ]
  },
  {
   "cell_type": "markdown",
   "metadata": {},
   "source": [
    "#### Permutation importance"
   ]
  },
  {
   "cell_type": "code",
   "execution_count": 191,
   "metadata": {},
   "outputs": [],
   "source": [
    "from sklearn.inspection import permutation_importance\n",
    "fpi_train_v1 = permutation_importance(clf_randsearchcv_v1.best_estimator_, X_train_transformed, y_train, scoring='roc_auc')\n",
    "fpi_valid_v1 = permutation_importance(clf_randsearchcv_v1.best_estimator_, X_valid_transformed, y_valid, scoring='roc_auc')\n",
    "\n",
    "fpi_train_v2 = permutation_importance(clf_randsearchcv_v2.best_estimator_, X_train_transformed, y_train, scoring='roc_auc')\n",
    "fpi_valid_v2 = permutation_importance(clf_randsearchcv_v2.best_estimator_, X_valid_transformed, y_valid, scoring='roc_auc')\n",
    "\n",
    "fpi_train_xgbc = permutation_importance(clf_ensemble.best_estimator_, X_train_transformed, y_train_transformed, scoring='roc_auc')\n",
    "fpi_valid_xgbc = permutation_importance(clf_ensemble.best_estimator_, X_valid_transformed, y_valid_transformed, scoring='roc_auc')\n",
    "\n",
    "fpi_train_gbc = permutation_importance(gbc, X_train_transformed, y_train_transformed, scoring='roc_auc')\n",
    "fpi_valid_gbc = permutation_importance(gbc, X_valid_transformed, y_valid_transformed, scoring='roc_auc')"
   ]
  },
  {
   "cell_type": "code",
   "execution_count": 189,
   "metadata": {},
   "outputs": [],
   "source": [
    "def plot_feature_importance(fpi,dataset=['train'], model=['regression']):\n",
    "    \"\"\" plot feaute importance\n",
    "        fpi: list of feautre importance lists.\n",
    "        dataset: list of dataset names\n",
    "        model: list of model names\n",
    "    \"\"\"\n",
    "    ncols = len(dataset)\n",
    "    plt.figure(figsize=(ncols*5,4))\n",
    "    for i in range(ncols):\n",
    "        plt.subplot(1,ncols,i+1)\n",
    "        plt.bar(range(len(fpi[i])), fpi[i],1, i)\n",
    "        plt.title(model[i] + ': Feature Importance - ' + dataset[i] + ' set')"
   ]
  },
  {
   "cell_type": "code",
   "execution_count": 192,
   "metadata": {},
   "outputs": [
    {
     "data": {
      "image/png": "[encoded data removed]",
      "text/plain": [
       "<Figure size 1440x288 with 4 Axes>"
      ]
     },
     "metadata": {
      "needs_background": "light"
     },
     "output_type": "display_data"
    },
    {
     "data": {
      "image/png": "[encoded data removed]",
      "text/plain": [
       "<Figure size 1440x288 with 4 Axes>"
      ]
     },
     "metadata": {
      "needs_background": "light"
     },
     "output_type": "display_data"
    }
   ],
   "source": [
    "plot_feature_importance([fpi_train_v1['importances_mean'], fpi_train_v2['importances_mean'],fpi_train_xgbc['importances_mean'],fpi_train_gbc['importances_mean']], \n",
    "                        dataset=['train']*4, model=['MLP_v1','MLP_v2','XGBC','GBC'])\n",
    "plot_feature_importance([fpi_valid_v1['importances_mean'], fpi_valid_v2['importances_mean'],fpi_valid_xgbc['importances_mean'],fpi_valid_gbc['importances_mean']], \n",
    "                        dataset=['validation']*4, model=['MLP_v1','MLP_v2','XGBC','GBC'])"
   ]
  },
  {
   "cell_type": "markdown",
   "metadata": {},
   "source": [
    "The most important features for MLPv1 and MLPv1 are similar for MLPv1 and MLPv1, however, they are very different for the ensemble models which are also different from each other."
   ]
  },
  {
   "cell_type": "code",
   "execution_count": 193,
   "metadata": {},
   "outputs": [],
   "source": [
    "feat_importances = pd.DataFrame.from_dict({'features':features_fin,\n",
    "             'MLP_train_v1':fpi_train_v1['importances_mean'],\n",
    "             'MLP_valid_v1':fpi_valid_v1['importances_mean'],\n",
    "             'MLP_train_v2':fpi_train_v2['importances_mean'],\n",
    "             'MLP_valid_v2':fpi_valid_v2['importances_mean'],\n",
    "             'xgbc_train':fpi_train_xgbc['importances_mean'],\n",
    "             'xgbc_valid':fpi_valid_xgbc['importances_mean'],\n",
    "             'gbc_train':fpi_train_gbc['importances_mean'],\n",
    "             'gbc_valid':fpi_valid_gbc['importances_mean'],\n",
    "                                          }).sort_values(['xgbc_valid'],ascending=False)"
   ]
  },
  {
   "cell_type": "code",
   "execution_count": 194,
   "metadata": {},
   "outputs": [
    {
     "name": "stdout",
     "output_type": "stream",
     "text": [
      "(17, 9)\n"
     ]
    },
    {
     "data": {
      "text/html": [
       "<div>\n",
       "<style scoped>\n",
       "    .dataframe tbody tr th:only-of-type {\n",
       "        vertical-align: middle;\n",
       "    }\n",
       "\n",
       "    .dataframe tbody tr th {\n",
       "        vertical-align: top;\n",
       "    }\n",
       "\n",
       "    .dataframe thead th {\n",
       "        text-align: right;\n",
       "    }\n",
       "</style>\n",
       "<table border=\"1\" class=\"dataframe\">\n",
       "  <thead>\n",
       "    <tr style=\"text-align: right;\">\n",
       "      <th></th>\n",
       "      <th>features</th>\n",
       "      <th>MLP_train_v1</th>\n",
       "      <th>MLP_valid_v1</th>\n",
       "      <th>MLP_train_v2</th>\n",
       "      <th>MLP_valid_v2</th>\n",
       "      <th>xgbc_train</th>\n",
       "      <th>xgbc_valid</th>\n",
       "      <th>gbc_train</th>\n",
       "      <th>gbc_valid</th>\n",
       "    </tr>\n",
       "  </thead>\n",
       "  <tbody>\n",
       "    <tr>\n",
       "      <th>20</th>\n",
       "      <td>current_balance</td>\n",
       "      <td>0.054032</td>\n",
       "      <td>0.046447</td>\n",
       "      <td>0.056496</td>\n",
       "      <td>0.046122</td>\n",
       "      <td>0.043123</td>\n",
       "      <td>0.038609</td>\n",
       "      <td>0.028274</td>\n",
       "      <td>0.032355</td>\n",
       "    </tr>\n",
       "    <tr>\n",
       "      <th>31</th>\n",
       "      <td>previous_month_end_balance_pct</td>\n",
       "      <td>0.008045</td>\n",
       "      <td>0.007373</td>\n",
       "      <td>0.006918</td>\n",
       "      <td>0.008094</td>\n",
       "      <td>0.019960</td>\n",
       "      <td>0.024676</td>\n",
       "      <td>0.017464</td>\n",
       "      <td>0.013174</td>\n",
       "    </tr>\n",
       "    <tr>\n",
       "      <th>30</th>\n",
       "      <td>current_month_balance_pct</td>\n",
       "      <td>0.007274</td>\n",
       "      <td>0.001139</td>\n",
       "      <td>0.002006</td>\n",
       "      <td>-0.000996</td>\n",
       "      <td>0.026045</td>\n",
       "      <td>0.020169</td>\n",
       "      <td>0.027359</td>\n",
       "      <td>0.024416</td>\n",
       "    </tr>\n",
       "    <tr>\n",
       "      <th>34</th>\n",
       "      <td>average_monthly_balance_prevQ2_pct</td>\n",
       "      <td>0.020675</td>\n",
       "      <td>0.015774</td>\n",
       "      <td>0.002912</td>\n",
       "      <td>0.003322</td>\n",
       "      <td>0.023524</td>\n",
       "      <td>0.018699</td>\n",
       "      <td>0.011414</td>\n",
       "      <td>0.007708</td>\n",
       "    </tr>\n",
       "    <tr>\n",
       "      <th>32</th>\n",
       "      <td>previous_month_balance_pct</td>\n",
       "      <td>0.006570</td>\n",
       "      <td>0.004371</td>\n",
       "      <td>0.001757</td>\n",
       "      <td>0.003563</td>\n",
       "      <td>0.021745</td>\n",
       "      <td>0.014449</td>\n",
       "      <td>0.015089</td>\n",
       "      <td>0.009613</td>\n",
       "    </tr>\n",
       "    <tr>\n",
       "      <th>33</th>\n",
       "      <td>average_monthly_balance_prevQ_pct</td>\n",
       "      <td>0.015837</td>\n",
       "      <td>0.009239</td>\n",
       "      <td>0.008015</td>\n",
       "      <td>0.005172</td>\n",
       "      <td>0.017102</td>\n",
       "      <td>0.012420</td>\n",
       "      <td>0.013030</td>\n",
       "      <td>0.006672</td>\n",
       "    </tr>\n",
       "    <tr>\n",
       "      <th>24</th>\n",
       "      <td>average_monthly_balance_prevQ</td>\n",
       "      <td>0.062161</td>\n",
       "      <td>0.072059</td>\n",
       "      <td>0.072270</td>\n",
       "      <td>0.095370</td>\n",
       "      <td>0.015215</td>\n",
       "      <td>0.010771</td>\n",
       "      <td>0.013534</td>\n",
       "      <td>0.006279</td>\n",
       "    </tr>\n",
       "    <tr>\n",
       "      <th>21</th>\n",
       "      <td>current_month_balance</td>\n",
       "      <td>0.012119</td>\n",
       "      <td>0.008950</td>\n",
       "      <td>0.012542</td>\n",
       "      <td>0.009073</td>\n",
       "      <td>0.007663</td>\n",
       "      <td>0.006180</td>\n",
       "      <td>0.013418</td>\n",
       "      <td>0.011759</td>\n",
       "    </tr>\n",
       "    <tr>\n",
       "      <th>40</th>\n",
       "      <td>average_monthly_balance_prevQ_balpers</td>\n",
       "      <td>0.057345</td>\n",
       "      <td>0.065761</td>\n",
       "      <td>0.065134</td>\n",
       "      <td>0.082118</td>\n",
       "      <td>0.008035</td>\n",
       "      <td>0.004655</td>\n",
       "      <td>0.013964</td>\n",
       "      <td>0.004688</td>\n",
       "    </tr>\n",
       "    <tr>\n",
       "      <th>36</th>\n",
       "      <td>current_balance_balpers</td>\n",
       "      <td>0.067129</td>\n",
       "      <td>0.060448</td>\n",
       "      <td>0.069657</td>\n",
       "      <td>0.060479</td>\n",
       "      <td>0.007038</td>\n",
       "      <td>0.003759</td>\n",
       "      <td>0.019432</td>\n",
       "      <td>0.015997</td>\n",
       "    </tr>\n",
       "    <tr>\n",
       "      <th>16</th>\n",
       "      <td>vintage</td>\n",
       "      <td>0.002538</td>\n",
       "      <td>0.002994</td>\n",
       "      <td>0.002047</td>\n",
       "      <td>0.003621</td>\n",
       "      <td>0.005078</td>\n",
       "      <td>0.002066</td>\n",
       "      <td>0.004181</td>\n",
       "      <td>-0.000285</td>\n",
       "    </tr>\n",
       "    <tr>\n",
       "      <th>26</th>\n",
       "      <td>current_month_debit</td>\n",
       "      <td>0.004852</td>\n",
       "      <td>0.002629</td>\n",
       "      <td>0.002734</td>\n",
       "      <td>0.002677</td>\n",
       "      <td>0.002481</td>\n",
       "      <td>0.001940</td>\n",
       "      <td>0.011410</td>\n",
       "      <td>0.004675</td>\n",
       "    </tr>\n",
       "    <tr>\n",
       "      <th>25</th>\n",
       "      <td>average_monthly_balance_prevQ2</td>\n",
       "      <td>0.005170</td>\n",
       "      <td>0.003585</td>\n",
       "      <td>0.009440</td>\n",
       "      <td>0.006640</td>\n",
       "      <td>0.002968</td>\n",
       "      <td>0.001569</td>\n",
       "      <td>0.008106</td>\n",
       "      <td>0.002465</td>\n",
       "    </tr>\n",
       "    <tr>\n",
       "      <th>29</th>\n",
       "      <td>previous_month_credit</td>\n",
       "      <td>0.003422</td>\n",
       "      <td>0.002370</td>\n",
       "      <td>0.001437</td>\n",
       "      <td>0.000619</td>\n",
       "      <td>0.001716</td>\n",
       "      <td>0.000799</td>\n",
       "      <td>0.007481</td>\n",
       "      <td>0.002648</td>\n",
       "    </tr>\n",
       "    <tr>\n",
       "      <th>39</th>\n",
       "      <td>previous_month_balance_balpers</td>\n",
       "      <td>0.005694</td>\n",
       "      <td>0.004729</td>\n",
       "      <td>0.001277</td>\n",
       "      <td>0.002360</td>\n",
       "      <td>0.001645</td>\n",
       "      <td>0.000743</td>\n",
       "      <td>0.011611</td>\n",
       "      <td>0.004007</td>\n",
       "    </tr>\n",
       "    <tr>\n",
       "      <th>35</th>\n",
       "      <td>vintage_vinday</td>\n",
       "      <td>0.001672</td>\n",
       "      <td>0.001918</td>\n",
       "      <td>0.000912</td>\n",
       "      <td>0.001362</td>\n",
       "      <td>0.003429</td>\n",
       "      <td>0.000597</td>\n",
       "      <td>0.006340</td>\n",
       "      <td>0.001592</td>\n",
       "    </tr>\n",
       "    <tr>\n",
       "      <th>41</th>\n",
       "      <td>average_monthly_balance_prevQ2_balpers</td>\n",
       "      <td>0.005336</td>\n",
       "      <td>0.003569</td>\n",
       "      <td>0.008198</td>\n",
       "      <td>0.006201</td>\n",
       "      <td>0.001950</td>\n",
       "      <td>0.000162</td>\n",
       "      <td>0.007416</td>\n",
       "      <td>0.002711</td>\n",
       "    </tr>\n",
       "    <tr>\n",
       "      <th>8</th>\n",
       "      <td>x0_Male</td>\n",
       "      <td>0.001034</td>\n",
       "      <td>0.001100</td>\n",
       "      <td>0.000330</td>\n",
       "      <td>0.000643</td>\n",
       "      <td>0.000000</td>\n",
       "      <td>0.000000</td>\n",
       "      <td>0.000515</td>\n",
       "      <td>0.000045</td>\n",
       "    </tr>\n",
       "    <tr>\n",
       "      <th>37</th>\n",
       "      <td>current_month_balance_balpers</td>\n",
       "      <td>0.003881</td>\n",
       "      <td>0.002058</td>\n",
       "      <td>0.008052</td>\n",
       "      <td>0.005661</td>\n",
       "      <td>0.001153</td>\n",
       "      <td>-0.000254</td>\n",
       "      <td>0.010168</td>\n",
       "      <td>0.005176</td>\n",
       "    </tr>\n",
       "  </tbody>\n",
       "</table>\n",
       "</div>"
      ],
      "text/plain": [
       "                                  features  MLP_train_v1  MLP_valid_v1  \\\n",
       "20                         current_balance      0.054032      0.046447   \n",
       "31          previous_month_end_balance_pct      0.008045      0.007373   \n",
       "30               current_month_balance_pct      0.007274      0.001139   \n",
       "34      average_monthly_balance_prevQ2_pct      0.020675      0.015774   \n",
       "32              previous_month_balance_pct      0.006570      0.004371   \n",
       "33       average_monthly_balance_prevQ_pct      0.015837      0.009239   \n",
       "24           average_monthly_balance_prevQ      0.062161      0.072059   \n",
       "21                   current_month_balance      0.012119      0.008950   \n",
       "40   average_monthly_balance_prevQ_balpers      0.057345      0.065761   \n",
       "36                 current_balance_balpers      0.067129      0.060448   \n",
       "16                                 vintage      0.002538      0.002994   \n",
       "26                     current_month_debit      0.004852      0.002629   \n",
       "25          average_monthly_balance_prevQ2      0.005170      0.003585   \n",
       "29                   previous_month_credit      0.003422      0.002370   \n",
       "39          previous_month_balance_balpers      0.005694      0.004729   \n",
       "35                          vintage_vinday      0.001672      0.001918   \n",
       "41  average_monthly_balance_prevQ2_balpers      0.005336      0.003569   \n",
       "8                                  x0_Male      0.001034      0.001100   \n",
       "37           current_month_balance_balpers      0.003881      0.002058   \n",
       "\n",
       "    MLP_train_v2  MLP_valid_v2  xgbc_train  xgbc_valid  gbc_train  gbc_valid  \n",
       "20      0.056496      0.046122    0.043123    0.038609   0.028274   0.032355  \n",
       "31      0.006918      0.008094    0.019960    0.024676   0.017464   0.013174  \n",
       "30      0.002006     -0.000996    0.026045    0.020169   0.027359   0.024416  \n",
       "34      0.002912      0.003322    0.023524    0.018699   0.011414   0.007708  \n",
       "32      0.001757      0.003563    0.021745    0.014449   0.015089   0.009613  \n",
       "33      0.008015      0.005172    0.017102    0.012420   0.013030   0.006672  \n",
       "24      0.072270      0.095370    0.015215    0.010771   0.013534   0.006279  \n",
       "21      0.012542      0.009073    0.007663    0.006180   0.013418   0.011759  \n",
       "40      0.065134      0.082118    0.008035    0.004655   0.013964   0.004688  \n",
       "36      0.069657      0.060479    0.007038    0.003759   0.019432   0.015997  \n",
       "16      0.002047      0.003621    0.005078    0.002066   0.004181  -0.000285  \n",
       "26      0.002734      0.002677    0.002481    0.001940   0.011410   0.004675  \n",
       "25      0.009440      0.006640    0.002968    0.001569   0.008106   0.002465  \n",
       "29      0.001437      0.000619    0.001716    0.000799   0.007481   0.002648  \n",
       "39      0.001277      0.002360    0.001645    0.000743   0.011611   0.004007  \n",
       "35      0.000912      0.001362    0.003429    0.000597   0.006340   0.001592  \n",
       "41      0.008198      0.006201    0.001950    0.000162   0.007416   0.002711  \n",
       "8       0.000330      0.000643    0.000000    0.000000   0.000515   0.000045  \n",
       "37      0.008052      0.005661    0.001153   -0.000254   0.010168   0.005176  "
      ]
     },
     "execution_count": 194,
     "metadata": {},
     "output_type": "execute_result"
    }
   ],
   "source": [
    "print(feat_importances[feat_importances['xgbc_valid']>=0.001].shape)\n",
    "feat_importances[feat_importances['MLP_valid_v1']>=0.001]"
   ]
  },
  {
   "cell_type": "markdown",
   "metadata": {},
   "source": [
    "The most important features are balance features, and most of them are engineered features (the percent changes of consecutive periods). Current balance, or current balance per household person has the highest importance value in all 3 best models, signifying this feature is the most important one for predicting customer churn."
   ]
  },
  {
   "cell_type": "code",
   "execution_count": 195,
   "metadata": {},
   "outputs": [
    {
     "name": "stdout",
     "output_type": "stream",
     "text": [
      "(19, 9)\n"
     ]
    },
    {
     "data": {
      "text/html": [
       "<div>\n",
       "<style scoped>\n",
       "    .dataframe tbody tr th:only-of-type {\n",
       "        vertical-align: middle;\n",
       "    }\n",
       "\n",
       "    .dataframe tbody tr th {\n",
       "        vertical-align: top;\n",
       "    }\n",
       "\n",
       "    .dataframe thead th {\n",
       "        text-align: right;\n",
       "    }\n",
       "</style>\n",
       "<table border=\"1\" class=\"dataframe\">\n",
       "  <thead>\n",
       "    <tr style=\"text-align: right;\">\n",
       "      <th></th>\n",
       "      <th>features</th>\n",
       "      <th>MLP_train_v1</th>\n",
       "      <th>MLP_valid_v1</th>\n",
       "      <th>MLP_train_v2</th>\n",
       "      <th>MLP_valid_v2</th>\n",
       "      <th>xgbc_train</th>\n",
       "      <th>xgbc_valid</th>\n",
       "      <th>gbc_train</th>\n",
       "      <th>gbc_valid</th>\n",
       "    </tr>\n",
       "  </thead>\n",
       "  <tbody>\n",
       "    <tr>\n",
       "      <th>1</th>\n",
       "      <td>x0_1.0_dependents</td>\n",
       "      <td>0.000177</td>\n",
       "      <td>-8.612619e-05</td>\n",
       "      <td>0.000038</td>\n",
       "      <td>-7.348015e-05</td>\n",
       "      <td>0.000000</td>\n",
       "      <td>0.000000</td>\n",
       "      <td>1.189160e-04</td>\n",
       "      <td>0.000101</td>\n",
       "    </tr>\n",
       "    <tr>\n",
       "      <th>2</th>\n",
       "      <td>x0_2.0_dependents</td>\n",
       "      <td>0.000185</td>\n",
       "      <td>-1.550804e-05</td>\n",
       "      <td>0.000151</td>\n",
       "      <td>6.482760e-05</td>\n",
       "      <td>0.000000</td>\n",
       "      <td>0.000000</td>\n",
       "      <td>1.007862e-04</td>\n",
       "      <td>-0.000032</td>\n",
       "    </tr>\n",
       "    <tr>\n",
       "      <th>3</th>\n",
       "      <td>x0_3.0_dependents</td>\n",
       "      <td>0.000086</td>\n",
       "      <td>2.768817e-05</td>\n",
       "      <td>0.000065</td>\n",
       "      <td>5.124974e-06</td>\n",
       "      <td>0.000000</td>\n",
       "      <td>0.000000</td>\n",
       "      <td>8.495842e-05</td>\n",
       "      <td>0.000041</td>\n",
       "    </tr>\n",
       "    <tr>\n",
       "      <th>4</th>\n",
       "      <td>x0_4.0_dependents</td>\n",
       "      <td>0.000023</td>\n",
       "      <td>-6.536006e-05</td>\n",
       "      <td>0.000003</td>\n",
       "      <td>-1.131488e-05</td>\n",
       "      <td>0.000000</td>\n",
       "      <td>0.000000</td>\n",
       "      <td>1.262509e-05</td>\n",
       "      <td>0.000025</td>\n",
       "    </tr>\n",
       "    <tr>\n",
       "      <th>6</th>\n",
       "      <td>x0_6.0_dependents</td>\n",
       "      <td>0.000013</td>\n",
       "      <td>-3.327906e-07</td>\n",
       "      <td>0.000003</td>\n",
       "      <td>-3.594138e-06</td>\n",
       "      <td>0.000000</td>\n",
       "      <td>0.000000</td>\n",
       "      <td>1.065197e-05</td>\n",
       "      <td>-0.000053</td>\n",
       "    </tr>\n",
       "    <tr>\n",
       "      <th>5</th>\n",
       "      <td>x0_5.0_dependents</td>\n",
       "      <td>0.000033</td>\n",
       "      <td>-1.723855e-05</td>\n",
       "      <td>0.000011</td>\n",
       "      <td>-5.790556e-06</td>\n",
       "      <td>0.000000</td>\n",
       "      <td>0.000000</td>\n",
       "      <td>-2.788100e-07</td>\n",
       "      <td>-0.000007</td>\n",
       "    </tr>\n",
       "    <tr>\n",
       "      <th>8</th>\n",
       "      <td>x0_Male</td>\n",
       "      <td>0.001034</td>\n",
       "      <td>1.100139e-03</td>\n",
       "      <td>0.000330</td>\n",
       "      <td>6.434173e-04</td>\n",
       "      <td>0.000000</td>\n",
       "      <td>0.000000</td>\n",
       "      <td>5.146690e-04</td>\n",
       "      <td>0.000045</td>\n",
       "    </tr>\n",
       "    <tr>\n",
       "      <th>10</th>\n",
       "      <td>x1_Chef</td>\n",
       "      <td>0.000021</td>\n",
       "      <td>6.589253e-06</td>\n",
       "      <td>0.000004</td>\n",
       "      <td>-5.990230e-07</td>\n",
       "      <td>0.000000</td>\n",
       "      <td>0.000000</td>\n",
       "      <td>0.000000e+00</td>\n",
       "      <td>0.000000</td>\n",
       "    </tr>\n",
       "    <tr>\n",
       "      <th>11</th>\n",
       "      <td>x1_Doctor</td>\n",
       "      <td>0.000063</td>\n",
       "      <td>8.492815e-05</td>\n",
       "      <td>0.000039</td>\n",
       "      <td>3.008427e-05</td>\n",
       "      <td>0.000000</td>\n",
       "      <td>0.000000</td>\n",
       "      <td>1.964753e-04</td>\n",
       "      <td>0.000533</td>\n",
       "    </tr>\n",
       "    <tr>\n",
       "      <th>13</th>\n",
       "      <td>x1_Lawyer</td>\n",
       "      <td>0.000225</td>\n",
       "      <td>4.066701e-05</td>\n",
       "      <td>0.000328</td>\n",
       "      <td>2.631042e-04</td>\n",
       "      <td>0.000000</td>\n",
       "      <td>0.000000</td>\n",
       "      <td>3.025732e-04</td>\n",
       "      <td>-0.000067</td>\n",
       "    </tr>\n",
       "    <tr>\n",
       "      <th>14</th>\n",
       "      <td>x1_other</td>\n",
       "      <td>0.000087</td>\n",
       "      <td>-4.392835e-06</td>\n",
       "      <td>0.000019</td>\n",
       "      <td>-3.041706e-05</td>\n",
       "      <td>0.000000</td>\n",
       "      <td>0.000000</td>\n",
       "      <td>5.677716e-05</td>\n",
       "      <td>0.000104</td>\n",
       "    </tr>\n",
       "    <tr>\n",
       "      <th>0</th>\n",
       "      <td>x0_0.0_dependents</td>\n",
       "      <td>0.001244</td>\n",
       "      <td>7.435872e-04</td>\n",
       "      <td>0.000025</td>\n",
       "      <td>3.982837e-04</td>\n",
       "      <td>0.000000</td>\n",
       "      <td>0.000000</td>\n",
       "      <td>1.122082e-03</td>\n",
       "      <td>0.000384</td>\n",
       "    </tr>\n",
       "    <tr>\n",
       "      <th>42</th>\n",
       "      <td>current_month_credit_creditpers</td>\n",
       "      <td>0.001928</td>\n",
       "      <td>7.103747e-04</td>\n",
       "      <td>0.000992</td>\n",
       "      <td>1.169559e-03</td>\n",
       "      <td>0.001145</td>\n",
       "      <td>-0.000033</td>\n",
       "      <td>7.042355e-03</td>\n",
       "      <td>0.001242</td>\n",
       "    </tr>\n",
       "    <tr>\n",
       "      <th>18</th>\n",
       "      <td>days_since_last_transaction</td>\n",
       "      <td>0.002807</td>\n",
       "      <td>8.722440e-04</td>\n",
       "      <td>0.000577</td>\n",
       "      <td>9.917158e-05</td>\n",
       "      <td>0.001421</td>\n",
       "      <td>-0.000067</td>\n",
       "      <td>5.714476e-03</td>\n",
       "      <td>0.001156</td>\n",
       "    </tr>\n",
       "    <tr>\n",
       "      <th>44</th>\n",
       "      <td>current_month_debit_debitpers</td>\n",
       "      <td>0.003003</td>\n",
       "      <td>5.330639e-04</td>\n",
       "      <td>0.001094</td>\n",
       "      <td>2.555831e-04</td>\n",
       "      <td>0.001646</td>\n",
       "      <td>-0.000070</td>\n",
       "      <td>9.616894e-03</td>\n",
       "      <td>0.004300</td>\n",
       "    </tr>\n",
       "    <tr>\n",
       "      <th>38</th>\n",
       "      <td>previous_month_end_balance_balpers</td>\n",
       "      <td>0.001646</td>\n",
       "      <td>1.709878e-04</td>\n",
       "      <td>0.000752</td>\n",
       "      <td>3.983503e-04</td>\n",
       "      <td>0.000967</td>\n",
       "      <td>-0.000086</td>\n",
       "      <td>7.743655e-03</td>\n",
       "      <td>0.002522</td>\n",
       "    </tr>\n",
       "    <tr>\n",
       "      <th>19</th>\n",
       "      <td>branch_code</td>\n",
       "      <td>0.002151</td>\n",
       "      <td>5.362587e-04</td>\n",
       "      <td>0.000573</td>\n",
       "      <td>1.054280e-04</td>\n",
       "      <td>0.001794</td>\n",
       "      <td>-0.000113</td>\n",
       "      <td>3.774237e-03</td>\n",
       "      <td>-0.000607</td>\n",
       "    </tr>\n",
       "    <tr>\n",
       "      <th>37</th>\n",
       "      <td>current_month_balance_balpers</td>\n",
       "      <td>0.003881</td>\n",
       "      <td>2.057577e-03</td>\n",
       "      <td>0.008052</td>\n",
       "      <td>5.661433e-03</td>\n",
       "      <td>0.001153</td>\n",
       "      <td>-0.000254</td>\n",
       "      <td>1.016772e-02</td>\n",
       "      <td>0.005176</td>\n",
       "    </tr>\n",
       "    <tr>\n",
       "      <th>45</th>\n",
       "      <td>previous_month_debit_debitpers</td>\n",
       "      <td>0.002282</td>\n",
       "      <td>-2.744191e-04</td>\n",
       "      <td>0.000817</td>\n",
       "      <td>2.143171e-05</td>\n",
       "      <td>0.002276</td>\n",
       "      <td>-0.000514</td>\n",
       "      <td>1.079221e-02</td>\n",
       "      <td>0.004759</td>\n",
       "    </tr>\n",
       "  </tbody>\n",
       "</table>\n",
       "</div>"
      ],
      "text/plain": [
       "                              features  MLP_train_v1  MLP_valid_v1  \\\n",
       "1                    x0_1.0_dependents      0.000177 -8.612619e-05   \n",
       "2                    x0_2.0_dependents      0.000185 -1.550804e-05   \n",
       "3                    x0_3.0_dependents      0.000086  2.768817e-05   \n",
       "4                    x0_4.0_dependents      0.000023 -6.536006e-05   \n",
       "6                    x0_6.0_dependents      0.000013 -3.327906e-07   \n",
       "5                    x0_5.0_dependents      0.000033 -1.723855e-05   \n",
       "8                              x0_Male      0.001034  1.100139e-03   \n",
       "10                             x1_Chef      0.000021  6.589253e-06   \n",
       "11                           x1_Doctor      0.000063  8.492815e-05   \n",
       "13                           x1_Lawyer      0.000225  4.066701e-05   \n",
       "14                            x1_other      0.000087 -4.392835e-06   \n",
       "0                    x0_0.0_dependents      0.001244  7.435872e-04   \n",
       "42     current_month_credit_creditpers      0.001928  7.103747e-04   \n",
       "18         days_since_last_transaction      0.002807  8.722440e-04   \n",
       "44       current_month_debit_debitpers      0.003003  5.330639e-04   \n",
       "38  previous_month_end_balance_balpers      0.001646  1.709878e-04   \n",
       "19                         branch_code      0.002151  5.362587e-04   \n",
       "37       current_month_balance_balpers      0.003881  2.057577e-03   \n",
       "45      previous_month_debit_debitpers      0.002282 -2.744191e-04   \n",
       "\n",
       "    MLP_train_v2  MLP_valid_v2  xgbc_train  xgbc_valid     gbc_train  \\\n",
       "1       0.000038 -7.348015e-05    0.000000    0.000000  1.189160e-04   \n",
       "2       0.000151  6.482760e-05    0.000000    0.000000  1.007862e-04   \n",
       "3       0.000065  5.124974e-06    0.000000    0.000000  8.495842e-05   \n",
       "4       0.000003 -1.131488e-05    0.000000    0.000000  1.262509e-05   \n",
       "6       0.000003 -3.594138e-06    0.000000    0.000000  1.065197e-05   \n",
       "5       0.000011 -5.790556e-06    0.000000    0.000000 -2.788100e-07   \n",
       "8       0.000330  6.434173e-04    0.000000    0.000000  5.146690e-04   \n",
       "10      0.000004 -5.990230e-07    0.000000    0.000000  0.000000e+00   \n",
       "11      0.000039  3.008427e-05    0.000000    0.000000  1.964753e-04   \n",
       "13      0.000328  2.631042e-04    0.000000    0.000000  3.025732e-04   \n",
       "14      0.000019 -3.041706e-05    0.000000    0.000000  5.677716e-05   \n",
       "0       0.000025  3.982837e-04    0.000000    0.000000  1.122082e-03   \n",
       "42      0.000992  1.169559e-03    0.001145   -0.000033  7.042355e-03   \n",
       "18      0.000577  9.917158e-05    0.001421   -0.000067  5.714476e-03   \n",
       "44      0.001094  2.555831e-04    0.001646   -0.000070  9.616894e-03   \n",
       "38      0.000752  3.983503e-04    0.000967   -0.000086  7.743655e-03   \n",
       "19      0.000573  1.054280e-04    0.001794   -0.000113  3.774237e-03   \n",
       "37      0.008052  5.661433e-03    0.001153   -0.000254  1.016772e-02   \n",
       "45      0.000817  2.143171e-05    0.002276   -0.000514  1.079221e-02   \n",
       "\n",
       "    gbc_valid  \n",
       "1    0.000101  \n",
       "2   -0.000032  \n",
       "3    0.000041  \n",
       "4    0.000025  \n",
       "6   -0.000053  \n",
       "5   -0.000007  \n",
       "8    0.000045  \n",
       "10   0.000000  \n",
       "11   0.000533  \n",
       "13  -0.000067  \n",
       "14   0.000104  \n",
       "0    0.000384  \n",
       "42   0.001242  \n",
       "18   0.001156  \n",
       "44   0.004300  \n",
       "38   0.002522  \n",
       "19  -0.000607  \n",
       "37   0.005176  \n",
       "45   0.004759  "
      ]
     },
     "execution_count": 195,
     "metadata": {},
     "output_type": "execute_result"
    }
   ],
   "source": [
    "print(feat_importances[feat_importances['xgbc_valid']<=0.00001].shape)\n",
    "feat_importances[feat_importances['xgbc_valid']<=0.00001]"
   ]
  },
  {
   "cell_type": "markdown",
   "metadata": {},
   "source": [
    "The above features have zero or negative importance to the model for th XGBoosting model. This means that these features do not contribute to the prediction of the churn and can be removed from the model. These features are mainly from one-hot-encoded columns of \"dependents\" and \"occupation\". The following numerical features Previous month debit, current month debit per household person, branch code, and days since last transaction also do not contribute to the model prediction and can be removed."
   ]
  },
  {
   "cell_type": "code",
   "execution_count": 196,
   "metadata": {},
   "outputs": [
    {
     "data": {
      "image/png": "[encoded data removed]",
      "text/plain": [
       "<Figure size 1440x288 with 4 Axes>"
      ]
     },
     "metadata": {
      "needs_background": "light"
     },
     "output_type": "display_data"
    },
    {
     "data": {
      "image/png": "[encoded data removed]",
      "text/plain": [
       "<Figure size 1440x288 with 4 Axes>"
      ]
     },
     "metadata": {
      "needs_background": "light"
     },
     "output_type": "display_data"
    }
   ],
   "source": [
    "idx = feat_importances[feat_importances['MLP_valid_v1']>=0.001].index\n",
    "plot_feature_importance([fpi_train_v1['importances_mean'][idx], fpi_train_v2['importances_mean'][idx],\n",
    "                         fpi_train_xgbc['importances_mean'][idx],fpi_train_gbc['importances_mean'][idx]], \n",
    "                        dataset=['train']*4, model=['MLP_v1','MLP_v2','XGBC','GBC'])\n",
    "plot_feature_importance([fpi_valid_v1['importances_mean'][idx], fpi_valid_v2['importances_mean'][idx],\n",
    "                         fpi_valid_xgbc['importances_mean'][idx],fpi_valid_gbc['importances_mean'][idx]], \n",
    "                        dataset=['validation']*4, model=['MLP_v1','MLP_v2','XGBC','GBC'])"
   ]
  },
  {
   "cell_type": "markdown",
   "metadata": {},
   "source": [
    "The above dataframe and bar plot shows the 17 most important features in predicting the churn. We could use these features to further train the model and evaluate the effects of feature selection on performace of the candidate models. <br>\n",
    "\n",
    "They also showes that the most importance feature are about the same for the 2 MLP models, however, they are very different for the ensemble models. The main reason might come from the fact that MLP models cannot deal with colinearity existing in the data and XGBC model can. <br>"
   ]
  },
  {
   "cell_type": "markdown",
   "metadata": {},
   "source": [
    "## Comparison between the baseline models and models with engineered features"
   ]
  },
  {
   "cell_type": "code",
   "execution_count": 119,
   "metadata": {},
   "outputs": [],
   "source": [
    "# Model without feature engineering - Load saved results from baseline models\n",
    "screen_res0 = joblib.load('screening 0 - results all models.joblib')\n",
    "hyper_res0 = joblib.load('Best base models.joblib')"
   ]
  },
  {
   "cell_type": "code",
   "execution_count": 116,
   "metadata": {},
   "outputs": [],
   "source": [
    "### Models with feature engineering\n",
    "## cauculate prediction score\n",
    "# Non-ensemble model\n",
    "non_roc_auc = calculate_roc_auc_score(clf_randsearchcv_v1.best_estimator_, X_valid_transformed, y_valid_transformed)\n",
    "logit_roc_auc = calculate_roc_auc_score(logit, X_valid_transformed,y_valid_transformed) \n",
    "# Gaussian process  \n",
    "clf_gp_train_roc_auc = calculate_roc_auc_score(screening_results['model']['Gaussian Process'], X_valid_transformed, y_valid)\n",
    "clf_gp_roc_auc = screening_results['score']['Gaussian Process'] \n",
    "# Ensemble\n",
    "ens_roc_auc = calculate_roc_auc_score(clf_ensemble.best_estimator_, X_valid_transformed, y_valid_transformed)\n",
    "gbc_roc_auc = calculate_roc_auc_score(gbc, X_valid_transformed,y_valid_transformed) \n",
    "\n",
    "# Put them together\n",
    "score_best = {'Neural Net':non_roc_auc, 'Logistic Regression':logit_roc_auc,'Guassian Process':clf_gp_roc_auc,\n",
    "              'XGBoost':ens_roc_auc,'Gradient Boosting':gbc_roc_auc}\n",
    "model_best = {'Neural Net':clf_randsearchcv_v1.best_estimator_, \n",
    "              'Logistic Regression':logit,\n",
    "              'Guassian Process':screening_results['model']['Gaussian Process'],\n",
    "              'XGBoost':clf_ensemble.best_estimator_,\n",
    "              'Gradient Boosting':gbc}\n",
    "# For dumping\n",
    "best_models = {'score':score_best, 'model':model_best}"
   ]
  },
  {
   "cell_type": "code",
   "execution_count": 117,
   "metadata": {},
   "outputs": [
    {
     "data": {
      "text/plain": [
       "['Best hyper models.joblib']"
      ]
     },
     "execution_count": 117,
     "metadata": {},
     "output_type": "execute_result"
    }
   ],
   "source": [
    "joblib.dump(best_models, 'Best hyper models.joblib')"
   ]
  },
  {
   "cell_type": "code",
   "execution_count": 118,
   "metadata": {},
   "outputs": [],
   "source": [
    "screen_res = joblib.load('screening - results all models.joblib')\n",
    "hyper_res = best_models #joblib.load('Best hyper models.joblib')"
   ]
  },
  {
   "cell_type": "code",
   "execution_count": 146,
   "metadata": {},
   "outputs": [
    {
     "data": {
      "text/plain": [
       "0.8358696965249677"
      ]
     },
     "execution_count": 146,
     "metadata": {},
     "output_type": "execute_result"
    }
   ],
   "source": [
    "hyper_res0['score']['Neural Net']"
   ]
  },
  {
   "cell_type": "code",
   "execution_count": 149,
   "metadata": {},
   "outputs": [
    {
     "data": {
      "text/html": [
       "<div>\n",
       "<style scoped>\n",
       "    .dataframe tbody tr th:only-of-type {\n",
       "        vertical-align: middle;\n",
       "    }\n",
       "\n",
       "    .dataframe tbody tr th {\n",
       "        vertical-align: top;\n",
       "    }\n",
       "\n",
       "    .dataframe thead th {\n",
       "        text-align: right;\n",
       "    }\n",
       "</style>\n",
       "<table border=\"1\" class=\"dataframe\">\n",
       "  <thead>\n",
       "    <tr style=\"text-align: right;\">\n",
       "      <th></th>\n",
       "      <th>model</th>\n",
       "      <th>roc_auc base</th>\n",
       "      <th>roc_auc base hyper</th>\n",
       "      <th>roc_auc eng</th>\n",
       "      <th>roc_auc eng hyper</th>\n",
       "      <th>diff no hyper</th>\n",
       "      <th>diff hyper</th>\n",
       "    </tr>\n",
       "  </thead>\n",
       "  <tbody>\n",
       "    <tr>\n",
       "      <th>0</th>\n",
       "      <td>K Nearest Neighbors</td>\n",
       "      <td>0.6846</td>\n",
       "      <td></td>\n",
       "      <td>0.6954</td>\n",
       "      <td></td>\n",
       "      <td>0.0108</td>\n",
       "      <td></td>\n",
       "    </tr>\n",
       "    <tr>\n",
       "      <th>1</th>\n",
       "      <td>Logistic Regression</td>\n",
       "      <td>0.8187</td>\n",
       "      <td>0.82</td>\n",
       "      <td>0.8214</td>\n",
       "      <td>0.8196</td>\n",
       "      <td>0.0027</td>\n",
       "      <td>-0.0004</td>\n",
       "    </tr>\n",
       "    <tr>\n",
       "      <th>2</th>\n",
       "      <td>Linear SVM</td>\n",
       "      <td>0.8128</td>\n",
       "      <td></td>\n",
       "      <td>0.8108</td>\n",
       "      <td></td>\n",
       "      <td>-0.0020</td>\n",
       "      <td></td>\n",
       "    </tr>\n",
       "    <tr>\n",
       "      <th>3</th>\n",
       "      <td>RBF SVM</td>\n",
       "      <td>0.7061</td>\n",
       "      <td></td>\n",
       "      <td>0.6933</td>\n",
       "      <td></td>\n",
       "      <td>-0.0128</td>\n",
       "      <td></td>\n",
       "    </tr>\n",
       "    <tr>\n",
       "      <th>4</th>\n",
       "      <td>Decision Tree</td>\n",
       "      <td>0.7709</td>\n",
       "      <td></td>\n",
       "      <td>0.7885</td>\n",
       "      <td></td>\n",
       "      <td>0.0176</td>\n",
       "      <td></td>\n",
       "    </tr>\n",
       "    <tr>\n",
       "      <th>5</th>\n",
       "      <td>Neural Net</td>\n",
       "      <td>0.8282</td>\n",
       "      <td>0.8359</td>\n",
       "      <td>0.8317</td>\n",
       "      <td>0.8371</td>\n",
       "      <td>0.0035</td>\n",
       "      <td>0.0012</td>\n",
       "    </tr>\n",
       "    <tr>\n",
       "      <th>6</th>\n",
       "      <td>Naive Bayes</td>\n",
       "      <td>0.7314</td>\n",
       "      <td></td>\n",
       "      <td>0.7626</td>\n",
       "      <td></td>\n",
       "      <td>0.0312</td>\n",
       "      <td></td>\n",
       "    </tr>\n",
       "    <tr>\n",
       "      <th>7</th>\n",
       "      <td>Quadratic Discriminant Analysis</td>\n",
       "      <td>0.6895</td>\n",
       "      <td></td>\n",
       "      <td>0.7045</td>\n",
       "      <td></td>\n",
       "      <td>0.0150</td>\n",
       "      <td></td>\n",
       "    </tr>\n",
       "    <tr>\n",
       "      <th>8</th>\n",
       "      <td>Gaussian Process</td>\n",
       "      <td>0.8322</td>\n",
       "      <td></td>\n",
       "      <td>0.8367</td>\n",
       "      <td></td>\n",
       "      <td>0.0045</td>\n",
       "      <td></td>\n",
       "    </tr>\n",
       "    <tr>\n",
       "      <th>9</th>\n",
       "      <td>Random Forest</td>\n",
       "      <td>0.7796</td>\n",
       "      <td></td>\n",
       "      <td>0.8005</td>\n",
       "      <td></td>\n",
       "      <td>0.0209</td>\n",
       "      <td></td>\n",
       "    </tr>\n",
       "    <tr>\n",
       "      <th>10</th>\n",
       "      <td>Extra Trees</td>\n",
       "      <td>0.7986</td>\n",
       "      <td></td>\n",
       "      <td>0.8201</td>\n",
       "      <td></td>\n",
       "      <td>0.0215</td>\n",
       "      <td></td>\n",
       "    </tr>\n",
       "    <tr>\n",
       "      <th>11</th>\n",
       "      <td>ADAboosting</td>\n",
       "      <td>0.8066</td>\n",
       "      <td></td>\n",
       "      <td>0.8189</td>\n",
       "      <td></td>\n",
       "      <td>0.0123</td>\n",
       "      <td></td>\n",
       "    </tr>\n",
       "    <tr>\n",
       "      <th>12</th>\n",
       "      <td>Gradient Boosting</td>\n",
       "      <td>0.8194</td>\n",
       "      <td>0.824</td>\n",
       "      <td>0.8320</td>\n",
       "      <td>0.8284</td>\n",
       "      <td>0.0126</td>\n",
       "      <td>0.0044</td>\n",
       "    </tr>\n",
       "    <tr>\n",
       "      <th>13</th>\n",
       "      <td>XGBoost</td>\n",
       "      <td>0.8032</td>\n",
       "      <td>0.8239</td>\n",
       "      <td>0.8152</td>\n",
       "      <td>0.8369</td>\n",
       "      <td>0.0120</td>\n",
       "      <td>0.013</td>\n",
       "    </tr>\n",
       "  </tbody>\n",
       "</table>\n",
       "</div>"
      ],
      "text/plain": [
       "                              model  roc_auc base roc_auc base hyper  \\\n",
       "0               K Nearest Neighbors        0.6846                      \n",
       "1               Logistic Regression        0.8187               0.82   \n",
       "2                        Linear SVM        0.8128                      \n",
       "3                           RBF SVM        0.7061                      \n",
       "4                     Decision Tree        0.7709                      \n",
       "5                        Neural Net        0.8282             0.8359   \n",
       "6                       Naive Bayes        0.7314                      \n",
       "7   Quadratic Discriminant Analysis        0.6895                      \n",
       "8                  Gaussian Process        0.8322                      \n",
       "9                     Random Forest        0.7796                      \n",
       "10                      Extra Trees        0.7986                      \n",
       "11                      ADAboosting        0.8066                      \n",
       "12                Gradient Boosting        0.8194              0.824   \n",
       "13                          XGBoost        0.8032             0.8239   \n",
       "\n",
       "    roc_auc eng roc_auc eng hyper  diff no hyper diff hyper  \n",
       "0        0.6954                           0.0108             \n",
       "1        0.8214            0.8196         0.0027    -0.0004  \n",
       "2        0.8108                          -0.0020             \n",
       "3        0.6933                          -0.0128             \n",
       "4        0.7885                           0.0176             \n",
       "5        0.8317            0.8371         0.0035     0.0012  \n",
       "6        0.7626                           0.0312             \n",
       "7        0.7045                           0.0150             \n",
       "8        0.8367                           0.0045             \n",
       "9        0.8005                           0.0209             \n",
       "10       0.8201                           0.0215             \n",
       "11       0.8189                           0.0123             \n",
       "12       0.8320            0.8284         0.0126     0.0044  \n",
       "13       0.8152            0.8369         0.0120      0.013  "
      ]
     },
     "execution_count": 149,
     "metadata": {},
     "output_type": "execute_result"
    }
   ],
   "source": [
    "## Combine into a data frame\n",
    "# base score\n",
    "rocauc_compare = pd.DataFrame({'model':list(screen_res0['score'].keys()),'roc_auc base':np.around(np.array(list(screen_res0['score'].values())),4)})\n",
    "rocauc_compare['roc_auc base hyper'] = [round(hyper_res0['score'][name],4) if name in hyper_res0['score'].keys() else np.nan \n",
    "                                        for name in rocauc_compare['model']]\n",
    "# eng score\n",
    "rocauc_compare['roc_auc eng'] = np.around(np.array(list(screen_res['score'].values())),4)\n",
    "rocauc_compare['roc_auc eng hyper'] = [round(hyper_res['score'][name],4) if name in hyper_res['score'].keys() else np.nan \n",
    "                                        for name in rocauc_compare['model']]\n",
    "\n",
    "# difference\n",
    "rocauc_compare['diff no hyper'] = rocauc_compare['roc_auc eng'] - rocauc_compare['roc_auc base']\n",
    "rocauc_compare['diff hyper'] = rocauc_compare['roc_auc eng hyper'] - rocauc_compare['roc_auc base hyper'] \n",
    "rocauc_compare.fillna('')"
   ]
  },
  {
   "cell_type": "markdown",
   "metadata": {},
   "source": [
    "For models without hyperparameter tuning, feature engineering was able to improve model performance by 0.0027 - 0.031, except for the SVN models which the performance descreased. The ***most benefited models from feature engineering are Naive Bayes, Extra Trees, Random Forest, Decision trees, and Boosting algorithms***. For this dataset, feature engineering did not appear to have much effects on the performance of logistic Regression, Neural Network models, Gaussian Process. <br>\n",
    "\n",
    "For hyperparameter tuned models, ***XGBoost is most benefited from hyperparameter tuning***. Although feature engineering did not benefit as much as the Naives Bayes or Random Forest, together with hyperparameter tuning, XGBoost became the best performing model for this dataset."
   ]
  },
  {
   "cell_type": "markdown",
   "metadata": {},
   "source": [
    "## Persist the best model"
   ]
  },
  {
   "cell_type": "code",
   "execution_count": 150,
   "metadata": {},
   "outputs": [
    {
     "name": "stdout",
     "output_type": "stream",
     "text": [
      "XGBoost - Best prediction score v1: 0.8369\n"
     ]
    },
    {
     "data": {
      "text/plain": [
       "{'classifier': XGBClassifier(base_score=None, booster=None, callbacks=None,\n",
       "               colsample_bylevel=None, colsample_bynode=None,\n",
       "               colsample_bytree=None, early_stopping_rounds=None,\n",
       "               enable_categorical=False, eta=0.11473698305487026,\n",
       "               eval_metric=None, gamma=0.0033678015840455837, gpu_id=None,\n",
       "               grow_policy=None, importance_type=None,\n",
       "               interaction_constraints=None, learning_rate=None, max_bin=None,\n",
       "               max_cat_to_onehot=None, max_delta_step=2, max_depth=9,\n",
       "               max_leaves=None, min_child_weight=76.22036610408519, missing=nan,\n",
       "               monotone_constraints=None, n_estimators=100, n_jobs=None,\n",
       "               num_parallel_tree=None, predictor=None, random_state=15611,\n",
       "               reg_alpha=None, ...),\n",
       " 'classifier__eta': 0.11473698305487026,\n",
       " 'classifier__gamma': 0.0033678015840455837,\n",
       " 'classifier__max_delta_step': 2,\n",
       " 'classifier__max_depth': 9,\n",
       " 'classifier__min_child_weight': 76.22036610408519,\n",
       " 'classifier__subsample': 0.82290056678752}"
      ]
     },
     "execution_count": 150,
     "metadata": {},
     "output_type": "execute_result"
    }
   ],
   "source": [
    "# Best model:\n",
    "print(f'XGBoost - Best prediction score v1: {round(ens_roc_auc,4)}')\n",
    "clf_ensemble.best_params_"
   ]
  },
  {
   "cell_type": "code",
   "execution_count": 151,
   "metadata": {},
   "outputs": [
    {
     "data": {
      "text/plain": [
       "['Best churn classifier.joblib']"
      ]
     },
     "execution_count": 151,
     "metadata": {},
     "output_type": "execute_result"
    }
   ],
   "source": [
    "joblib.dump(clf_ensemble.best_estimator_, 'Best churn classifier.joblib')"
   ]
  },
  {
   "cell_type": "markdown",
   "metadata": {},
   "source": [
    "## Predict on new dataset"
   ]
  },
  {
   "cell_type": "code",
   "execution_count": 154,
   "metadata": {},
   "outputs": [],
   "source": [
    "submit = pd.read_csv('./data/visathon_test_data.csv')\n",
    "X_submit = submit.drop(target,axis=1).copy()"
   ]
  },
  {
   "cell_type": "code",
   "execution_count": 155,
   "metadata": {},
   "outputs": [
    {
     "data": {
      "text/plain": [
       "(4413, 47)"
      ]
     },
     "execution_count": 155,
     "metadata": {},
     "output_type": "execute_result"
    }
   ],
   "source": [
    "X_submit_transformed = pipeline_data.transform(X_submit)\n",
    "X_submit_transformed.shape"
   ]
  },
  {
   "cell_type": "code",
   "execution_count": 166,
   "metadata": {},
   "outputs": [],
   "source": [
    "def predict_and_submit(model,X,filename='submission'):\n",
    "    pred_submit = model.predict(X)\n",
    "    submission = submit[['customer_id','churn']].copy()\n",
    "    submission['churn'] = pred_submit\n",
    "    if isinstance(pred_submit,str) :\n",
    "        submission['churn'] = submission['churn'].map({'Yes':1,'No':0})\n",
    "    submission.to_csv(filename+'.csv',index=False)\n",
    "    \n",
    "predict_and_submit(clf_ensemble.best_estimator_,X_submit_transformed,filename='kaggle xgbc_submission')"
   ]
  },
  {
   "cell_type": "markdown",
   "metadata": {},
   "source": [
    "The Kaggle competition leaderboard showed that the prediction score was 0.6986, which is much lower than the score on the validation set and was unexpected. "
   ]
  },
  {
   "attachments": {
    "c47a4cee-a7f4-4608-821b-7956ede50c1f.png": {
     "image/png": "[encoded data removed]"
    }
   },
   "cell_type": "markdown",
   "metadata": {},
   "source": [
    "![image.png](attachment:c47a4cee-a7f4-4608-821b-7956ede50c1f.png)"
   ]
  },
  {
   "cell_type": "markdown",
   "metadata": {},
   "source": [
    "The reasons might lie on several aspects:<br>\n",
    "\n",
    "    1) The test data set is very different from the train and validation sets. For example, the test set was not from the same period of time and churn pattern has evolved since. <br>\n",
    "    2) our best model is overfitting. But this is not what was revealed in the learning curve.<br>\n",
    "    3) model is underfitting. This is in agreement with the learning curve. We need to further tune our model, or engineer more features.<br>\n",
    "    4) In this exercise, we did not remove the features that are correlated. Further tests are need to experiement feature selection.<br>\n",
    "    \n",
    "Due to time and resource constraints, we will leave this as one of our future objectives."
   ]
  },
  {
   "cell_type": "markdown",
   "metadata": {},
   "source": [
    "## Summary\n",
    "The work on this project is divided into several parts, each presented in a separate notebook. We started by <br>\n",
    "**Part 1)** loading the data and performing exporatory data analysis, <br>\n",
    "**Part 2)** moved into building baseline models of dozens of classfication models and selecting best candidate models for hyperparameter tuning. In the second part of the work, we engineered features based one our understanding of the dataset and domain knowledge and built data pipelines to streamline data preprocessing and ensure the same process for train and validation data sets. <br>\n",
    "**Part 3)** We then trained over a dozen of classification models and tuned several promising ones. We then looked at another aspect of model performance, i.e., weather the model is underfitting, overfitting or just perfect. Finally we looked at the importance of each features by computing the permutation importance of each feature. \n",
    "\n",
    "Below list captures the main steps of this work:\n",
    "\n",
    "1) Perform Exploratory data analysis\n",
    "2) Build and evaluate baseline models without feature engineering\n",
    "3) Perform Feature engineering and create data pipelines\n",
    "4) Compare more than dozens of classifiers on a performance metric\n",
    "5) Perform hyperparameter tuning on a few best canadidate models\n",
    "6) Evaluate the best candidate models on the validation set\n",
    "7) Analyze feature importance\n",
    "8) Persist the best models for deployment or further tuning\n",
    "\n",
    "## **Conclusions**\n",
    "1) **The best model is XGBoost**, an optimized distributed gradient boosting library with the **prediction accurace of 0.8369**. \n",
    "2) The **most influencial features** are: <br>\n",
    "    -- current_balance <br>\n",
    "    -- percentage change between current_month_balance and previous_month_end_balance <br>\n",
    "    -- percentage change between current_balance and current_month_balance <br>\n",
    "    -- percentage change between average_monthly_balance_prevQ and average_monthly_balance_prevQ2 <br>\n",
    "3) 8 out of the top 10 most influencial features are engineered.\n",
    "4) The best model is able to predict customer churn with 83.7% accuracy.\n",
    "5) The best model is somewhat ***underfitting***.\n",
    "6) The **feature engineering improved the prediction accuracy from 72% to 83%**.\n",
    "7) Although our prediction score is lower than what we have expected, we are placed in the ***6th place on the final learderboard***. "
   ]
  },
  {
   "cell_type": "markdown",
   "metadata": {},
   "source": [
    "## **What we learned**\n",
    "We have learned a lot from this exercise of machine learning project: <br>\n",
    "\n",
    "1) Importance of planning a machine learning project by outlining the objectives and steps to accomplish them.\n",
    "2) The Best approach to building ML model - an iterative approach. It is better to take a small step and varify the results than spending long time to get a complex model then later finding the solution not working.\n",
    "3) The art of trade-off between the best and better vs expensive and affordable.\n",
    "4) Additional knowledge and experience from this end-to-end ML project.\n",
    "5) The importance of collaboratiob and as a team player.\n",
    "6) Importance of persisting intermediate results. "
   ]
  },
  {
   "cell_type": "markdown",
   "metadata": {},
   "source": [
    "## **Future work**\n",
    "We performed the feature importance analysis on the best model, and found out the most influencial features. To futher improve model prediction accuracy, our future work is therefore including, but not limiting to: <br>\n",
    "\n",
    "1) Select the top n features to train and tune the model.\n",
    "2) Interpret the model results to the extent possible.\n",
    "3) Further improve predictive power by using more complex algorithms, such as deep learning with TensorFlow's advanced neural networks, since the best MLPclassifier has only 83.7% accuracy, and is underfitting. \n",
    "4) Improve competition score by frequently submitting prediction result so that we are going in the right direction. In the real world, we can also test our model using unseen new data.\n",
    "\n",
    "This concludes our work."
   ]
  }
 ],
 "metadata": {
  "kernelspec": {
   "display_name": "Python 3",
   "language": "python",
   "name": "python3"
  },
  "language_info": {
   "codemirror_mode": {
    "name": "ipython",
    "version": 3
   },
   "file_extension": ".py",
   "mimetype": "text/x-python",
   "name": "python",
   "nbconvert_exporter": "python",
   "pygments_lexer": "ipython3",
   "version": "3.8.5"
  }
 },
 "nbformat": 4,
 "nbformat_minor": 4
}
