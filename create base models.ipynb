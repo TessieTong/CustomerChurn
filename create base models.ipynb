{
 "cells": [
  {
   "cell_type": "markdown",
   "metadata": {},
   "source": [
    "# # Predict Customer Churn - Train Baseline Models \n",
    "\n",
    "This project is to build a predictive machine learning model using the customer churn data available at Kaggle website. <br>\n",
    "Part 3 will look at training various classification models and hyperparameter tuning selected candidate models.<br>\n",
    "\n",
    "The classification algorithms to be considered:\n",
    "1. KNN\n",
    "2. logistic regression\n",
    "3. Decision Trees \n",
    "4. SVM linear\n",
    "5. SVM RBF\n",
    "6. neural network (multi-layer perceptron)\n",
    "7. Guassian process\n",
    "8. Naive-Bayes (GaussianNB)\n",
    "9. Quadratic Discriminant Analysis\n",
    "10. Ensemble model \n",
    "    - Random Forest\n",
    "    - Extra Trees\n",
    "    - ADAboosting\n",
    "    - Gradient Boosting\n",
    "    - XGBoost"
   ]
  },
  {
   "cell_type": "markdown",
   "metadata": {},
   "source": [
    "## Prepare data\n",
    "### Global functions"
   ]
  },
  {
   "cell_type": "code",
   "execution_count": 1,
   "metadata": {},
   "outputs": [],
   "source": [
    "import pandas as pd\n",
    "import numpy as np\n",
    "import matplotlib.pyplot as plt\n",
    "import seaborn as sns\n",
    "\n",
    "import joblib\n",
    "from time import time\n",
    "\n",
    "from sklearn.model_selection import train_test_split\n",
    "# from sklearn.preprocessing import StandardScaler, OneHotEncoder, OrdinalEncoder, FunctionTransformer\n",
    "# from sklearn.impute import SimpleImputer\n",
    "from sklearn.pipeline import Pipeline\n",
    "# from sklearn.compose import ColumnTransformer\n",
    "\n",
    "import customfunctions"
   ]
  },
  {
   "cell_type": "code",
   "execution_count": 2,
   "metadata": {},
   "outputs": [],
   "source": [
    "# Calculate roc_auc score\n",
    "def calculate_roc_auc_score(model,X, y): \n",
    "    pred_proba = model.predict_proba(X)\n",
    "    roc_auc = roc_auc_score(y, pred_proba[:,1])\n",
    "    return roc_auc"
   ]
  },
  {
   "cell_type": "markdown",
   "metadata": {},
   "source": [
    "### Read in data"
   ]
  },
  {
   "cell_type": "code",
   "execution_count": 3,
   "metadata": {},
   "outputs": [
    {
     "name": "stdout",
     "output_type": "stream",
     "text": [
      "Shape: (17654, 20)\n"
     ]
    },
    {
     "data": {
      "text/html": [
       "<div>\n",
       "<style scoped>\n",
       "    .dataframe tbody tr th:only-of-type {\n",
       "        vertical-align: middle;\n",
       "    }\n",
       "\n",
       "    .dataframe tbody tr th {\n",
       "        vertical-align: top;\n",
       "    }\n",
       "\n",
       "    .dataframe thead th {\n",
       "        text-align: right;\n",
       "    }\n",
       "</style>\n",
       "<table border=\"1\" class=\"dataframe\">\n",
       "  <thead>\n",
       "    <tr style=\"text-align: right;\">\n",
       "      <th></th>\n",
       "      <th>customer_id</th>\n",
       "      <th>vintage</th>\n",
       "      <th>age</th>\n",
       "      <th>gender</th>\n",
       "      <th>dependents</th>\n",
       "      <th>occupation</th>\n",
       "      <th>customer_nw_category</th>\n",
       "      <th>branch_code</th>\n",
       "      <th>days_since_last_transaction</th>\n",
       "      <th>current_balance</th>\n",
       "      <th>previous_month_end_balance</th>\n",
       "      <th>average_monthly_balance_prevQ</th>\n",
       "      <th>average_monthly_balance_prevQ2</th>\n",
       "      <th>current_month_credit</th>\n",
       "      <th>previous_month_credit</th>\n",
       "      <th>current_month_debit</th>\n",
       "      <th>previous_month_debit</th>\n",
       "      <th>current_month_balance</th>\n",
       "      <th>previous_month_balance</th>\n",
       "      <th>churn</th>\n",
       "    </tr>\n",
       "  </thead>\n",
       "  <tbody>\n",
       "    <tr>\n",
       "      <th>17005</th>\n",
       "      <td>23308.0</td>\n",
       "      <td>3051.0</td>\n",
       "      <td>54.0</td>\n",
       "      <td>Male</td>\n",
       "      <td>2.0</td>\n",
       "      <td>Accountant</td>\n",
       "      <td>High</td>\n",
       "      <td>523.0</td>\n",
       "      <td>0.0</td>\n",
       "      <td>12964.25</td>\n",
       "      <td>45146.42</td>\n",
       "      <td>18900.63</td>\n",
       "      <td>13894.29</td>\n",
       "      <td>16166.57</td>\n",
       "      <td>8792.51</td>\n",
       "      <td>43860.62</td>\n",
       "      <td>3614.73</td>\n",
       "      <td>NaN</td>\n",
       "      <td>26693.97</td>\n",
       "      <td>Yes</td>\n",
       "    </tr>\n",
       "    <tr>\n",
       "      <th>15423</th>\n",
       "      <td>21122.0</td>\n",
       "      <td>4266.0</td>\n",
       "      <td>61.0</td>\n",
       "      <td>Female</td>\n",
       "      <td>0.0</td>\n",
       "      <td>Accountant</td>\n",
       "      <td>High</td>\n",
       "      <td>7.0</td>\n",
       "      <td>48.0</td>\n",
       "      <td>1374.77</td>\n",
       "      <td>1712.26</td>\n",
       "      <td>1703.63</td>\n",
       "      <td>2119.62</td>\n",
       "      <td>0.33</td>\n",
       "      <td>542.89</td>\n",
       "      <td>156.73</td>\n",
       "      <td>647.03</td>\n",
       "      <td>1383.64</td>\n",
       "      <td>1759.63</td>\n",
       "      <td>No</td>\n",
       "    </tr>\n",
       "    <tr>\n",
       "      <th>14012</th>\n",
       "      <td>19196.0</td>\n",
       "      <td>1519.0</td>\n",
       "      <td>35.0</td>\n",
       "      <td>Male</td>\n",
       "      <td>0.0</td>\n",
       "      <td>Accountant</td>\n",
       "      <td>Medium</td>\n",
       "      <td>20.0</td>\n",
       "      <td>41.0</td>\n",
       "      <td>22675.78</td>\n",
       "      <td>22479.53</td>\n",
       "      <td>23048.75</td>\n",
       "      <td>25045.84</td>\n",
       "      <td>0.06</td>\n",
       "      <td>15.63</td>\n",
       "      <td>512.91</td>\n",
       "      <td>417.31</td>\n",
       "      <td>22608.42</td>\n",
       "      <td>22953.98</td>\n",
       "      <td>Yes</td>\n",
       "    </tr>\n",
       "    <tr>\n",
       "      <th>12723</th>\n",
       "      <td>17433.0</td>\n",
       "      <td>661.0</td>\n",
       "      <td>30.0</td>\n",
       "      <td>Female</td>\n",
       "      <td>0.0</td>\n",
       "      <td>Accountant</td>\n",
       "      <td>Medium</td>\n",
       "      <td>1673.0</td>\n",
       "      <td>273.0</td>\n",
       "      <td>14871.88</td>\n",
       "      <td>14879.24</td>\n",
       "      <td>14954.82</td>\n",
       "      <td>15121.88</td>\n",
       "      <td>0.64</td>\n",
       "      <td>0.64</td>\n",
       "      <td>8.00</td>\n",
       "      <td>NaN</td>\n",
       "      <td>14878.22</td>\n",
       "      <td>14898.43</td>\n",
       "      <td>Yes</td>\n",
       "    </tr>\n",
       "    <tr>\n",
       "      <th>1160</th>\n",
       "      <td>1585.0</td>\n",
       "      <td>3140.0</td>\n",
       "      <td>47.0</td>\n",
       "      <td>Male</td>\n",
       "      <td>0.0</td>\n",
       "      <td>Engineer</td>\n",
       "      <td>Medium</td>\n",
       "      <td>647.0</td>\n",
       "      <td>52.0</td>\n",
       "      <td>17463.56</td>\n",
       "      <td>17460.90</td>\n",
       "      <td>10934.92</td>\n",
       "      <td>158.03</td>\n",
       "      <td>0.51</td>\n",
       "      <td>17157.66</td>\n",
       "      <td>0.51</td>\n",
       "      <td>NaN</td>\n",
       "      <td>17462.73</td>\n",
       "      <td>14910.35</td>\n",
       "      <td>Yes</td>\n",
       "    </tr>\n",
       "  </tbody>\n",
       "</table>\n",
       "</div>"
      ],
      "text/plain": [
       "       customer_id  vintage   age  gender  dependents  occupation  \\\n",
       "17005      23308.0   3051.0  54.0    Male         2.0  Accountant   \n",
       "15423      21122.0   4266.0  61.0  Female         0.0  Accountant   \n",
       "14012      19196.0   1519.0  35.0    Male         0.0  Accountant   \n",
       "12723      17433.0    661.0  30.0  Female         0.0  Accountant   \n",
       "1160        1585.0   3140.0  47.0    Male         0.0    Engineer   \n",
       "\n",
       "      customer_nw_category  branch_code  days_since_last_transaction  \\\n",
       "17005                 High        523.0                          0.0   \n",
       "15423                 High          7.0                         48.0   \n",
       "14012               Medium         20.0                         41.0   \n",
       "12723               Medium       1673.0                        273.0   \n",
       "1160                Medium        647.0                         52.0   \n",
       "\n",
       "       current_balance  previous_month_end_balance  \\\n",
       "17005         12964.25                    45146.42   \n",
       "15423          1374.77                     1712.26   \n",
       "14012         22675.78                    22479.53   \n",
       "12723         14871.88                    14879.24   \n",
       "1160          17463.56                    17460.90   \n",
       "\n",
       "       average_monthly_balance_prevQ  average_monthly_balance_prevQ2  \\\n",
       "17005                       18900.63                        13894.29   \n",
       "15423                        1703.63                         2119.62   \n",
       "14012                       23048.75                        25045.84   \n",
       "12723                       14954.82                        15121.88   \n",
       "1160                        10934.92                          158.03   \n",
       "\n",
       "       current_month_credit  previous_month_credit  current_month_debit  \\\n",
       "17005              16166.57                8792.51             43860.62   \n",
       "15423                  0.33                 542.89               156.73   \n",
       "14012                  0.06                  15.63               512.91   \n",
       "12723                  0.64                   0.64                 8.00   \n",
       "1160                   0.51               17157.66                 0.51   \n",
       "\n",
       "       previous_month_debit  current_month_balance  previous_month_balance  \\\n",
       "17005               3614.73                    NaN                26693.97   \n",
       "15423                647.03                1383.64                 1759.63   \n",
       "14012                417.31               22608.42                22953.98   \n",
       "12723                   NaN               14878.22                14898.43   \n",
       "1160                    NaN               17462.73                14910.35   \n",
       "\n",
       "      churn  \n",
       "17005   Yes  \n",
       "15423    No  \n",
       "14012   Yes  \n",
       "12723   Yes  \n",
       "1160    Yes  "
      ]
     },
     "execution_count": 3,
     "metadata": {},
     "output_type": "execute_result"
    }
   ],
   "source": [
    "## Read in data\n",
    "df0 = pd.read_csv('./data/visathon_train_data.csv')#,index=customer_id)\n",
    "print('Shape: {}'.format(df0.shape))\n",
    "df0.sample(5)"
   ]
  },
  {
   "cell_type": "markdown",
   "metadata": {},
   "source": [
    "### Split data"
   ]
  },
  {
   "cell_type": "code",
   "execution_count": 4,
   "metadata": {},
   "outputs": [],
   "source": [
    "target = 'churn'\n",
    "X = df0.drop(target,axis=1).copy()\n",
    "y = df0[target].copy()"
   ]
  },
  {
   "cell_type": "code",
   "execution_count": 99,
   "metadata": {},
   "outputs": [
    {
     "name": "stdout",
     "output_type": "stream",
     "text": [
      "X_train shape: (13240, 19)\n",
      "X_valid shape: (4414, 19)\n",
      "y_train shape: (13240,)\n",
      "y_valid shape: (4414,)\n"
     ]
    }
   ],
   "source": [
    "X_train,X_valid,y_train,y_valid = train_test_split(X,y,test_size=0.25, random_state=10086)\n",
    "print('X_train shape: {}\\nX_valid shape: {}\\ny_train shape: {}\\ny_valid shape: {}'.format( X_train.shape, X_valid.shape, y_train.shape, y_valid.shape))"
   ]
  },
  {
   "cell_type": "markdown",
   "metadata": {},
   "source": [
    "## Load data pipelines"
   ]
  },
  {
   "cell_type": "code",
   "execution_count": 100,
   "metadata": {},
   "outputs": [],
   "source": [
    "pipeline_data = joblib.load('pipeline_data0.joblib')"
   ]
  },
  {
   "cell_type": "code",
   "execution_count": 101,
   "metadata": {},
   "outputs": [
    {
     "data": {
      "text/plain": [
       "((13240, 30), (4414, 30))"
      ]
     },
     "execution_count": 101,
     "metadata": {},
     "output_type": "execute_result"
    }
   ],
   "source": [
    "X_train_transformed = pipeline_data.transform(X_train)\n",
    "X_valid_transformed = pipeline_data.transform(X_valid)\n",
    "y_train_transformed = y_train.map({\"Yes\":1,\"No\":0})\n",
    "y_valid_transformed = y_valid.map({\"Yes\":1,\"No\":0})\n",
    "X_train_transformed.shape, X_valid_transformed.shape"
   ]
  },
  {
   "cell_type": "markdown",
   "metadata": {},
   "source": [
    "Once the data sets are transformed, the next step is to use the transformed data to train models."
   ]
  },
  {
   "cell_type": "markdown",
   "metadata": {},
   "source": [
    "## Train classification models\n",
    "This section we will look at screen various classification algorithms to select a few promising candidates for further tuning."
   ]
  },
  {
   "cell_type": "markdown",
   "metadata": {},
   "source": [
    "### Model set 1\n",
    "This model set includes 9 scikit-learn classification algorithms (excluding those from ensemble family). The classification algorithms from the ensumble family will be discussed in ***Model set 2*** section."
   ]
  },
  {
   "cell_type": "markdown",
   "metadata": {},
   "source": [
    "#### 1. Select candidate models"
   ]
  },
  {
   "cell_type": "code",
   "execution_count": 5,
   "metadata": {},
   "outputs": [],
   "source": [
    "# !pip install xgboost\n",
    "# !pip install lightgbm\n",
    "# !pip install catboost"
   ]
  },
  {
   "cell_type": "code",
   "execution_count": 8,
   "metadata": {},
   "outputs": [],
   "source": [
    "# Classifiers\n",
    "from sklearn.neighbors import KNeighborsClassifier\n",
    "from sklearn.tree import DecisionTreeClassifier\n",
    "from sklearn.linear_model import LogisticRegression\n",
    "from sklearn.neural_network import MLPClassifier\n",
    "from sklearn.svm import SVC\n",
    "from sklearn.gaussian_process import GaussianProcessClassifier\n",
    "from sklearn.gaussian_process.kernels import RBF\n",
    "from sklearn.naive_bayes import GaussianNB\n",
    "from sklearn.discriminant_analysis import QuadraticDiscriminantAnalysis\n",
    "from sklearn.ensemble import RandomForestClassifier, AdaBoostClassifier\n",
    "from sklearn.ensemble import GradientBoostingClassifier, ExtraTreesClassifier\n",
    "from xgboost import XGBClassifier\n",
    "# Model seclection\n",
    "from sklearn.model_selection import RandomizedSearchCV\n",
    "from scipy.stats import loguniform, randint, uniform\n",
    "\n",
    "# Model evaluation\n",
    "from sklearn.metrics import roc_auc_score, roc_curve\n",
    "\n",
    "from time import time"
   ]
  },
  {
   "cell_type": "code",
   "execution_count": 26,
   "metadata": {},
   "outputs": [],
   "source": [
    "names = [\n",
    "    \"K Nearest Neighbors\",\n",
    "    \"Logistic Regression\",\n",
    "    \"Linear SVM\",\n",
    "    \"RBF SVM\",\n",
    "    \"Decision Tree\",\n",
    "    \"Neural Net\",\n",
    "    \"Naive Bayes\",\n",
    "    \"Quadratic Discriminant Analysis\",\n",
    "    \"Gaussian Process\",\n",
    "    \"Random Forest\",\n",
    "    \"Extra Trees\",\n",
    "    \"ADAboosting\",\n",
    "    \"Gradient Boosting\",\n",
    "    \"XGBoost\",\n",
    "]\n",
    "\n",
    "classifiers = [\n",
    "    KNeighborsClassifier(3),\n",
    "    LogisticRegression(max_iter=500, n_jobs=-1, random_state=15611),\n",
    "    SVC(kernel=\"linear\", C=0.025, probability=True, random_state=15611),\n",
    "    SVC(gamma=2, C=1, probability=True, random_state=15611),\n",
    "    DecisionTreeClassifier(max_depth=5, random_state=15611),\n",
    "    MLPClassifier(alpha=1, max_iter=1000, random_state=15611),\n",
    "    GaussianNB(),\n",
    "    QuadraticDiscriminantAnalysis(),\n",
    "    GaussianProcessClassifier(1.0 * RBF(1.0), random_state=15611),\n",
    "    RandomForestClassifier(max_depth=2, random_state=15611,n_jobs=-1),\n",
    "    ExtraTreesClassifier(random_state=15611,n_jobs=-1),\n",
    "    AdaBoostClassifier(random_state=15611),\n",
    "    GradientBoostingClassifier(random_state=15611),\n",
    "    XGBClassifier(random_state=15611)\n",
    "]"
   ]
  },
  {
   "cell_type": "code",
   "execution_count": 28,
   "metadata": {},
   "outputs": [
    {
     "name": "stdout",
     "output_type": "stream",
     "text": [
      "Fitting: K Nearest Neighbors\n",
      "K Nearest Neighbors has a roc_auc score: 0.6845797837061086\n",
      "Time elapsed: 0.03 minutes for model \"K Nearest Neighbors\"\n",
      "\n",
      "Fitting: Logistic Regression\n",
      "Logistic Regression has a roc_auc score: 0.8186893842809045\n",
      "Time elapsed: 0.03 minutes for model \"Logistic Regression\"\n",
      "\n",
      "Fitting: Linear SVM\n",
      "Linear SVM has a roc_auc score: 0.812825448360391\n",
      "Time elapsed: 0.22 minutes for model \"Linear SVM\"\n",
      "\n",
      "Fitting: RBF SVM\n",
      "RBF SVM has a roc_auc score: 0.706117988227867\n",
      "Time elapsed: 1.62 minutes for model \"RBF SVM\"\n",
      "\n",
      "Fitting: Decision Tree\n",
      "Decision Tree has a roc_auc score: 0.7709237899652334\n",
      "Time elapsed: 0.0 minutes for model \"Decision Tree\"\n",
      "\n",
      "Fitting: Neural Net\n",
      "Neural Net has a roc_auc score: 0.8281532819970628\n",
      "Time elapsed: 0.07 minutes for model \"Neural Net\"\n",
      "\n",
      "Fitting: Naive Bayes\n",
      "Naive Bayes has a roc_auc score: 0.7314312023755921\n",
      "Time elapsed: 0.0 minutes for model \"Naive Bayes\"\n",
      "\n",
      "Fitting: Quadratic Discriminant Analysis\n",
      "Quadratic Discriminant Analysis has a roc_auc score: 0.6895495114135511\n",
      "Time elapsed: 0.0 minutes for model \"Quadratic Discriminant Analysis\"\n",
      "\n",
      "Fitting: Gaussian Process\n"
     ]
    },
    {
     "name": "stderr",
     "output_type": "stream",
     "text": [
      "C:\\Users\\tessi\\anaconda3\\lib\\site-packages\\sklearn\\discriminant_analysis.py:715: UserWarning: Variables are collinear\n",
      "  warnings.warn(\"Variables are collinear\")\n"
     ]
    },
    {
     "name": "stdout",
     "output_type": "stream",
     "text": [
      "Gaussian Process has a roc_auc score: 0.832235956488301\n",
      "Time elapsed: 130.07 minutes for model \"Gaussian Process\"\n",
      "\n",
      "Fitting: Random Forest\n",
      "Random Forest has a roc_auc score: 0.7795805041976536\n",
      "Time elapsed: 0.03 minutes for model \"Random Forest\"\n",
      "\n",
      "Fitting: Extra Trees\n",
      "Extra Trees has a roc_auc score: 0.7985860062238489\n",
      "Time elapsed: 0.01 minutes for model \"Extra Trees\"\n",
      "\n",
      "Fitting: ADAboosting\n",
      "ADAboosting has a roc_auc score: 0.8066232308438269\n",
      "Time elapsed: 0.02 minutes for model \"ADAboosting\"\n",
      "\n",
      "Fitting: Gradient Boosting\n",
      "Gradient Boosting has a roc_auc score: 0.8194326719786695\n",
      "Time elapsed: 0.07 minutes for model \"Gradient Boosting\"\n",
      "\n",
      "Fitting: XGBoost\n",
      "XGBoost has a roc_auc score: 0.8032282680281794\n",
      "Time elapsed: 0.03 minutes for model \"XGBoost\"\n",
      "\n"
     ]
    }
   ],
   "source": [
    "# iterate over classifiers\n",
    "\n",
    "score = {}\n",
    "model = {}\n",
    "for name, clf in zip(names, classifiers):\n",
    "    start = time()   \n",
    "    print(\"Fitting: {}\".format(name))\n",
    "    clf.fit(X_train_transformed, y_train_transformed)\n",
    "    pred_proba = clf.predict_proba(X_valid_transformed)\n",
    "    roc_auc = roc_auc_score(y_valid_transformed, pred_proba[:,1])\n",
    "    score[name] = roc_auc\n",
    "    model[name] = clf\n",
    "    print(\"{} has a roc_auc score: {}\".format(name, roc_auc))\n",
    "    print(f'Time elapsed: {round((time()-start)/60,2)} minutes for model \"{name}\"\\n')\n",
    "    joblib.dump(clf, 'screening - ' + name +'.joblib')\n"
   ]
  },
  {
   "cell_type": "code",
   "execution_count": 130,
   "metadata": {},
   "outputs": [],
   "source": [
    "screening_results = {'score':score,'model': model}\n",
    "joblib.dump(screening_results, 'screening 0 - results all models.joblib')"
   ]
  },
  {
   "cell_type": "code",
   "execution_count": 73,
   "metadata": {},
   "outputs": [],
   "source": [
    "# screening_results = joblib.load('screening 0 - results all models.joblib')"
   ]
  },
  {
   "cell_type": "code",
   "execution_count": 32,
   "metadata": {},
   "outputs": [
    {
     "name": "stdout",
     "output_type": "stream",
     "text": [
      "roc_auc score = 0.8322 for the best model GaussianProcessClassifier(kernel=1**2 * RBF(length_scale=1), random_state=15611)\n"
     ]
    }
   ],
   "source": [
    "# Model for candidate of the best model\n",
    "print('roc_auc score = {} for the best model {}'.format(round(screening_results['score']['Gaussian Process'],4), screening_results['model']['Gaussian Process']))"
   ]
  },
  {
   "cell_type": "markdown",
   "metadata": {},
   "source": [
    "The screening of the models indicated that 4 non-ensemble models, i.e., ***LogigsticRegression, Linear SVM, Neural Network (MLPClassifier), and GaussianProcessClassifier)***, have ***over 0.81*** roc_auc scores (0.819, 0.813,0.828, and 0.832, respectively). More oever, all 3 boosting algorithms have an roc_auc score greater than 0.80, with gradient boosting the highest 0.819. These models will be further hypertuned to find the best model. <br>\n",
    "Since the GaussianProcessClassifier is already hyperparameter optimized for the kernel and none of the other parameters are to be tuned, we will use the result from this stage as the best estimator. <br>\n",
    "Therefore, the next step is to further tune the remaining 6 models to select the best models and parameters for this dataset."
   ]
  },
  {
   "cell_type": "markdown",
   "metadata": {},
   "source": [
    "#### 2. Tune Hyperparameters of candiate models\n",
    "We will tune the hyparameters using ***RandomSearchCV*** from scikit learn's model_selection module. Parameter distribution will be using the ***loguniform and randint*** distribution from scipy's stats module. These distributions generate a continuous range of floates and integers, repectively, for the hyperparameters of interests. <br>\n",
    "The hyperparameter space will tune 4 and 5 hyperparameters for LF and MLP, respectively and randomly sample 50 hyperparameter combinations. The second set of hyperparameter space will tune more hyperparameters (5 for LF and 10 for MLP and randomly sample 100 hyperparameter combinations. In addition, for LF, two versions of penalty and solver settings will also be tuned. This allows for us to examine if a finer tuning and more iteration will have more chance to get a better final model."
   ]
  },
  {
   "cell_type": "markdown",
   "metadata": {},
   "source": [
    "##### **Hyperparameter tuning - non-ensemble models**\n",
    "##### *1) Random Search CV*"
   ]
  },
  {
   "cell_type": "code",
   "execution_count": 34,
   "metadata": {},
   "outputs": [
    {
     "name": "stdout",
     "output_type": "stream",
     "text": [
      "Fitting 5 folds for each of 50 candidates, totalling 250 fits\n"
     ]
    },
    {
     "name": "stderr",
     "output_type": "stream",
     "text": [
      "[Parallel(n_jobs=-1)]: Using backend LokyBackend with 8 concurrent workers.\n",
      "[Parallel(n_jobs=-1)]: Done  34 tasks      | elapsed:  1.1min\n",
      "[Parallel(n_jobs=-1)]: Done 184 tasks      | elapsed:  6.3min\n",
      "[Parallel(n_jobs=-1)]: Done 250 out of 250 | elapsed:  7.9min finished\n"
     ]
    },
    {
     "name": "stdout",
     "output_type": "stream",
     "text": [
      "Time elapsed: 8.01 minutes\n"
     ]
    }
   ],
   "source": [
    "## create a pipeline\n",
    "pipe_clf = Pipeline([('classifier',LogisticRegression())])\n",
    "\n",
    "## Create dictionary with candidate learning algorithms and their hyperparameters\n",
    "param_space =  [{\"classifier\": [LogisticRegression(random_state=15611, max_iter=200)],\n",
    "                 'classifier__penalty': ['l1','l2'],\n",
    "                 'classifier__solver': ['liblinear'],\n",
    "                 'classifier__C': loguniform(0.0001, 100),\n",
    "                },\n",
    "                {\"classifier\": [LogisticRegression(random_state=15611, max_iter=200)],\n",
    "                 'classifier__penalty': ['l2'],\n",
    "                 'classifier__solver': ['lbfgs','sag'],\n",
    "                 'classifier__C': loguniform(0.0001, 100),\n",
    "                }, \n",
    "                {\"classifier\": [SVC(kernel=\"linear\", max_iter=2000, probability=True, random_state=15611)],\n",
    "                 'classifier__C': loguniform(0.01, 0.99),\n",
    "                },\n",
    "                {\"classifier\": [MLPClassifier(random_state=15611)],\n",
    "                 'classifier__activation':['tanh','relu'],\n",
    "                 'classifier__learning_rate': ['constant','invscaling'],\n",
    "                 'classifier__solver': ['adam','sgd'],\n",
    "                 'classifier__alpha':loguniform(0.0001,1),\n",
    "                },]\n",
    "\n",
    "# Parameter tuning\n",
    "start = time()\n",
    "clf_base_nonensemble = RandomizedSearchCV(estimator = pipe_clf, \n",
    "                                      param_distributions=param_space, \n",
    "                                      scoring='roc_auc',\n",
    "                                      n_iter=50,\n",
    "                                      cv=5, \n",
    "                                      verbose=1,\n",
    "                                      n_jobs=-1,\n",
    "                                      random_state = 15661\n",
    "                                      )\n",
    "clf_base_nonensemble.fit(X_train_transformed, y_train)\n",
    "print(f'Time elapsed: {round((time()-start)/60,2)} minutes')"
   ]
  },
  {
   "cell_type": "code",
   "execution_count": 35,
   "metadata": {},
   "outputs": [
    {
     "data": {
      "text/plain": [
       "['clf_base_nonensemble_randsearchcv.joblib']"
      ]
     },
     "execution_count": 35,
     "metadata": {},
     "output_type": "execute_result"
    }
   ],
   "source": [
    "joblib.dump(clf_base_nonensemble,'clf_base_nonensemble_randsearchcv.joblib')"
   ]
  },
  {
   "cell_type": "code",
   "execution_count": 41,
   "metadata": {},
   "outputs": [],
   "source": [
    "# clf_base_nonensemble = joblib.load('clf_base_nonensemble_randsearchcv.joblib')"
   ]
  },
  {
   "cell_type": "markdown",
   "metadata": {},
   "source": [
    "##### *2) Best estimator*"
   ]
  },
  {
   "cell_type": "code",
   "execution_count": 37,
   "metadata": {},
   "outputs": [
    {
     "name": "stdout",
     "output_type": "stream",
     "text": [
      "Best non-ensemble model score score: 0.8341547066125441\n"
     ]
    },
    {
     "data": {
      "text/plain": [
       "{'classifier': MLPClassifier(activation='tanh', alpha=0.2121879236856809,\n",
       "               learning_rate='invscaling', random_state=15611),\n",
       " 'classifier__activation': 'tanh',\n",
       " 'classifier__alpha': 0.2121879236856809,\n",
       " 'classifier__learning_rate': 'invscaling',\n",
       " 'classifier__solver': 'adam'}"
      ]
     },
     "execution_count": 37,
     "metadata": {},
     "output_type": "execute_result"
    }
   ],
   "source": [
    "print(f'Best non-ensemble model score score: {clf_base_nonensemble.best_score_}')\n",
    "clf_base_nonensemble.best_params_"
   ]
  },
  {
   "cell_type": "code",
   "execution_count": 38,
   "metadata": {},
   "outputs": [
    {
     "name": "stdout",
     "output_type": "stream",
     "text": [
      "Number of layers in the neural network = 3\n"
     ]
    }
   ],
   "source": [
    "# number of layers in the neural network:\n",
    "print('Number of layers in the neural network = {}'.format(clf_base_nonensemble.best_estimator_['classifier'].n_layers_))"
   ]
  },
  {
   "cell_type": "code",
   "execution_count": 39,
   "metadata": {},
   "outputs": [
    {
     "name": "stdout",
     "output_type": "stream",
     "text": [
      "Mean cv scores - Highest: 0.8341547066125441 from param combination [26]\n",
      "Mean cv scores:\n"
     ]
    },
    {
     "data": {
      "text/plain": [
       "array([0.82053993, 0.8133714 , 0.81172499, 0.79355054, 0.799923  ,\n",
       "       0.80488999, 0.81902878, 0.80191974, 0.8278514 , 0.8260831 ,\n",
       "       0.72988768, 0.81946973, 0.82040544, 0.7824286 , 0.81125534,\n",
       "       0.78556239, 0.822058  , 0.81365557, 0.82052089, 0.75858759,\n",
       "       0.79207143, 0.58519183, 0.82571987, 0.82048588, 0.81157405,\n",
       "       0.82748896, 0.83415471, 0.70898556, 0.75538034, 0.82785176,\n",
       "       0.79987209, 0.59780602, 0.66339072, 0.81959121, 0.82036307,\n",
       "       0.82041311, 0.81405396, 0.83100149, 0.79406911, 0.81098687,\n",
       "       0.81244192, 0.76857958, 0.64310163, 0.82042599, 0.79842477,\n",
       "       0.82052331, 0.82042563, 0.66722988, 0.82739615, 0.81557808])"
      ]
     },
     "execution_count": 39,
     "metadata": {},
     "output_type": "execute_result"
    }
   ],
   "source": [
    "print(f\"Mean cv scores - Highest: {clf_base_nonensemble.cv_results_['mean_test_score'].max()} \\\n",
    "from param combination {np.where(clf_base_nonensemble.cv_results_['mean_test_score'] == clf_base_nonensemble.cv_results_['mean_test_score'].max())[0]}\")\n",
    "\n",
    "print('Mean cv scores:')\n",
    "clf_base_nonensemble.cv_results_['mean_test_score']"
   ]
  },
  {
   "cell_type": "markdown",
   "metadata": {},
   "source": [
    "**Ranking of the models by CV scores**"
   ]
  },
  {
   "cell_type": "code",
   "execution_count": 77,
   "metadata": {},
   "outputs": [
    {
     "data": {
      "text/html": [
       "<div>\n",
       "<style scoped>\n",
       "    .dataframe tbody tr th:only-of-type {\n",
       "        vertical-align: middle;\n",
       "    }\n",
       "\n",
       "    .dataframe tbody tr th {\n",
       "        vertical-align: top;\n",
       "    }\n",
       "\n",
       "    .dataframe thead th {\n",
       "        text-align: right;\n",
       "    }\n",
       "</style>\n",
       "<table border=\"1\" class=\"dataframe\">\n",
       "  <thead>\n",
       "    <tr style=\"text-align: right;\">\n",
       "      <th></th>\n",
       "      <th>score</th>\n",
       "      <th>model</th>\n",
       "      <th>rank</th>\n",
       "    </tr>\n",
       "  </thead>\n",
       "  <tbody>\n",
       "    <tr>\n",
       "      <th>26</th>\n",
       "      <td>0.834155</td>\n",
       "      <td>MLPClassifier(activation='tanh', alpha=0.21218...</td>\n",
       "      <td>1</td>\n",
       "    </tr>\n",
       "    <tr>\n",
       "      <th>37</th>\n",
       "      <td>0.831001</td>\n",
       "      <td>MLPClassifier(activation='tanh', alpha=0.21218...</td>\n",
       "      <td>2</td>\n",
       "    </tr>\n",
       "    <tr>\n",
       "      <th>29</th>\n",
       "      <td>0.827852</td>\n",
       "      <td>MLPClassifier(activation='tanh', alpha=0.21218...</td>\n",
       "      <td>3</td>\n",
       "    </tr>\n",
       "    <tr>\n",
       "      <th>8</th>\n",
       "      <td>0.827851</td>\n",
       "      <td>MLPClassifier(activation='tanh', alpha=0.21218...</td>\n",
       "      <td>4</td>\n",
       "    </tr>\n",
       "    <tr>\n",
       "      <th>25</th>\n",
       "      <td>0.827489</td>\n",
       "      <td>MLPClassifier(activation='tanh', alpha=0.21218...</td>\n",
       "      <td>5</td>\n",
       "    </tr>\n",
       "    <tr>\n",
       "      <th>48</th>\n",
       "      <td>0.827396</td>\n",
       "      <td>MLPClassifier(activation='tanh', alpha=0.21218...</td>\n",
       "      <td>6</td>\n",
       "    </tr>\n",
       "    <tr>\n",
       "      <th>9</th>\n",
       "      <td>0.826083</td>\n",
       "      <td>MLPClassifier(activation='tanh', alpha=0.21218...</td>\n",
       "      <td>7</td>\n",
       "    </tr>\n",
       "    <tr>\n",
       "      <th>22</th>\n",
       "      <td>0.825720</td>\n",
       "      <td>MLPClassifier(activation='tanh', alpha=0.21218...</td>\n",
       "      <td>8</td>\n",
       "    </tr>\n",
       "    <tr>\n",
       "      <th>16</th>\n",
       "      <td>0.822058</td>\n",
       "      <td>MLPClassifier(activation='tanh', alpha=0.21218...</td>\n",
       "      <td>9</td>\n",
       "    </tr>\n",
       "    <tr>\n",
       "      <th>0</th>\n",
       "      <td>0.820540</td>\n",
       "      <td>LogisticRegression(max_iter=200, random_state=...</td>\n",
       "      <td>10</td>\n",
       "    </tr>\n",
       "    <tr>\n",
       "      <th>45</th>\n",
       "      <td>0.820523</td>\n",
       "      <td>LogisticRegression(max_iter=200, random_state=...</td>\n",
       "      <td>11</td>\n",
       "    </tr>\n",
       "    <tr>\n",
       "      <th>18</th>\n",
       "      <td>0.820521</td>\n",
       "      <td>LogisticRegression(max_iter=200, random_state=...</td>\n",
       "      <td>12</td>\n",
       "    </tr>\n",
       "    <tr>\n",
       "      <th>23</th>\n",
       "      <td>0.820486</td>\n",
       "      <td>LogisticRegression(max_iter=200, random_state=...</td>\n",
       "      <td>13</td>\n",
       "    </tr>\n",
       "    <tr>\n",
       "      <th>43</th>\n",
       "      <td>0.820426</td>\n",
       "      <td>LogisticRegression(max_iter=200, random_state=...</td>\n",
       "      <td>14</td>\n",
       "    </tr>\n",
       "    <tr>\n",
       "      <th>46</th>\n",
       "      <td>0.820426</td>\n",
       "      <td>LogisticRegression(max_iter=200, random_state=...</td>\n",
       "      <td>15</td>\n",
       "    </tr>\n",
       "    <tr>\n",
       "      <th>35</th>\n",
       "      <td>0.820413</td>\n",
       "      <td>LogisticRegression(max_iter=200, random_state=...</td>\n",
       "      <td>16</td>\n",
       "    </tr>\n",
       "    <tr>\n",
       "      <th>12</th>\n",
       "      <td>0.820405</td>\n",
       "      <td>LogisticRegression(max_iter=200, random_state=...</td>\n",
       "      <td>17</td>\n",
       "    </tr>\n",
       "    <tr>\n",
       "      <th>34</th>\n",
       "      <td>0.820363</td>\n",
       "      <td>LogisticRegression(max_iter=200, random_state=...</td>\n",
       "      <td>18</td>\n",
       "    </tr>\n",
       "    <tr>\n",
       "      <th>33</th>\n",
       "      <td>0.819591</td>\n",
       "      <td>LogisticRegression(max_iter=200, random_state=...</td>\n",
       "      <td>19</td>\n",
       "    </tr>\n",
       "    <tr>\n",
       "      <th>11</th>\n",
       "      <td>0.819470</td>\n",
       "      <td>LogisticRegression(max_iter=200, random_state=...</td>\n",
       "      <td>20</td>\n",
       "    </tr>\n",
       "    <tr>\n",
       "      <th>6</th>\n",
       "      <td>0.819029</td>\n",
       "      <td>LogisticRegression(max_iter=200, random_state=...</td>\n",
       "      <td>21</td>\n",
       "    </tr>\n",
       "    <tr>\n",
       "      <th>49</th>\n",
       "      <td>0.815578</td>\n",
       "      <td>LogisticRegression(max_iter=200, random_state=...</td>\n",
       "      <td>22</td>\n",
       "    </tr>\n",
       "    <tr>\n",
       "      <th>36</th>\n",
       "      <td>0.814054</td>\n",
       "      <td>SVC(kernel='linear', max_iter=2000, probabilit...</td>\n",
       "      <td>23</td>\n",
       "    </tr>\n",
       "    <tr>\n",
       "      <th>17</th>\n",
       "      <td>0.813656</td>\n",
       "      <td>SVC(kernel='linear', max_iter=2000, probabilit...</td>\n",
       "      <td>24</td>\n",
       "    </tr>\n",
       "    <tr>\n",
       "      <th>1</th>\n",
       "      <td>0.813371</td>\n",
       "      <td>LogisticRegression(max_iter=200, random_state=...</td>\n",
       "      <td>25</td>\n",
       "    </tr>\n",
       "    <tr>\n",
       "      <th>40</th>\n",
       "      <td>0.812442</td>\n",
       "      <td>MLPClassifier(activation='tanh', alpha=0.21218...</td>\n",
       "      <td>26</td>\n",
       "    </tr>\n",
       "    <tr>\n",
       "      <th>2</th>\n",
       "      <td>0.811725</td>\n",
       "      <td>SVC(kernel='linear', max_iter=2000, probabilit...</td>\n",
       "      <td>27</td>\n",
       "    </tr>\n",
       "    <tr>\n",
       "      <th>24</th>\n",
       "      <td>0.811574</td>\n",
       "      <td>SVC(kernel='linear', max_iter=2000, probabilit...</td>\n",
       "      <td>28</td>\n",
       "    </tr>\n",
       "    <tr>\n",
       "      <th>14</th>\n",
       "      <td>0.811255</td>\n",
       "      <td>MLPClassifier(activation='tanh', alpha=0.21218...</td>\n",
       "      <td>29</td>\n",
       "    </tr>\n",
       "    <tr>\n",
       "      <th>39</th>\n",
       "      <td>0.810987</td>\n",
       "      <td>LogisticRegression(max_iter=200, random_state=...</td>\n",
       "      <td>30</td>\n",
       "    </tr>\n",
       "    <tr>\n",
       "      <th>5</th>\n",
       "      <td>0.804890</td>\n",
       "      <td>SVC(kernel='linear', max_iter=2000, probabilit...</td>\n",
       "      <td>31</td>\n",
       "    </tr>\n",
       "    <tr>\n",
       "      <th>7</th>\n",
       "      <td>0.801920</td>\n",
       "      <td>SVC(kernel='linear', max_iter=2000, probabilit...</td>\n",
       "      <td>32</td>\n",
       "    </tr>\n",
       "    <tr>\n",
       "      <th>4</th>\n",
       "      <td>0.799923</td>\n",
       "      <td>LogisticRegression(max_iter=200, random_state=...</td>\n",
       "      <td>33</td>\n",
       "    </tr>\n",
       "    <tr>\n",
       "      <th>30</th>\n",
       "      <td>0.799872</td>\n",
       "      <td>SVC(kernel='linear', max_iter=2000, probabilit...</td>\n",
       "      <td>34</td>\n",
       "    </tr>\n",
       "    <tr>\n",
       "      <th>44</th>\n",
       "      <td>0.798425</td>\n",
       "      <td>LogisticRegression(max_iter=200, random_state=...</td>\n",
       "      <td>35</td>\n",
       "    </tr>\n",
       "    <tr>\n",
       "      <th>38</th>\n",
       "      <td>0.794069</td>\n",
       "      <td>SVC(kernel='linear', max_iter=2000, probabilit...</td>\n",
       "      <td>36</td>\n",
       "    </tr>\n",
       "    <tr>\n",
       "      <th>3</th>\n",
       "      <td>0.793551</td>\n",
       "      <td>SVC(kernel='linear', max_iter=2000, probabilit...</td>\n",
       "      <td>37</td>\n",
       "    </tr>\n",
       "    <tr>\n",
       "      <th>20</th>\n",
       "      <td>0.792071</td>\n",
       "      <td>LogisticRegression(max_iter=200, random_state=...</td>\n",
       "      <td>38</td>\n",
       "    </tr>\n",
       "    <tr>\n",
       "      <th>15</th>\n",
       "      <td>0.785562</td>\n",
       "      <td>SVC(kernel='linear', max_iter=2000, probabilit...</td>\n",
       "      <td>39</td>\n",
       "    </tr>\n",
       "    <tr>\n",
       "      <th>13</th>\n",
       "      <td>0.782429</td>\n",
       "      <td>LogisticRegression(max_iter=200, random_state=...</td>\n",
       "      <td>40</td>\n",
       "    </tr>\n",
       "    <tr>\n",
       "      <th>41</th>\n",
       "      <td>0.768580</td>\n",
       "      <td>LogisticRegression(max_iter=200, random_state=...</td>\n",
       "      <td>41</td>\n",
       "    </tr>\n",
       "    <tr>\n",
       "      <th>19</th>\n",
       "      <td>0.758588</td>\n",
       "      <td>LogisticRegression(max_iter=200, random_state=...</td>\n",
       "      <td>42</td>\n",
       "    </tr>\n",
       "    <tr>\n",
       "      <th>28</th>\n",
       "      <td>0.755380</td>\n",
       "      <td>LogisticRegression(max_iter=200, random_state=...</td>\n",
       "      <td>43</td>\n",
       "    </tr>\n",
       "    <tr>\n",
       "      <th>10</th>\n",
       "      <td>0.729888</td>\n",
       "      <td>SVC(kernel='linear', max_iter=2000, probabilit...</td>\n",
       "      <td>44</td>\n",
       "    </tr>\n",
       "    <tr>\n",
       "      <th>27</th>\n",
       "      <td>0.708986</td>\n",
       "      <td>LogisticRegression(max_iter=200, random_state=...</td>\n",
       "      <td>45</td>\n",
       "    </tr>\n",
       "    <tr>\n",
       "      <th>47</th>\n",
       "      <td>0.667230</td>\n",
       "      <td>SVC(kernel='linear', max_iter=2000, probabilit...</td>\n",
       "      <td>46</td>\n",
       "    </tr>\n",
       "    <tr>\n",
       "      <th>32</th>\n",
       "      <td>0.663391</td>\n",
       "      <td>SVC(kernel='linear', max_iter=2000, probabilit...</td>\n",
       "      <td>47</td>\n",
       "    </tr>\n",
       "    <tr>\n",
       "      <th>42</th>\n",
       "      <td>0.643102</td>\n",
       "      <td>SVC(kernel='linear', max_iter=2000, probabilit...</td>\n",
       "      <td>48</td>\n",
       "    </tr>\n",
       "    <tr>\n",
       "      <th>31</th>\n",
       "      <td>0.597806</td>\n",
       "      <td>SVC(kernel='linear', max_iter=2000, probabilit...</td>\n",
       "      <td>49</td>\n",
       "    </tr>\n",
       "    <tr>\n",
       "      <th>21</th>\n",
       "      <td>0.585192</td>\n",
       "      <td>MLPClassifier(activation='tanh', alpha=0.21218...</td>\n",
       "      <td>50</td>\n",
       "    </tr>\n",
       "  </tbody>\n",
       "</table>\n",
       "</div>"
      ],
      "text/plain": [
       "       score                                              model  rank\n",
       "26  0.834155  MLPClassifier(activation='tanh', alpha=0.21218...     1\n",
       "37  0.831001  MLPClassifier(activation='tanh', alpha=0.21218...     2\n",
       "29  0.827852  MLPClassifier(activation='tanh', alpha=0.21218...     3\n",
       "8   0.827851  MLPClassifier(activation='tanh', alpha=0.21218...     4\n",
       "25  0.827489  MLPClassifier(activation='tanh', alpha=0.21218...     5\n",
       "48  0.827396  MLPClassifier(activation='tanh', alpha=0.21218...     6\n",
       "9   0.826083  MLPClassifier(activation='tanh', alpha=0.21218...     7\n",
       "22  0.825720  MLPClassifier(activation='tanh', alpha=0.21218...     8\n",
       "16  0.822058  MLPClassifier(activation='tanh', alpha=0.21218...     9\n",
       "0   0.820540  LogisticRegression(max_iter=200, random_state=...    10\n",
       "45  0.820523  LogisticRegression(max_iter=200, random_state=...    11\n",
       "18  0.820521  LogisticRegression(max_iter=200, random_state=...    12\n",
       "23  0.820486  LogisticRegression(max_iter=200, random_state=...    13\n",
       "43  0.820426  LogisticRegression(max_iter=200, random_state=...    14\n",
       "46  0.820426  LogisticRegression(max_iter=200, random_state=...    15\n",
       "35  0.820413  LogisticRegression(max_iter=200, random_state=...    16\n",
       "12  0.820405  LogisticRegression(max_iter=200, random_state=...    17\n",
       "34  0.820363  LogisticRegression(max_iter=200, random_state=...    18\n",
       "33  0.819591  LogisticRegression(max_iter=200, random_state=...    19\n",
       "11  0.819470  LogisticRegression(max_iter=200, random_state=...    20\n",
       "6   0.819029  LogisticRegression(max_iter=200, random_state=...    21\n",
       "49  0.815578  LogisticRegression(max_iter=200, random_state=...    22\n",
       "36  0.814054  SVC(kernel='linear', max_iter=2000, probabilit...    23\n",
       "17  0.813656  SVC(kernel='linear', max_iter=2000, probabilit...    24\n",
       "1   0.813371  LogisticRegression(max_iter=200, random_state=...    25\n",
       "40  0.812442  MLPClassifier(activation='tanh', alpha=0.21218...    26\n",
       "2   0.811725  SVC(kernel='linear', max_iter=2000, probabilit...    27\n",
       "24  0.811574  SVC(kernel='linear', max_iter=2000, probabilit...    28\n",
       "14  0.811255  MLPClassifier(activation='tanh', alpha=0.21218...    29\n",
       "39  0.810987  LogisticRegression(max_iter=200, random_state=...    30\n",
       "5   0.804890  SVC(kernel='linear', max_iter=2000, probabilit...    31\n",
       "7   0.801920  SVC(kernel='linear', max_iter=2000, probabilit...    32\n",
       "4   0.799923  LogisticRegression(max_iter=200, random_state=...    33\n",
       "30  0.799872  SVC(kernel='linear', max_iter=2000, probabilit...    34\n",
       "44  0.798425  LogisticRegression(max_iter=200, random_state=...    35\n",
       "38  0.794069  SVC(kernel='linear', max_iter=2000, probabilit...    36\n",
       "3   0.793551  SVC(kernel='linear', max_iter=2000, probabilit...    37\n",
       "20  0.792071  LogisticRegression(max_iter=200, random_state=...    38\n",
       "15  0.785562  SVC(kernel='linear', max_iter=2000, probabilit...    39\n",
       "13  0.782429  LogisticRegression(max_iter=200, random_state=...    40\n",
       "41  0.768580  LogisticRegression(max_iter=200, random_state=...    41\n",
       "19  0.758588  LogisticRegression(max_iter=200, random_state=...    42\n",
       "28  0.755380  LogisticRegression(max_iter=200, random_state=...    43\n",
       "10  0.729888  SVC(kernel='linear', max_iter=2000, probabilit...    44\n",
       "27  0.708986  LogisticRegression(max_iter=200, random_state=...    45\n",
       "47  0.667230  SVC(kernel='linear', max_iter=2000, probabilit...    46\n",
       "32  0.663391  SVC(kernel='linear', max_iter=2000, probabilit...    47\n",
       "42  0.643102  SVC(kernel='linear', max_iter=2000, probabilit...    48\n",
       "31  0.597806  SVC(kernel='linear', max_iter=2000, probabilit...    49\n",
       "21  0.585192  MLPClassifier(activation='tanh', alpha=0.21218...    50"
      ]
     },
     "execution_count": 77,
     "metadata": {},
     "output_type": "execute_result"
    }
   ],
   "source": [
    "best= pd.DataFrame({'score': list(clf_base_nonensemble.cv_results_['mean_test_score'])})\n",
    "best['model'] = [param['classifier'] for param in clf_base_nonensemble.cv_results_['params']]\n",
    "best = best.sort_values('score',ascending=False)\n",
    "best['rank'] = np.arange(1,best.shape[0]+1)\n",
    "best"
   ]
  },
  {
   "cell_type": "markdown",
   "metadata": {},
   "source": [
    "MLP models have the highest CV scores of 0.837. The second best model is logistic regression which have CV score of 0.820. <br>\n",
    "From above dataframe, the best logistic regression model is model No 0. Let's find out what's its hyperparameters and fit on the train set."
   ]
  },
  {
   "cell_type": "code",
   "execution_count": 86,
   "metadata": {},
   "outputs": [
    {
     "data": {
      "text/plain": [
       "{'classifier': LogisticRegression(max_iter=200, random_state=15611),\n",
       " 'classifier__C': 1.2331057554426037,\n",
       " 'classifier__penalty': 'l1',\n",
       " 'classifier__solver': 'liblinear'}"
      ]
     },
     "execution_count": 86,
     "metadata": {},
     "output_type": "execute_result"
    }
   ],
   "source": [
    "clf_base_nonensemble.cv_results_['params'][0]"
   ]
  },
  {
   "cell_type": "code",
   "execution_count": 43,
   "metadata": {},
   "outputs": [
    {
     "data": {
      "text/plain": [
       "LogisticRegression(C=1.2331057554426037, max_iter=200, penalty='l1',\n",
       "                   random_state=15611, solver='liblinear')"
      ]
     },
     "execution_count": 43,
     "metadata": {},
     "output_type": "execute_result"
    }
   ],
   "source": [
    "logit = LogisticRegression(C=1.2331057554426037, penalty='l1', max_iter=200, solver='liblinear', random_state=15611)\n",
    "logit.fit(X_train_transformed, y_train)"
   ]
  },
  {
   "cell_type": "markdown",
   "metadata": {},
   "source": [
    "##### *3) Prediction accuracy*"
   ]
  },
  {
   "cell_type": "code",
   "execution_count": 126,
   "metadata": {},
   "outputs": [
    {
     "name": "stdout",
     "output_type": "stream",
     "text": [
      "roc_auc scores:\n",
      "Best Neural Network(MLP) model: 0.8359\n",
      "Best Logistic Regression model: 0.82\n"
     ]
    }
   ],
   "source": [
    "# Prediction score of the best two models, MLP and logistic regression\n",
    "print('roc_auc scores:')\n",
    "print('Best Neural Network(MLP) model: {}'.format(round(calculate_roc_auc_score(clf_base_nonensemble.best_estimator_,X_valid_transformed, y_valid_transformed),4)))\n",
    "print('Best Logistic Regression model: {}'.format(round(calculate_roc_auc_score(logit,X_valid_transformed, y_valid_transformed),4)))"
   ]
  },
  {
   "cell_type": "markdown",
   "metadata": {},
   "source": [
    "The prediction scores of both model are ***comparable*** to their CV scores."
   ]
  },
  {
   "cell_type": "markdown",
   "metadata": {},
   "source": [
    "##### **Hyperparameter tuning - ensemble models**\n",
    "##### *1) Randomized Search CV*"
   ]
  },
  {
   "cell_type": "code",
   "execution_count": 110,
   "metadata": {},
   "outputs": [
    {
     "name": "stdout",
     "output_type": "stream",
     "text": [
      "Fitting 5 folds for each of 50 candidates, totalling 250 fits\n"
     ]
    },
    {
     "name": "stderr",
     "output_type": "stream",
     "text": [
      "[Parallel(n_jobs=-1)]: Using backend LokyBackend with 8 concurrent workers.\n",
      "[Parallel(n_jobs=-1)]: Done  34 tasks      | elapsed:   43.5s\n",
      "[Parallel(n_jobs=-1)]: Done 184 tasks      | elapsed:  2.5min\n",
      "[Parallel(n_jobs=-1)]: Done 250 out of 250 | elapsed:  4.0min finished\n"
     ]
    },
    {
     "name": "stdout",
     "output_type": "stream",
     "text": [
      "Time elapsed: 4.2 minutes\n"
     ]
    }
   ],
   "source": [
    "## create a pipeline\n",
    "pipe_clf2 = Pipeline([('classifier',AdaBoostClassifier())])\n",
    "\n",
    "## Create dictionary with candidate learning algorithms and their hyperparameters\n",
    "param_space2 =  [{\"classifier\": [AdaBoostClassifier(random_state=15611)],\n",
    "                 'classifier__n_estimators': randint(5,100),\n",
    "                 'classifier__learning_rate': loguniform(0.001, 100),\n",
    "                 'classifier__algorithm': ['SAMME', 'SAMME.R']\n",
    "                },\n",
    "                {\"classifier\": [GradientBoostingClassifier(random_state=15611)],\n",
    "                 'classifier__loss': ['deviance', 'exponential'],\n",
    "                 'classifier__n_estimators': randint(5,100),\n",
    "                 'classifier__learning_rate': loguniform(0.0001, 100),\n",
    "                 'classifier__max_depth': randint(1,20),\n",
    "                 'classifier__max_features': randint(5, X_train.shape[1]+1),\n",
    "                 'classifier__min_samples_split': randint(5, 100),\n",
    "                },\n",
    "                {\"classifier\": [XGBClassifier(random_state=15611,objective='binary:logistic')],\n",
    "                 'classifier__eta':loguniform(0.0001, 100),\n",
    "                 'classifier__gamma': loguniform(0.0001, 100),\n",
    "                 'classifier__max_depth': randint(1,20),\n",
    "                 'classifier__min_child_weight': loguniform(0.01, 100),\n",
    "                 'classifier__max_delta_step':randint(1,10),\n",
    "                 'classifier__subsample':uniform(0,1)\n",
    "                },]\n",
    "\n",
    "# Parameter tuning\n",
    "start = time()\n",
    "clf_base_ensemble = RandomizedSearchCV(estimator = pipe_clf2, \n",
    "                                      param_distributions=param_space2, \n",
    "                                      scoring='roc_auc',\n",
    "                                      n_iter=50,\n",
    "                                      cv=5, \n",
    "                                      verbose=1,\n",
    "                                      n_jobs=-1,\n",
    "                                      random_state = 15611\n",
    "                                      )\n",
    "clf_base_ensemble.fit(X_train_transformed, y_train_transformed)\n",
    "print(f'Time elapsed: {round((time()-start)/60,2)} minutes')"
   ]
  },
  {
   "cell_type": "code",
   "execution_count": 111,
   "metadata": {},
   "outputs": [
    {
     "data": {
      "text/plain": [
       "['clf_base_ensemble_randsearchcv.joblib']"
      ]
     },
     "execution_count": 111,
     "metadata": {},
     "output_type": "execute_result"
    }
   ],
   "source": [
    "joblib.dump(clf_base_ensemble,'clf_base_ensemble_randsearchcv.joblib')\n",
    "# load the save search result\n",
    "# clf_base_ensemble = joblib.load('clf_base_ensemble_randsearchcv.joblib')"
   ]
  },
  {
   "cell_type": "markdown",
   "metadata": {},
   "source": [
    "##### *2) Best estimator*"
   ]
  },
  {
   "cell_type": "code",
   "execution_count": 112,
   "metadata": {},
   "outputs": [
    {
     "name": "stdout",
     "output_type": "stream",
     "text": [
      "Best roc_auc Score: 0.8312\n",
      "Best model and parameters:\n"
     ]
    },
    {
     "data": {
      "text/plain": [
       "{'classifier': GradientBoostingClassifier(learning_rate=0.023178733794695892, max_depth=15,\n",
       "                            max_features=10, min_samples_split=60,\n",
       "                            n_estimators=61, random_state=15611),\n",
       " 'classifier__learning_rate': 0.023178733794695892,\n",
       " 'classifier__loss': 'deviance',\n",
       " 'classifier__max_depth': 15,\n",
       " 'classifier__max_features': 10,\n",
       " 'classifier__min_samples_split': 60,\n",
       " 'classifier__n_estimators': 61}"
      ]
     },
     "execution_count": 112,
     "metadata": {},
     "output_type": "execute_result"
    }
   ],
   "source": [
    "print(f'Best roc_auc Score: {round(clf_base_ensemble.best_score_,4)}')\n",
    "print('Best model and parameters:')\n",
    "clf_base_ensemble.best_params_"
   ]
  },
  {
   "cell_type": "code",
   "execution_count": 113,
   "metadata": {},
   "outputs": [
    {
     "name": "stdout",
     "output_type": "stream",
     "text": [
      "Mean cv scores - Highest: nan from param combination []\n",
      "Mean cv scores - each parameter and model combination:\n"
     ]
    },
    {
     "data": {
      "text/plain": [
       "array([0.82347245, 0.81042847, 0.69888555, 0.68126297, 0.82365606,\n",
       "       0.82912215, 0.78198539, 0.82929109, 0.7992014 , 0.82049674,\n",
       "       0.66968515, 0.75451015, 0.61219434, 0.4722678 , 0.82972937,\n",
       "       0.58663903, 0.80141972, 0.82003076, 0.81633195, 0.80774797,\n",
       "       0.69087928,        nan, 0.5386634 , 0.7995218 , 0.5432449 ,\n",
       "       0.68163729, 0.81028735, 0.53025892, 0.65846101, 0.55286125,\n",
       "       0.83121529, 0.69818353, 0.8295122 , 0.68666837, 0.80720688,\n",
       "       0.71840374, 0.82068318, 0.77831867, 0.82324452, 0.80432318,\n",
       "       0.53121679, 0.81529892, 0.65735513, 0.74427298, 0.75029061,\n",
       "       0.83051441,        nan, 0.68525564, 0.79475782, 0.82784003])"
      ]
     },
     "execution_count": 113,
     "metadata": {},
     "output_type": "execute_result"
    }
   ],
   "source": [
    "print(f\"Mean cv scores - Highest: {clf_base_ensemble.cv_results_['mean_test_score'].max()} \\\n",
    "from param combination {np.where(clf_base_ensemble.cv_results_['mean_test_score'] == clf_base_ensemble.cv_results_['mean_test_score'].max())[0]}\")\n",
    "\n",
    "print('Mean cv scores - each parameter and model combination:')\n",
    "clf_base_ensemble.cv_results_['mean_test_score']"
   ]
  },
  {
   "cell_type": "markdown",
   "metadata": {},
   "source": [
    "**Ranking of the models by CV scores**"
   ]
  },
  {
   "cell_type": "code",
   "execution_count": 121,
   "metadata": {},
   "outputs": [
    {
     "name": "stdout",
     "output_type": "stream",
     "text": [
      "       score                                              model  rank\n",
      "34  0.831566  GradientBoostingClassifier(learning_rate=0.023...     1\n",
      "1   0.831035  XGBClassifier(base_score=None, booster=None, c...     2\n",
      "16  0.830363  XGBClassifier(base_score=None, booster=None, c...     3\n",
      "31  0.830062             AdaBoostClassifier(random_state=15611)     4\n",
      "7   0.829983  XGBClassifier(base_score=None, booster=None, c...     5\n",
      "       score                                              model  rank\n",
      "27  0.534046  XGBClassifier(base_score=None, booster=None, c...    46\n",
      "3   0.499568             AdaBoostClassifier(random_state=15611)    47\n",
      "10       NaN  XGBClassifier(base_score=None, booster=None, c...    48\n",
      "23       NaN             AdaBoostClassifier(random_state=15611)    49\n",
      "30       NaN  GradientBoostingClassifier(learning_rate=0.023...    50\n"
     ]
    }
   ],
   "source": [
    "## best2= pd.DataFrame({'score': list(clf_base_ensemble.cv_results_['mean_test_score'])})\n",
    "best2['model'] = [param['classifier'] for param in clf_base_ensemble.cv_results_['params']]\n",
    "best2 = best2.sort_values('score',ascending=False)\n",
    "best2['rank'] = np.arange(1,best2.shape[0]+1)\n",
    "print(best2.head())\n",
    "print(best2.tail())"
   ]
  },
  {
   "cell_type": "code",
   "execution_count": 115,
   "metadata": {},
   "outputs": [
    {
     "name": "stdout",
     "output_type": "stream",
     "text": [
      "These models were not able to produce scores:\n",
      "Model 10: {'classifier': AdaBoostClassifier(random_state=15611), 'classifier__algorithm': 'SAMME.R', 'classifier__learning_rate': 0.00302439251124323, 'classifier__n_estimators': 26}\n",
      "Model 23: {'classifier': XGBClassifier(base_score=None, booster=None, callbacks=None,\n",
      "              colsample_bylevel=None, colsample_bynode=None,\n",
      "              colsample_bytree=None, early_stopping_rounds=None,\n",
      "              enable_categorical=False, eval_metric=None, gamma=None,\n",
      "              gpu_id=None, grow_policy=None, importance_type=None,\n",
      "              interaction_constraints=None, learning_rate=None, max_bin=None,\n",
      "              max_cat_to_onehot=None, max_delta_step=None, max_depth=None,\n",
      "              max_leaves=None, min_child_weight=None, missing=nan,\n",
      "              monotone_constraints=None, n_estimators=100, n_jobs=None,\n",
      "              num_parallel_tree=None, predictor=None, random_state=15611,\n",
      "              reg_alpha=None, reg_lambda=None, ...), 'classifier__eta': 0.00020034133712712926, 'classifier__gamma': 0.07708841640721964, 'classifier__max_delta_step': 6, 'classifier__max_depth': 9, 'classifier__min_child_weight': 78.1476207392882, 'classifier__subsample': 0.7745175102860238}\n",
      "Model 30: {'classifier': GradientBoostingClassifier(learning_rate=0.023178733794695892, max_depth=15,\n",
      "                           max_features=10, min_samples_split=60,\n",
      "                           n_estimators=61, random_state=15611), 'classifier__learning_rate': 0.023178733794695892, 'classifier__loss': 'deviance', 'classifier__max_depth': 15, 'classifier__max_features': 10, 'classifier__min_samples_split': 60, 'classifier__n_estimators': 61}\n"
     ]
    }
   ],
   "source": [
    "print('These models were not able to produce scores:')\n",
    "print('Model 10:', clf_base_ensemble.cv_results_['params'][10])\n",
    "print('Model 23:', clf_base_ensemble.cv_results_['params'][23])\n",
    "print('Model 30:', clf_base_ensemble.cv_results_['params'][30])"
   ]
  },
  {
   "cell_type": "code",
   "execution_count": 122,
   "metadata": {},
   "outputs": [
    {
     "name": "stdout",
     "output_type": "stream",
     "text": [
      "The best xgbc model (the 2nd best):\n"
     ]
    },
    {
     "data": {
      "text/plain": [
       "{'classifier': XGBClassifier(base_score=None, booster=None, callbacks=None,\n",
       "               colsample_bylevel=None, colsample_bynode=None,\n",
       "               colsample_bytree=None, early_stopping_rounds=None,\n",
       "               enable_categorical=False, eval_metric=None, gamma=None,\n",
       "               gpu_id=None, grow_policy=None, importance_type=None,\n",
       "               interaction_constraints=None, learning_rate=None, max_bin=None,\n",
       "               max_cat_to_onehot=None, max_delta_step=None, max_depth=None,\n",
       "               max_leaves=None, min_child_weight=None, missing=nan,\n",
       "               monotone_constraints=None, n_estimators=100, n_jobs=None,\n",
       "               num_parallel_tree=None, predictor=None, random_state=15611,\n",
       "               reg_alpha=None, reg_lambda=None, ...),\n",
       " 'classifier__eta': 0.008176292007621683,\n",
       " 'classifier__gamma': 0.030531407535197987,\n",
       " 'classifier__max_delta_step': 1,\n",
       " 'classifier__max_depth': 6,\n",
       " 'classifier__min_child_weight': 0.05899108785054837,\n",
       " 'classifier__subsample': 0.39044850319957547}"
      ]
     },
     "execution_count": 122,
     "metadata": {},
     "output_type": "execute_result"
    }
   ],
   "source": [
    "print('The best xgbc model (the 2nd best):')\n",
    "clf_base_ensemble.cv_results_['params'][1]"
   ]
  },
  {
   "cell_type": "code",
   "execution_count": 117,
   "metadata": {},
   "outputs": [],
   "source": [
    "# Best XGBC model (the third best model)\n",
    "xgbc = XGBClassifier(eta=0.00817629200762168, gamma=0.030531407535197987,\n",
    "                    max_delta_step=1, max_depth=6,\n",
    "                    min_child_weight=0.05899108785054837,\n",
    "                    subsample=0.39044850319957547,\n",
    "                    random_state=15611)\n",
    "xgbc.fit(X_train_transformed,y_train_transformed);"
   ]
  },
  {
   "cell_type": "markdown",
   "metadata": {},
   "source": [
    "##### *3) Prediction accuracy*"
   ]
  },
  {
   "cell_type": "code",
   "execution_count": 118,
   "metadata": {},
   "outputs": [
    {
     "name": "stdout",
     "output_type": "stream",
     "text": [
      "roc_auc score of the best GBC model: 0.8241\n",
      "roc_auc score of the best XGBC model: 0.8001\n"
     ]
    }
   ],
   "source": [
    "# Prediction score of the best two models, MLP and logistic regression\n",
    "print('roc_auc score of the best GBC model: {}'.format(round(calculate_roc_auc_score(clf_base_ensemble.best_estimator_,X_valid_transformed, y_valid_transformed),4)))\n",
    "print('roc_auc score of the best XGBC model: {}'.format(round(calculate_roc_auc_score(xgbc,X_valid_transformed, y_valid_transformed),4)))"
   ]
  },
  {
   "cell_type": "markdown",
   "metadata": {},
   "source": [
    "## Learning curve\n",
    "This section will plot the learning curve of the best models identified in the previous section from Model sets 1 and 2. <br>\n",
    "For model set 1, plotting learning curve of Gaussian process model took forever return the plot - as it is shown in the model screening section that it took 156 minutes, compared to a few seconds for the other models (except for SVM RBF kernel 2.6 minutes). Therefore, this section will ommit learning curve of this model. "
   ]
  },
  {
   "cell_type": "code",
   "execution_count": 39,
   "metadata": {},
   "outputs": [],
   "source": [
    "# download from GitHub repository\n",
    "import requests\n",
    "# Save plot_learning_curve as file to colab working directory\n",
    "# Get the \"Raw\" version of the code from GitHub\n",
    "url = 'https://raw.githubusercontent.com/TessieTong/ds4ml/main/plot_learning_curve.py'\n",
    "r = requests.get(url)\n",
    "\n",
    "# Write to Colab working directory \n",
    "with open('plot_learning_curve.py', 'w') as f:\n",
    "    f.write(r.text)\n",
    "\n",
    "# import\n",
    "from plot_learning_curve import plot_learning_curve"
   ]
  },
  {
   "cell_type": "code",
   "execution_count": 123,
   "metadata": {},
   "outputs": [
    {
     "data": {
      "image/png": "[encoded data removed]",
      "text/plain": [
       "<Figure size 1440x864 with 12 Axes>"
      ]
     },
     "metadata": {
      "needs_background": "light"
     },
     "output_type": "display_data"
    }
   ],
   "source": [
    "# Plot learning curves of the 4 best ensemble classifiers\n",
    "from sklearn.model_selection import learning_curve\n",
    "from sklearn.model_selection import ShuffleSplit\n",
    "nrows=3\n",
    "ncols=4\n",
    "fig, axes = plt.subplots(nrows, ncols, figsize=(ncols*5, nrows*4))\n",
    "# Cross validation with 10 iterations\n",
    "# score curves, each time with 20% data randomly selected as a validation set.\n",
    "# Here only the training set is used.\n",
    "cv = ShuffleSplit(n_splits=10, test_size=0.2, random_state=15611)\n",
    "\n",
    "title = r\"Learning Curves (MLPClassifier)\"\n",
    "plot_learning_curve(clf_base_nonensemble.best_estimator_,\n",
    "    title, X_train_transformed, y_train, \n",
    "    axes=axes[:, 0], ylim=(0.7, 1.01), cv=cv, n_jobs=-1)\n",
    "\n",
    "title = r\"Learning Curves (Logistic Regression)\"\n",
    "plot_learning_curve(logit,\n",
    "    title, X_train_transformed, y_train, \n",
    "    axes=axes[:, 1], ylim=(0.7, 1.01), cv=cv, n_jobs=-1)\n",
    "\n",
    "title = r\"Learning Curves (Gradient Boosting)\"\n",
    "plot_learning_curve(clf_base_ensemble.best_estimator_,\n",
    "    title, X_train_transformed, y_train, \n",
    "    axes=axes[:, 2], ylim=(0.7, 1.01), cv=cv, n_jobs=-1)\n",
    "\n",
    "title = r\"Learning Curves (XGBoost)\"\n",
    "plot_learning_curve(xgbc,\n",
    "    title, X_train_transformed, y_train_transformed, \n",
    "    axes=axes[:, 3], ylim=(0.7, 1.01), cv=cv, n_jobs=-1)\n",
    "\n",
    "plt.tight_layout(pad=3.0)\n",
    "plt.show();"
   ]
  },
  {
   "cell_type": "markdown",
   "metadata": {},
   "source": [
    "The MLP models are somewhat underfitting, judging by learning curves. Training score decreases relatively rapidly while cross-validation score climbes slowly, with increasing the number of examples. both Gradient boosting XGBoosting are clearly overfitting. Logistic regression perform just well. "
   ]
  },
  {
   "cell_type": "markdown",
   "metadata": {},
   "source": [
    "## Best predictive model"
   ]
  },
  {
   "cell_type": "code",
   "execution_count": 81,
   "metadata": {},
   "outputs": [
    {
     "name": "stdout",
     "output_type": "stream",
     "text": [
      "Prediction and CV scores of the 5 best models:\n",
      "\n",
      "Model \t\t\tprediction score\tCV score\n",
      "----------------------------------------------------------\n",
      "Neural Net (MLP)\t0.8359\t\t\t0.8342\n",
      "Logit regression\t0.82\t\t\t0.8205\n",
      "Guassian Process\t0.8322\t\t\t0.8319\n",
      "Gradient Boosting\t0.824\t\t\t0.8316\n",
      "XGBoosting      \t0.8239\t\t\t0.8304\n"
     ]
    }
   ],
   "source": [
    "# Best prediction score\n",
    "print('Prediction and CV scores of the 5 best models:\\n')\n",
    "print('Model \\t\\t\\tprediction score\\tCV score')\n",
    "print('----------------------------------------------------------')\n",
    "# Non-ensemble model\n",
    "base_non_roc_auc = calculate_roc_auc_score(clf_base_nonensemble.best_estimator_, X_valid_transformed, y_valid_transformed)\n",
    "print('Neural Net (MLP)\\t{}\\t\\t\\t{}'.format(round(base_non_roc_auc,4),round(clf_base_nonensemble.best_score_,4)))\n",
    "logit_roc_auc = calculate_roc_auc_score(logit, X_valid_transformed,y_valid_transformed) \n",
    "print('Logit regression\\t{}\\t\\t\\t{}'.format(round(logit_roc_auc,4,),round(clf_base_nonensemble.cv_results_['mean_test_score'][0],4)))\n",
    "## Gaussian process  \n",
    "clf_gp_train_roc_auc = calculate_roc_auc_score(screening_results['model']['Gaussian Process'], X_valid_transformed, y_valid_transformed)\n",
    "clf_gp_roc_auc = screening_results['score']['Gaussian Process'] \n",
    "print('Guassian Process\\t{}\\t\\t\\t{}'.format(round(clf_gp_roc_auc,4),round(clf_gp_train_roc_auc,4)))\n",
    "# Ensemble\n",
    "base_ens_roc_auc = calculate_roc_auc_score(clf_base_ensemble.best_estimator_, X_valid_transformed, y_valid_transformed)\n",
    "print('Gradient Boosting\\t{}\\t\\t\\t{}'.format(round(base_ens_roc_auc,4),round(clf_base_ensemble.best_score_,4)))\n",
    "xgbc_roc_auc = calculate_roc_auc_score(xgbc, X_valid_transformed,y_valid_transformed) \n",
    "print('XGBoosting      \\t{}\\t\\t\\t{}'.format(round(xgbc_roc_auc,4),round(clf_base_ensemble.cv_results_['mean_test_score'][16],4)))\n"
   ]
  },
  {
   "cell_type": "code",
   "execution_count": 135,
   "metadata": {},
   "outputs": [],
   "source": [
    "score_best = {'Neural Net':base_non_roc_auc, 'Logistic Regression':logit_roc_auc,'Guassian Process':clf_gp_roc_auc,\n",
    "              'Gradient Boosting':base_ens_roc_auc,'XGBoost':xgbc_roc_auc}\n",
    "model_best = {'Neural Net':clf_base_nonensemble.best_estimator_, \n",
    "              'Logistic Regression':logit,\n",
    "              'Guassian Process':screening_results['model']['Gaussian Process'],\n",
    "              'Gradient Boosting':clf_base_ensemble.best_estimator_,\n",
    "              'XGBoost':xgbc}\n",
    "best_models = {'score':score_best, 'model':model_best}"
   ]
  },
  {
   "cell_type": "code",
   "execution_count": 136,
   "metadata": {},
   "outputs": [
    {
     "data": {
      "text/plain": [
       "['Best base models.joblib']"
      ]
     },
     "execution_count": 136,
     "metadata": {},
     "output_type": "execute_result"
    }
   ],
   "source": [
    "joblib.dump(best_models, 'Best base models.joblib')"
   ]
  },
  {
   "cell_type": "code",
   "execution_count": 80,
   "metadata": {},
   "outputs": [
    {
     "data": {
      "text/plain": [
       "{'classifier': MLPClassifier(activation='tanh', alpha=0.2121879236856809,\n",
       "               learning_rate='invscaling', random_state=15611),\n",
       " 'classifier__activation': 'tanh',\n",
       " 'classifier__alpha': 0.2121879236856809,\n",
       " 'classifier__learning_rate': 'invscaling',\n",
       " 'classifier__solver': 'adam'}"
      ]
     },
     "execution_count": 80,
     "metadata": {},
     "output_type": "execute_result"
    }
   ],
   "source": [
    "# Best model:\n",
    "clf_base_nonensemble.best_params_"
   ]
  },
  {
   "cell_type": "markdown",
   "metadata": {},
   "source": [
    "The ***best predictive model*** is the ***Multi_Layer Perceptron classifier*** from scikit learn's neural_network model, with default ***\"tanh\"*** activation function and ***\"adam\"*** solver, ***\"invscaling\"*** learning rate schedule, and L2 penalty regulization parameter ***alpha = 0.2122***. <br>\n",
    "\n",
    "Ggradient boosting and XGBoosting have almost the same prediction accuracy, which are about 1% point lower than the best models (MLP and Guassian process). Logistic regression is slight lower (0.4% point) than the best ensemble models. <br>"
   ]
  },
  {
   "cell_type": "markdown",
   "metadata": {},
   "source": [
    "## Feature importance\n",
    "### Feature list from pipeline"
   ]
  },
  {
   "cell_type": "code",
   "execution_count": 87,
   "metadata": {},
   "outputs": [],
   "source": [
    "depend = ['dependents']\n",
    "cat_vars = ['gender', 'occupation']#,'branch_code']\n",
    "\n",
    "nw_cat = ['customer_nw_category']\n",
    "bal_vars = ['current_balance', 'current_month_balance', \n",
    "            'previous_month_end_balance','previous_month_balance',\n",
    "            'average_monthly_balance_prevQ', 'average_monthly_balance_prevQ2']\n",
    "debit_vars = ['current_month_debit','previous_month_debit']\n",
    "credit_vars = ['current_month_credit', 'previous_month_credit']\n",
    "\n",
    "target = 'churn'"
   ]
  },
  {
   "cell_type": "code",
   "execution_count": 85,
   "metadata": {},
   "outputs": [
    {
     "data": {
      "text/plain": [
       "(13240, 30)"
      ]
     },
     "execution_count": 85,
     "metadata": {},
     "output_type": "execute_result"
    }
   ],
   "source": [
    "X_train_transformed.shape"
   ]
  },
  {
   "cell_type": "code",
   "execution_count": 88,
   "metadata": {},
   "outputs": [],
   "source": [
    "vars_list = [depend,cat_vars,nw_cat,vin_age_vars,days_br_vars,bal_vars,debit_vars,credit_vars]\n",
    "last_steps = ['ohe_depend','ohe_cat','','scal_base','scal_days_br','scal_bal','scal_debit','scal_credit']"
   ]
  },
  {
   "cell_type": "code",
   "execution_count": 91,
   "metadata": {},
   "outputs": [
    {
     "data": {
      "text/plain": [
       "30"
      ]
     },
     "execution_count": 91,
     "metadata": {},
     "output_type": "execute_result"
    }
   ],
   "source": [
    "# get the features after transformation\n",
    "features_fin = []\n",
    "for key, step, vars in zip(list(pipeline_data.named_transformers_.keys())[:-1], last_steps, vars_list):\n",
    "#     print(key, step, vars)\n",
    "    if key == 'depend':\n",
    "        features_fin.extend(list(pipeline_data.named_transformers_[key][step].get_feature_names() + '_dependents'))\n",
    "    elif key == 'cat_vars':\n",
    "        features_fin.extend(list(pipeline_data.named_transformers_[key][step].get_feature_names()))\n",
    "    elif key == 'ode_nw':\n",
    "        features_fin.extend(list(nw_cat))\n",
    "    else:\n",
    "        features_fin.extend(vars)\n",
    "len(features_fin)"
   ]
  },
  {
   "cell_type": "markdown",
   "metadata": {},
   "source": [
    "### Permutation importance"
   ]
  },
  {
   "cell_type": "code",
   "execution_count": 92,
   "metadata": {},
   "outputs": [],
   "source": [
    "from sklearn.inspection import permutation_importance\n",
    "fpi_train_nonens = permutation_importance(clf_base_nonensemble.best_estimator_, X_train_transformed, y_train_transformed, scoring='roc_auc')\n",
    "fpi_valid_nonens = permutation_importance(clf_base_nonensemble.best_estimator_, X_valid_transformed, y_valid_transformed, scoring='roc_auc')\n",
    "\n",
    "fpi_train_ens = permutation_importance(clf_base_ensemble.best_estimator_, X_train_transformed, y_train_transformed, scoring='roc_auc')\n",
    "fpi_valid_ens = permutation_importance(clf_base_ensemble.best_estimator_, X_valid_transformed, y_valid_transformed, scoring='roc_auc')"
   ]
  },
  {
   "cell_type": "code",
   "execution_count": 102,
   "metadata": {},
   "outputs": [],
   "source": [
    "fpi_valid_nonens = fpi_test_nonens\n",
    "fpi_valid_ens = fpi_test_ens"
   ]
  },
  {
   "cell_type": "code",
   "execution_count": 93,
   "metadata": {},
   "outputs": [
    {
     "data": {
      "text/plain": [
       "array([9.73876252e-04, 1.86295136e-04, 5.50049276e-04, 1.42836518e-04,\n",
       "       1.48334080e-04, 1.39476500e-05, 2.73877228e-05, 2.75077540e-03,\n",
       "       1.68848063e-03, 6.20538168e-04, 3.80825892e-05, 2.66084845e-05,\n",
       "       1.01744210e-03, 4.12074061e-04, 5.82712942e-05, 2.21649677e-03,\n",
       "       2.32942912e-03, 2.35360696e-03, 1.28100336e-03, 1.38472069e-03,\n",
       "       2.13444998e-01, 6.73851506e-02, 3.80021632e-03, 1.20141382e-02,\n",
       "       1.84251259e-01, 4.23380308e-02, 1.94584730e-02, 2.74971736e-03,\n",
       "       4.64007789e-03, 3.61387829e-03])"
      ]
     },
     "execution_count": 93,
     "metadata": {},
     "output_type": "execute_result"
    }
   ],
   "source": [
    "fpi_train_nonens['importances_mean']"
   ]
  },
  {
   "cell_type": "code",
   "execution_count": 137,
   "metadata": {},
   "outputs": [],
   "source": [
    "def plot_feature_importance(fpi,dataset=['train'], model=['regression']):\n",
    "    \"\"\" plot feaute importance\n",
    "        fpi: list of feautre importance lists.\n",
    "        dataset: list of dataset names\n",
    "        model: list of model names\n",
    "    \"\"\"\n",
    "    ncols = len(dataset)\n",
    "    plt.figure(figsize=(ncols*5,4))\n",
    "    for i in range(ncols):\n",
    "        plt.subplot(1,ncols,i+1)\n",
    "        plt.bar(range(len(fpi[i])), fpi[i],1, i)\n",
    "        plt.title(model[i] + ': Feature Importance - ' + dataset[i] + ' set')"
   ]
  },
  {
   "cell_type": "code",
   "execution_count": 138,
   "metadata": {},
   "outputs": [
    {
     "data": {
      "image/png": "[encoded data removed]",
      "text/plain": [
       "<Figure size 720x288 with 2 Axes>"
      ]
     },
     "metadata": {
      "needs_background": "light"
     },
     "output_type": "display_data"
    },
    {
     "data": {
      "image/png": "[encoded data removed]",
      "text/plain": [
       "<Figure size 720x288 with 2 Axes>"
      ]
     },
     "metadata": {
      "needs_background": "light"
     },
     "output_type": "display_data"
    }
   ],
   "source": [
    "plot_feature_importance([fpi_train_nonens['importances_mean'], fpi_train_ens['importances_mean']], dataset=['train']*2, model=['MLP', 'GBC'])\n",
    "plot_feature_importance([fpi_valid_nonens['importances_mean'], fpi_valid_ens['importances_mean']], dataset=['validation']*2, model=['MLP', 'GBC'])"
   ]
  },
  {
   "cell_type": "code",
   "execution_count": 106,
   "metadata": {},
   "outputs": [],
   "source": [
    "feat_importances = pd.DataFrame.from_dict({'features':features_fin,\n",
    "             'MLP_train':fpi_train_nonens['importances_mean'],\n",
    "             'MLP_valid':fpi_valid_nonens['importances_mean'],\n",
    "             'GBC_train':fpi_train_ens['importances_mean'],\n",
    "             'GBC_valid':fpi_valid_ens['importances_mean']}).sort_values(['MLP_valid'],ascending=False)"
   ]
  },
  {
   "cell_type": "code",
   "execution_count": 107,
   "metadata": {},
   "outputs": [
    {
     "name": "stdout",
     "output_type": "stream",
     "text": [
      "(13, 5)\n"
     ]
    },
    {
     "data": {
      "text/html": [
       "<div>\n",
       "<style scoped>\n",
       "    .dataframe tbody tr th:only-of-type {\n",
       "        vertical-align: middle;\n",
       "    }\n",
       "\n",
       "    .dataframe tbody tr th {\n",
       "        vertical-align: top;\n",
       "    }\n",
       "\n",
       "    .dataframe thead th {\n",
       "        text-align: right;\n",
       "    }\n",
       "</style>\n",
       "<table border=\"1\" class=\"dataframe\">\n",
       "  <thead>\n",
       "    <tr style=\"text-align: right;\">\n",
       "      <th></th>\n",
       "      <th>features</th>\n",
       "      <th>MLP_train</th>\n",
       "      <th>MLP_valid</th>\n",
       "      <th>GBC_train</th>\n",
       "      <th>GBC_valid</th>\n",
       "    </tr>\n",
       "  </thead>\n",
       "  <tbody>\n",
       "    <tr>\n",
       "      <th>20</th>\n",
       "      <td>current_balance</td>\n",
       "      <td>0.213445</td>\n",
       "      <td>0.200993</td>\n",
       "      <td>0.198901</td>\n",
       "      <td>0.145589</td>\n",
       "    </tr>\n",
       "    <tr>\n",
       "      <th>24</th>\n",
       "      <td>average_monthly_balance_prevQ</td>\n",
       "      <td>0.184251</td>\n",
       "      <td>0.195772</td>\n",
       "      <td>0.062313</td>\n",
       "      <td>0.057100</td>\n",
       "    </tr>\n",
       "    <tr>\n",
       "      <th>21</th>\n",
       "      <td>current_month_balance</td>\n",
       "      <td>0.067385</td>\n",
       "      <td>0.067447</td>\n",
       "      <td>0.059468</td>\n",
       "      <td>0.055262</td>\n",
       "    </tr>\n",
       "    <tr>\n",
       "      <th>25</th>\n",
       "      <td>average_monthly_balance_prevQ2</td>\n",
       "      <td>0.042338</td>\n",
       "      <td>0.034687</td>\n",
       "      <td>0.038402</td>\n",
       "      <td>0.023968</td>\n",
       "    </tr>\n",
       "    <tr>\n",
       "      <th>26</th>\n",
       "      <td>current_month_debit</td>\n",
       "      <td>0.019458</td>\n",
       "      <td>0.019143</td>\n",
       "      <td>0.044245</td>\n",
       "      <td>0.021654</td>\n",
       "    </tr>\n",
       "    <tr>\n",
       "      <th>23</th>\n",
       "      <td>previous_month_balance</td>\n",
       "      <td>0.012014</td>\n",
       "      <td>0.005270</td>\n",
       "      <td>0.044711</td>\n",
       "      <td>0.038416</td>\n",
       "    </tr>\n",
       "    <tr>\n",
       "      <th>16</th>\n",
       "      <td>vintage</td>\n",
       "      <td>0.002329</td>\n",
       "      <td>0.003213</td>\n",
       "      <td>0.011014</td>\n",
       "      <td>0.000867</td>\n",
       "    </tr>\n",
       "    <tr>\n",
       "      <th>28</th>\n",
       "      <td>current_month_credit</td>\n",
       "      <td>0.004640</td>\n",
       "      <td>0.003114</td>\n",
       "      <td>0.016368</td>\n",
       "      <td>0.004630</td>\n",
       "    </tr>\n",
       "    <tr>\n",
       "      <th>8</th>\n",
       "      <td>x0_Male</td>\n",
       "      <td>0.001688</td>\n",
       "      <td>0.002626</td>\n",
       "      <td>0.000244</td>\n",
       "      <td>0.000141</td>\n",
       "    </tr>\n",
       "    <tr>\n",
       "      <th>22</th>\n",
       "      <td>previous_month_end_balance</td>\n",
       "      <td>0.003800</td>\n",
       "      <td>0.002056</td>\n",
       "      <td>0.017165</td>\n",
       "      <td>0.008127</td>\n",
       "    </tr>\n",
       "    <tr>\n",
       "      <th>15</th>\n",
       "      <td>customer_nw_category</td>\n",
       "      <td>0.002216</td>\n",
       "      <td>0.001599</td>\n",
       "      <td>0.001545</td>\n",
       "      <td>0.001006</td>\n",
       "    </tr>\n",
       "    <tr>\n",
       "      <th>7</th>\n",
       "      <td>x0_Female</td>\n",
       "      <td>0.002751</td>\n",
       "      <td>0.001566</td>\n",
       "      <td>0.000162</td>\n",
       "      <td>0.000031</td>\n",
       "    </tr>\n",
       "    <tr>\n",
       "      <th>9</th>\n",
       "      <td>x1_Accountant</td>\n",
       "      <td>0.000621</td>\n",
       "      <td>0.001061</td>\n",
       "      <td>0.000529</td>\n",
       "      <td>0.000067</td>\n",
       "    </tr>\n",
       "  </tbody>\n",
       "</table>\n",
       "</div>"
      ],
      "text/plain": [
       "                          features  MLP_train  MLP_valid  GBC_train  GBC_valid\n",
       "20                 current_balance   0.213445   0.200993   0.198901   0.145589\n",
       "24   average_monthly_balance_prevQ   0.184251   0.195772   0.062313   0.057100\n",
       "21           current_month_balance   0.067385   0.067447   0.059468   0.055262\n",
       "25  average_monthly_balance_prevQ2   0.042338   0.034687   0.038402   0.023968\n",
       "26             current_month_debit   0.019458   0.019143   0.044245   0.021654\n",
       "23          previous_month_balance   0.012014   0.005270   0.044711   0.038416\n",
       "16                         vintage   0.002329   0.003213   0.011014   0.000867\n",
       "28            current_month_credit   0.004640   0.003114   0.016368   0.004630\n",
       "8                          x0_Male   0.001688   0.002626   0.000244   0.000141\n",
       "22      previous_month_end_balance   0.003800   0.002056   0.017165   0.008127\n",
       "15            customer_nw_category   0.002216   0.001599   0.001545   0.001006\n",
       "7                        x0_Female   0.002751   0.001566   0.000162   0.000031\n",
       "9                    x1_Accountant   0.000621   0.001061   0.000529   0.000067"
      ]
     },
     "execution_count": 107,
     "metadata": {},
     "output_type": "execute_result"
    }
   ],
   "source": [
    "print(feat_importances[feat_importances['MLP_valid']>=0.001].shape)\n",
    "feat_importances[feat_importances['MLP_valid']>=0.001]"
   ]
  },
  {
   "cell_type": "code",
   "execution_count": 108,
   "metadata": {},
   "outputs": [
    {
     "data": {
      "image/png": "[encoded data removed]",
      "text/plain": [
       "<Figure size 720x288 with 2 Axes>"
      ]
     },
     "metadata": {
      "needs_background": "light"
     },
     "output_type": "display_data"
    },
    {
     "data": {
      "image/png": "[encoded data removed]",
      "text/plain": [
       "<Figure size 720x288 with 2 Axes>"
      ]
     },
     "metadata": {
      "needs_background": "light"
     },
     "output_type": "display_data"
    }
   ],
   "source": [
    "idx = feat_importances[feat_importances['MLP_valid']>=0.001].index\n",
    "plot_feature_importance(fpi_train_nonens['importances_mean'][idx], fpi_valid_nonens['importances_mean'][idx], dataset=['train','validation'], model='MLP')\n",
    "plot_feature_importance(fpi_train_ens['importances_mean'][idx], fpi_valid_ens['importances_mean'][idx], dataset=['train','validdation'], model='GBC')"
   ]
  },
  {
   "cell_type": "markdown",
   "metadata": {},
   "source": [
    "The above dataframe and bar plot shows the 13 most important features in predicting the churn. We could use these features to further train the model and evaluate the effects of feature selection on performace of the candidate models. <br>\n",
    "\n",
    "They also showes that the most importance feature are similar for both MLP and GBC models, although the acture values of th eimportance may differ. <br>"
   ]
  },
  {
   "cell_type": "markdown",
   "metadata": {},
   "source": [
    "## Save the best model"
   ]
  },
  {
   "cell_type": "code",
   "execution_count": 109,
   "metadata": {},
   "outputs": [
    {
     "data": {
      "text/plain": [
       "['Best base churn classifier.joblib']"
      ]
     },
     "execution_count": 109,
     "metadata": {},
     "output_type": "execute_result"
    }
   ],
   "source": [
    "joblib.dump(clf_base_nonensemble.best_estimator_, 'Best base churn classifier.joblib')"
   ]
  }
 ],
 "metadata": {
  "kernelspec": {
   "display_name": "Python 3",
   "language": "python",
   "name": "python3"
  },
  "language_info": {
   "codemirror_mode": {
    "name": "ipython",
    "version": 3
   },
   "file_extension": ".py",
   "mimetype": "text/x-python",
   "name": "python",
   "nbconvert_exporter": "python",
   "pygments_lexer": "ipython3",
   "version": "3.8.5"
  }
 },
 "nbformat": 4,
 "nbformat_minor": 4
}
